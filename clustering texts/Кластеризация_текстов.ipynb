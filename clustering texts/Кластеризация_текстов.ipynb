{
  "nbformat": 4,
  "nbformat_minor": 0,
  "metadata": {
    "kernelspec": {
      "display_name": "Python 3",
      "language": "python",
      "name": "python3"
    },
    "language_info": {
      "codemirror_mode": {
        "name": "ipython",
        "version": 3
      },
      "file_extension": ".py",
      "mimetype": "text/x-python",
      "name": "python",
      "nbconvert_exporter": "python",
      "pygments_lexer": "ipython3",
      "version": "3.7.3"
    },
    "colab": {
      "name": "Кластеризация текстов",
      "provenance": [],
      "collapsed_sections": []
    }
  },
  "cells": [
    {
      "cell_type": "markdown",
      "metadata": {
        "id": "fzOJzwdjzLX9"
      },
      "source": [
        "# Кластеризация текстов"
      ]
    },
    {
      "cell_type": "code",
      "metadata": {
        "id": "ARxFCRfLzLX-"
      },
      "source": [
        "import warnings\n",
        "warnings.filterwarnings('ignore')"
      ],
      "execution_count": null,
      "outputs": []
    },
    {
      "cell_type": "markdown",
      "metadata": {
        "id": "NFNBTJQwzLX_"
      },
      "source": [
        "## Выборка"
      ]
    },
    {
      "cell_type": "markdown",
      "metadata": {
        "id": "ofQbZhQK0wqh"
      },
      "source": [
        "Выборка 20newsgroups представляет из себя письма на разные темы"
      ]
    },
    {
      "cell_type": "code",
      "metadata": {
        "id": "i52lNEbYzLX_",
        "outputId": "b22ad377-71f0-4fe5-83aa-74e1a4047a42"
      },
      "source": [
        "#Загружаем и считываем данные\n",
        "from sklearn.datasets import fetch_20newsgroups\n",
        "\n",
        "train_all = fetch_20newsgroups(subset='train')\n",
        "print(train_all.target_names)"
      ],
      "execution_count": null,
      "outputs": [
        {
          "output_type": "stream",
          "text": [
            "['alt.atheism', 'comp.graphics', 'comp.os.ms-windows.misc', 'comp.sys.ibm.pc.hardware', 'comp.sys.mac.hardware', 'comp.windows.x', 'misc.forsale', 'rec.autos', 'rec.motorcycles', 'rec.sport.baseball', 'rec.sport.hockey', 'sci.crypt', 'sci.electronics', 'sci.med', 'sci.space', 'soc.religion.christian', 'talk.politics.guns', 'talk.politics.mideast', 'talk.politics.misc', 'talk.religion.misc']\n"
          ],
          "name": "stdout"
        }
      ]
    },
    {
      "cell_type": "code",
      "metadata": {
        "id": "nbs9YkMFzLYA"
      },
      "source": [
        "#Выберем для кластеризации 3 темы, которые точно должны отличаться друг от друга\n",
        "simple_dataset = fetch_20newsgroups(\n",
        "    subset='train', \n",
        "    categories=['comp.sys.mac.hardware', 'soc.religion.christian', 'rec.sport.hockey'])"
      ],
      "execution_count": null,
      "outputs": []
    },
    {
      "cell_type": "code",
      "metadata": {
        "id": "k1JLB-0MzLYB",
        "outputId": "f9c01b23-6fd1-4591-8e77-1a560e9a1e40"
      },
      "source": [
        "#Выведем первое письмо\n",
        "print(simple_dataset.data[0])"
      ],
      "execution_count": null,
      "outputs": [
        {
          "output_type": "stream",
          "text": [
            "From: erik@cheshire.oxy.edu (Erik Adams)\n",
            "Subject: HELP!!  My Macintosh \"luggable\" has lines on its screen!\n",
            "Organization: Occidental College, Los Angeles, CA 90041 USA.\n",
            "Distribution: comp\n",
            "Lines: 20\n",
            "\n",
            "Okay, I don't use it very much, but I would like for it to keep working\n",
            "correctly, at least as long as Apple continues to make System software\n",
            "that will run on it, if slowly :-)\n",
            "\n",
            "Here is the problem:  When the screen is tilted too far back, vertical\n",
            "lines appear on the screen.  They are every 10 pixels or so, and seem\n",
            "to be affected somewhat by opening windows and pulling down menus.\n",
            "It looks to a semi-technical person like there is a loose connection\n",
            "between the screen and the rest of the computer.\n",
            "\n",
            "I am open to suggestions that do not involve buying a new computer,\n",
            "or taking this one to the shop.  I would also like to not have\n",
            "to buy one of Larry Pina's books.  I like Larry, but I'm not sure\n",
            "I feel strongly enough about the computer to buy a service manual\n",
            "for it.\n",
            "\n",
            "On a related note:  what does the monitor connector connect to?\n",
            "\n",
            "Erik\n",
            "\n",
            "\n"
          ],
          "name": "stdout"
        }
      ]
    },
    {
      "cell_type": "code",
      "metadata": {
        "id": "L1MJB1R3zLYB",
        "outputId": "d78a67a5-48fe-4ad7-e045-a64270c8bf69"
      },
      "source": [
        "simple_dataset.target"
      ],
      "execution_count": null,
      "outputs": [
        {
          "output_type": "execute_result",
          "data": {
            "text/plain": [
              "array([0, 0, 1, ..., 0, 1, 2])"
            ]
          },
          "metadata": {
            "tags": []
          },
          "execution_count": 43
        }
      ]
    },
    {
      "cell_type": "code",
      "metadata": {
        "id": "Rcna9gj5zLYC",
        "outputId": "0c18f387-ccf8-42aa-e8a3-47e073afa7be"
      },
      "source": [
        "print(simple_dataset.data[-1])"
      ],
      "execution_count": null,
      "outputs": [
        {
          "output_type": "stream",
          "text": [
            "From: dlecoint@garnet.acns.fsu.edu (Darius_Lecointe)\n",
            "Subject: Re: Sabbath Admissions 5of5\n",
            "Organization: Florida State University\n",
            "Lines: 21\n",
            "\n",
            "I find it interesting that cls never answered any of the questions posed. \n",
            "Then he goes on the make statements which make me shudder.  He has\n",
            "established a two-tiered God.  One set of rules for the Jews (his people)\n",
            "and another set for the saved Gentiles (his people).  Why would God\n",
            "discriminate?  Does the Jew who accepts Jesus now have to live under the\n",
            "Gentile rules.\n",
            "\n",
            "God has one set of rules for all his people.  Paul was never against the\n",
            "law.  In fact he says repeatedly that faith establishes rather that annuls\n",
            "the law.  Paul's point is germane to both Jews and Greeks.  The Law can\n",
            "never be used as an instrument of salvation.  And please do not combine\n",
            "the ceremonial and moral laws in one.\n",
            "\n",
            "In Matt 5:14-19 Christ plainly says what He came to do and you say He was\n",
            "only saying that for the Jews's benefit.  Your Christ must be a\n",
            "politician, speaking from both sides of His mouth.  As Paul said, \"I have\n",
            "not so learned Christ.\"  Forget all the theology, just do what Jesus says.\n",
            " Your excuses will not hold up in a court of law on earth, far less in\n",
            "God's judgement hall.\n",
            "\n",
            "Darius\n",
            "\n"
          ],
          "name": "stdout"
        }
      ]
    },
    {
      "cell_type": "code",
      "metadata": {
        "id": "-TpicUZ7zLYD",
        "outputId": "f8aad352-08c2-4b3d-c674-3928624f3fab"
      },
      "source": [
        "print(simple_dataset.data[-2])"
      ],
      "execution_count": null,
      "outputs": [
        {
          "output_type": "stream",
          "text": [
            "From: scialdone@nssdca.gsfc.nasa.gov (John Scialdone)\n",
            "Subject: CUT Vukota and Pilon!!!\n",
            "News-Software: VAX/VMS VNEWS 1.41    \n",
            "Organization: NASA - Goddard Space Flight Center\n",
            "Lines: 32\n",
            "\n",
            "I have been to all 3 Isles/Caps tilts at the Crap Centre this year, all Isles\n",
            "wins and there is no justification for Vukota and Pilon to play for the Isles.\n",
            "Vukota is absolutely the worst puck handler in the world!! He couldn't hit a\n",
            "bull in the ass with a banjo!! Al must remember a few years back when Mick \n",
            "scored 3 goals in one period against the Caps in a 5-3 Isles win. I was there\n",
            "and was astonished as was the rest of the crowd. Wake-up Al!!! Years later he's\n",
            "gotten worse. He's a cheap shot artist and always ends up getting\n",
            "stupid/senseless penalties. I think he would make a good police officier!!!\n",
            "\n",
            "As for Pilon, he can't carry the puck out to center ice by himself. He either\n",
            "makes a bad pass resulting in a turnover, or he attempts to bring the puck \n",
            "towards the neutral zone and skates right into an opposing skater. He can't\n",
            "stay on his skates with most forwards or centers. He either falls down or \n",
            "committs a penalty. Call up somebody from Capital District AL!!!!!\n",
            "\n",
            "As far as the playoffs, the Isles are as difficult to figure out as the Caps.\n",
            "Two good teams with talent but so inconsistent. They should meet in the first\n",
            "round. The Isles seem to play up to the level of their competition so they\n",
            "should play well against Jersey tonite. It'll probably be another tight 1-goal\n",
            "game as the last 20 games hve been for the Isles. I wish when the get a lead\n",
            "they could continue to pour it on instead of settling back into a defensive\n",
            "shell and letting the opposition get back in the game. Al MUST understand he\n",
            "can't do with this team what he did with the 80-83 Isles. maybe Al should got\n",
            "to. Where is Bobby Nystrom?? Clark Gilles?? John Tonelli?? These are the kind\n",
            "of young minds we need behing the bench!!    FIRE AL!!!!\n",
            "\n",
            "John Scialdone\n",
            "SCIALDONE@NSSDCA.GSFC.NASA.GOV\n",
            "\n",
            "**********When your ship comes in, first man takes the Sail********************\n",
            "\n",
            "\n",
            "\n"
          ],
          "name": "stdout"
        }
      ]
    },
    {
      "cell_type": "markdown",
      "metadata": {
        "id": "sTprDSEv1dnq"
      },
      "source": [
        "Видим, что письма действительно на разные темы"
      ]
    },
    {
      "cell_type": "code",
      "metadata": {
        "id": "BIHTLn2HzLYE",
        "outputId": "8dc27383-5dd0-485d-82d3-39a8ed57a903"
      },
      "source": [
        "#Посмотрим размер выборки\n",
        "print(len(simple_dataset.data))"
      ],
      "execution_count": null,
      "outputs": [
        {
          "output_type": "stream",
          "text": [
            "1777\n"
          ],
          "name": "stdout"
        }
      ]
    },
    {
      "cell_type": "markdown",
      "metadata": {
        "id": "NQNcy1dszLYF"
      },
      "source": [
        "## Признаки"
      ]
    },
    {
      "cell_type": "code",
      "metadata": {
        "id": "8YR-A5fRzLYF"
      },
      "source": [
        "#Векторизуем письма\n",
        "from sklearn.feature_extraction.text import CountVectorizer, TfidfVectorizer\n",
        "\n",
        "vectorizer = TfidfVectorizer(max_df=500, min_df=10) #максимальную и минимальную частоту слов\n",
        "matrix = vectorizer.fit_transform(simple_dataset.data)"
      ],
      "execution_count": null,
      "outputs": []
    },
    {
      "cell_type": "code",
      "metadata": {
        "id": "od5bI27yzLYG",
        "outputId": "c28e8fcb-ed32-4cbd-a998-d18d5e9e549b"
      },
      "source": [
        "#Посмотрим на размер матрицы\n",
        "print(matrix.shape)"
      ],
      "execution_count": null,
      "outputs": [
        {
          "output_type": "stream",
          "text": [
            "(1777, 3767)\n"
          ],
          "name": "stdout"
        }
      ]
    },
    {
      "cell_type": "markdown",
      "metadata": {
        "id": "Csx-xuZAzLYG"
      },
      "source": [
        "## Аггломеративная кластеризация"
      ]
    },
    {
      "cell_type": "code",
      "metadata": {
        "id": "WzUGyeDTzLYG"
      },
      "source": [
        "from sklearn.cluster.hierarchical import AgglomerativeClustering\n",
        "\n",
        "model = AgglomerativeClustering(n_clusters=3, affinity='cosine', linkage='complete')\n",
        "preds = model.fit_predict(matrix.toarray())"
      ],
      "execution_count": null,
      "outputs": []
    },
    {
      "cell_type": "code",
      "metadata": {
        "scrolled": false,
        "id": "jKWNKMflzLYH",
        "outputId": "b11031c3-e118-4fe6-f871-01cb798aba67"
      },
      "source": [
        "print(list(preds))"
      ],
      "execution_count": null,
      "outputs": [
        {
          "output_type": "stream",
          "text": [
            "[0, 0, 0, 0, 0, 0, 0, 0, 0, 0, 0, 0, 0, 0, 0, 0, 0, 0, 0, 0, 0, 0, 0, 0, 0, 0, 0, 0, 0, 0, 0, 0, 0, 0, 0, 0, 0, 0, 0, 0, 2, 0, 0, 0, 0, 0, 0, 0, 0, 0, 0, 0, 0, 0, 0, 0, 0, 0, 0, 0, 0, 0, 0, 0, 0, 0, 0, 0, 0, 0, 0, 0, 0, 0, 0, 0, 0, 0, 0, 0, 0, 0, 1, 2, 0, 0, 0, 0, 0, 0, 0, 0, 0, 0, 0, 0, 0, 0, 0, 0, 0, 0, 0, 0, 0, 0, 0, 0, 2, 0, 0, 0, 0, 0, 0, 1, 0, 0, 0, 0, 0, 0, 0, 0, 0, 0, 0, 0, 0, 0, 0, 0, 0, 0, 0, 2, 0, 0, 0, 0, 0, 0, 0, 0, 0, 0, 0, 0, 0, 0, 0, 0, 0, 0, 0, 0, 0, 2, 0, 0, 0, 0, 0, 0, 0, 0, 0, 0, 0, 0, 0, 0, 0, 0, 0, 0, 0, 0, 0, 0, 0, 0, 0, 0, 0, 0, 0, 0, 0, 0, 0, 0, 0, 0, 0, 0, 0, 0, 0, 0, 0, 0, 0, 0, 0, 0, 0, 0, 0, 0, 0, 0, 2, 0, 0, 0, 0, 0, 2, 0, 0, 0, 0, 0, 0, 0, 0, 0, 2, 0, 0, 0, 0, 0, 0, 0, 0, 0, 0, 0, 0, 0, 0, 0, 0, 0, 0, 0, 0, 0, 0, 0, 2, 0, 0, 0, 0, 0, 0, 0, 0, 0, 0, 0, 0, 0, 0, 0, 0, 0, 0, 0, 0, 0, 0, 0, 0, 0, 0, 0, 0, 0, 0, 0, 0, 0, 0, 0, 0, 0, 0, 0, 0, 0, 0, 0, 0, 0, 0, 0, 0, 0, 0, 0, 0, 0, 0, 0, 0, 0, 0, 0, 0, 0, 0, 0, 0, 0, 0, 0, 0, 0, 0, 0, 0, 0, 0, 0, 0, 0, 0, 0, 0, 0, 0, 0, 0, 0, 0, 0, 0, 0, 0, 0, 0, 0, 0, 0, 0, 0, 0, 0, 0, 1, 0, 0, 0, 0, 0, 0, 1, 0, 0, 0, 0, 0, 0, 2, 0, 0, 0, 0, 0, 0, 0, 0, 0, 0, 0, 0, 0, 0, 0, 0, 0, 0, 0, 0, 0, 0, 0, 0, 0, 0, 0, 0, 0, 0, 0, 0, 0, 0, 0, 0, 0, 0, 0, 0, 0, 0, 0, 0, 0, 0, 0, 0, 0, 0, 0, 0, 0, 0, 0, 0, 0, 0, 0, 0, 0, 2, 0, 0, 0, 0, 0, 0, 0, 0, 0, 0, 0, 0, 0, 0, 0, 0, 0, 0, 0, 0, 0, 0, 2, 0, 0, 0, 0, 0, 0, 0, 0, 0, 0, 0, 0, 0, 0, 0, 0, 0, 0, 0, 0, 0, 0, 0, 0, 0, 0, 0, 0, 0, 0, 0, 0, 0, 0, 0, 2, 0, 0, 0, 0, 0, 0, 0, 0, 0, 0, 0, 0, 0, 0, 0, 0, 0, 0, 0, 0, 0, 0, 1, 0, 0, 0, 0, 0, 0, 0, 0, 0, 0, 0, 0, 0, 0, 0, 0, 0, 0, 0, 0, 0, 0, 0, 0, 0, 0, 0, 0, 0, 0, 0, 0, 0, 0, 0, 0, 0, 0, 0, 0, 0, 0, 0, 0, 0, 0, 0, 0, 0, 0, 0, 0, 0, 0, 0, 0, 0, 0, 0, 0, 0, 0, 0, 0, 0, 0, 0, 0, 0, 0, 0, 0, 0, 0, 0, 0, 0, 0, 0, 0, 0, 0, 2, 0, 0, 2, 0, 0, 0, 0, 0, 0, 0, 0, 0, 0, 0, 0, 0, 0, 0, 0, 0, 0, 0, 0, 0, 0, 0, 0, 0, 0, 0, 0, 0, 0, 0, 0, 0, 0, 0, 2, 0, 0, 0, 0, 0, 0, 0, 0, 0, 0, 0, 0, 0, 0, 0, 0, 0, 0, 0, 0, 0, 0, 0, 2, 0, 0, 0, 0, 0, 0, 0, 0, 0, 0, 0, 0, 0, 0, 0, 0, 0, 0, 0, 0, 0, 0, 0, 0, 0, 0, 1, 0, 0, 0, 0, 0, 0, 0, 0, 2, 0, 0, 0, 0, 0, 0, 0, 0, 0, 1, 0, 0, 0, 0, 0, 0, 0, 0, 0, 0, 0, 0, 0, 0, 0, 0, 0, 0, 0, 0, 0, 0, 0, 0, 0, 0, 0, 0, 0, 0, 0, 0, 0, 0, 0, 0, 0, 0, 0, 0, 0, 0, 0, 0, 0, 0, 0, 0, 0, 0, 1, 0, 0, 0, 0, 0, 0, 2, 0, 0, 0, 0, 0, 0, 0, 0, 0, 0, 0, 0, 0, 0, 0, 0, 0, 0, 0, 0, 0, 0, 0, 0, 0, 0, 0, 2, 0, 0, 0, 0, 0, 0, 0, 0, 0, 0, 0, 0, 0, 0, 0, 0, 0, 0, 0, 0, 0, 0, 0, 0, 0, 0, 0, 0, 0, 0, 0, 0, 0, 0, 1, 0, 0, 0, 2, 0, 0, 0, 0, 0, 0, 0, 0, 0, 0, 0, 0, 0, 0, 0, 0, 0, 0, 0, 0, 0, 0, 0, 0, 0, 0, 0, 0, 0, 0, 0, 0, 0, 0, 0, 0, 0, 0, 0, 0, 0, 0, 0, 0, 0, 0, 0, 0, 0, 0, 0, 0, 0, 0, 0, 0, 0, 0, 0, 0, 0, 2, 0, 0, 0, 0, 0, 0, 0, 0, 0, 0, 0, 0, 0, 0, 0, 0, 0, 0, 0, 0, 0, 0, 0, 2, 0, 0, 0, 0, 0, 0, 0, 0, 0, 0, 0, 0, 0, 0, 0, 0, 0, 0, 0, 0, 0, 0, 0, 0, 0, 0, 0, 0, 2, 0, 0, 0, 0, 0, 1, 0, 0, 0, 0, 0, 0, 0, 0, 0, 0, 0, 0, 0, 0, 0, 0, 0, 2, 0, 0, 0, 0, 0, 0, 0, 0, 0, 0, 0, 0, 1, 0, 0, 0, 0, 0, 0, 0, 0, 0, 0, 0, 0, 0, 0, 0, 0, 0, 0, 0, 0, 0, 0, 0, 0, 0, 0, 0, 0, 0, 0, 0, 0, 0, 0, 0, 0, 0, 0, 0, 0, 0, 0, 0, 0, 0, 0, 0, 0, 0, 0, 0, 0, 0, 0, 0, 0, 0, 0, 0, 0, 0, 0, 0, 0, 0, 0, 0, 0, 0, 0, 0, 0, 0, 0, 0, 0, 0, 0, 0, 0, 0, 0, 0, 0, 0, 0, 0, 0, 0, 0, 0, 0, 2, 0, 0, 0, 0, 0, 0, 0, 0, 0, 0, 0, 0, 2, 0, 0, 0, 0, 0, 0, 0, 0, 0, 0, 0, 0, 0, 0, 0, 0, 0, 0, 0, 0, 0, 0, 0, 0, 0, 0, 0, 0, 0, 0, 0, 0, 0, 0, 0, 0, 0, 0, 0, 0, 2, 0, 0, 0, 0, 0, 0, 0, 0, 0, 0, 0, 0, 0, 0, 0, 0, 0, 0, 0, 0, 0, 0, 0, 0, 0, 0, 0, 0, 0, 0, 0, 0, 0, 0, 0, 0, 0, 0, 0, 0, 0, 0, 0, 0, 0, 0, 0, 0, 0, 0, 0, 0, 0, 0, 0, 0, 0, 0, 0, 0, 0, 0, 0, 0, 0, 0, 0, 0, 0, 0, 0, 0, 0, 0, 0, 0, 0, 0, 0, 0, 0, 0, 0, 0, 0, 0, 0, 0, 0, 0, 0, 0, 0, 0, 0, 0, 0, 0, 0, 0, 0, 0, 0, 0, 0, 0, 0, 0, 0, 0, 0, 0, 0, 0, 0, 0, 0, 0, 0, 0, 0, 0, 0, 0, 0, 0, 0, 0, 0, 0, 0, 2, 0, 0, 0, 0, 0, 0, 0, 0, 0, 0, 0, 0, 0, 0, 0, 0, 0, 0, 0, 0, 1, 0, 0, 0, 0, 0, 0, 0, 0, 2, 0, 0, 0, 0, 0, 0, 0, 0, 0, 0, 0, 0, 0, 0, 0, 0, 1, 0, 2, 0, 0, 0, 0, 0, 0, 0, 0, 0, 0, 0, 0, 0, 0, 0, 0, 0, 2, 0, 0, 0, 0, 0, 0, 0, 0, 0, 0, 0, 0, 0, 0, 0, 0, 0, 0, 0, 0, 0, 1, 0, 0, 0, 0, 0, 0, 0, 0, 0, 0, 0, 0, 0, 0, 0, 0, 0, 0, 0, 0, 0, 0, 0, 0, 0, 0, 0, 2, 0, 0, 0, 0, 0, 0, 0, 0, 0, 0, 0, 0, 0, 0, 0, 0, 0, 0, 0, 0, 0, 0, 0, 0, 0, 0, 0, 0, 0, 0, 0, 0, 0, 0, 0, 0, 0, 0, 0, 1, 0, 0, 0, 0, 0, 0, 0, 0, 0, 0, 0, 0, 0, 0, 0, 0, 0, 0, 0, 0, 0, 0, 0, 0, 0, 0, 0, 0, 0, 0, 0, 0, 0, 0, 0, 0, 0, 0, 0, 0, 0, 0, 0, 0, 0, 0, 0, 0, 0, 0, 0, 0, 0, 0, 0, 0, 0, 0, 0, 0, 0, 0, 0, 0, 0, 0, 0, 0, 0, 0, 0, 0, 0, 0, 0, 0, 0, 0, 0, 0, 0, 2, 0, 0, 1, 0, 0, 0, 0, 0, 0, 0, 0, 0, 0, 0, 2, 0, 0, 0, 1, 0, 0, 0, 0, 0, 0, 0, 0, 0, 0, 0, 0, 0, 0, 0, 0, 0, 0, 0, 0, 0, 0, 0, 0, 0, 0, 0, 0, 0, 0, 0, 0, 0, 1, 0, 0, 0, 0, 0, 0, 0, 0, 0, 0, 0, 0, 0, 0, 0, 0, 0, 0, 0, 0, 0, 0, 0, 0, 0, 0, 0, 0, 0, 0, 0, 0, 0, 0, 2, 0, 0, 0, 0, 0, 0, 0, 0, 0, 0, 0, 2, 0, 0, 0, 0, 0, 0, 0, 0, 0, 0, 0, 0, 0, 0, 0, 0, 1, 0, 0, 0, 0, 0, 0, 0, 0, 0, 0, 0, 0, 0, 0, 0, 0, 0, 0, 0, 0, 0, 0, 0, 0, 0, 0, 0, 0, 0, 0, 0, 0, 0, 0, 0, 0, 0, 0, 0, 0, 0, 0, 0, 0, 0, 0, 0, 0, 0, 0, 0, 0, 0, 0, 0, 0, 0, 0, 0, 0, 0, 0, 0, 0, 0, 0, 0, 0, 0, 1, 0, 0, 0, 0, 0, 0, 0, 0, 0, 0, 0, 0, 0, 0, 0, 2, 0, 0, 0, 0, 0, 0, 0, 0, 0, 0, 0, 0, 0, 0, 0, 0, 0, 0, 0, 0, 0, 0, 0, 0, 0, 0, 0, 0, 0, 0, 0, 0, 0, 0, 0, 0, 0, 0, 0, 0, 0, 0, 0, 0, 0, 0, 0, 0, 0, 0, 0, 0, 0, 0, 0, 0, 0, 0, 0, 0, 0, 0, 0, 0, 0, 0, 0, 0, 0, 0, 0, 0, 0, 2, 1]\n"
          ],
          "name": "stdout"
        }
      ]
    },
    {
      "cell_type": "markdown",
      "metadata": {
        "id": "qZnnLwDW3DVm"
      },
      "source": [
        "Результаты выглядят более чем ужасно, практически везде кластер 0. Видимо, у нас очень много всякого шума. "
      ]
    },
    {
      "cell_type": "markdown",
      "metadata": {
        "id": "LWzoLCfezLYJ"
      },
      "source": [
        "## KMeans"
      ]
    },
    {
      "cell_type": "code",
      "metadata": {
        "id": "4wIjzPy7zLYJ",
        "outputId": "7625c68f-fe3d-43ff-f681-b117a3e185f9"
      },
      "source": [
        "from sklearn.cluster import KMeans\n",
        "\n",
        "model = KMeans(n_clusters=3, random_state=1)\n",
        "preds = model.fit_predict(matrix.toarray())\n",
        "#посмотрим результат кластеризации\n",
        "print(preds)"
      ],
      "execution_count": null,
      "outputs": [
        {
          "output_type": "stream",
          "text": [
            "[0 0 2 ... 0 2 1]\n"
          ],
          "name": "stdout"
        }
      ]
    },
    {
      "cell_type": "code",
      "metadata": {
        "id": "wlVrDucOzLYJ",
        "outputId": "97022e60-fec9-477c-abe0-eb5f85155b92"
      },
      "source": [
        "#посмотрим истинные метки\n",
        "print(simple_dataset.target)"
      ],
      "execution_count": null,
      "outputs": [
        {
          "output_type": "stream",
          "text": [
            "[0 0 1 ... 0 1 2]\n"
          ],
          "name": "stdout"
        }
      ]
    },
    {
      "cell_type": "code",
      "metadata": {
        "id": "v5YWGlryzLYK",
        "outputId": "72e61dc4-0af3-4207-ebf3-0cb633677c39"
      },
      "source": [
        "#Видно, что нужно поменяь местами обозначения кластеров из предсказаний\n",
        "mapping = {2 : 1, 1: 2, 0: 0}\n",
        "mapped_preds = [mapping[pred] for pred in preds]\n",
        "#Выведем долю ошибки\n",
        "print(float(sum(mapped_preds != simple_dataset.target)) / len(simple_dataset.target))"
      ],
      "execution_count": null,
      "outputs": [
        {
          "output_type": "stream",
          "text": [
            "0.04727068092290377\n"
          ],
          "name": "stdout"
        }
      ]
    },
    {
      "cell_type": "markdown",
      "metadata": {
        "id": "z7ByUsqt4oOq"
      },
      "source": [
        "Получаем очень хорошее качество кластеризации. Можем сравнить с качеством какого-нибудь алгоритма классификации"
      ]
    },
    {
      "cell_type": "code",
      "metadata": {
        "id": "otQwSZOWzLYK",
        "outputId": "51f83e87-93f9-4d2d-d043-f1464a186e34"
      },
      "source": [
        "from sklearn.linear_model import LogisticRegression\n",
        "from sklearn.model_selection import cross_val_score\n",
        "clf = LogisticRegression()\n",
        "print (cross_val_score(clf, matrix, simple_dataset.target).mean())"
      ],
      "execution_count": null,
      "outputs": [
        {
          "output_type": "stream",
          "text": [
            "0.9853603185880773\n"
          ],
          "name": "stdout"
        }
      ]
    },
    {
      "cell_type": "markdown",
      "metadata": {
        "id": "mkee5eBt40la"
      },
      "source": [
        "Видно, что качество практически не хуже"
      ]
    },
    {
      "cell_type": "markdown",
      "metadata": {
        "id": "MadfrUWfzLYL"
      },
      "source": [
        "## Более сложная выборка"
      ]
    },
    {
      "cell_type": "code",
      "metadata": {
        "id": "B_t4xGv_zLYL"
      },
      "source": [
        "#Теперь попробуем кластеризировать более похожие теы\n",
        "dataset = fetch_20newsgroups(\n",
        "    subset='train', \n",
        "    categories=['comp.sys.mac.hardware', 'comp.os.ms-windows.misc', 'comp.graphics'])"
      ],
      "execution_count": null,
      "outputs": []
    },
    {
      "cell_type": "code",
      "metadata": {
        "id": "wTOssEL-zLYL",
        "outputId": "2830a98a-fc49-4b18-f44e-12e11251c725"
      },
      "source": [
        "matrix = vectorizer.fit_transform(dataset.data)\n",
        "model = KMeans(n_clusters=3, random_state=42)\n",
        "preds = model.fit_predict(matrix.toarray())\n",
        "print(preds)\n",
        "print(dataset.target)"
      ],
      "execution_count": null,
      "outputs": [
        {
          "output_type": "stream",
          "text": [
            "[2 1 0 ... 2 0 2]\n",
            "[2 1 1 ... 2 0 2]\n"
          ],
          "name": "stdout"
        }
      ]
    },
    {
      "cell_type": "code",
      "metadata": {
        "id": "KHOj96wizLYM",
        "outputId": "ed0593b0-eb55-456d-b94f-ef39600aef16"
      },
      "source": [
        "# mapping = {2 : 0, 1: 1, 0: 2}\n",
        "# mapped_preds = [mapping[pred] for pred in preds]\n",
        "print(float(sum(mapped_preds != dataset.target)) / len(dataset.target))"
      ],
      "execution_count": null,
      "outputs": [
        {
          "output_type": "stream",
          "text": [
            "0.7136337706788363\n"
          ],
          "name": "stdout"
        }
      ]
    },
    {
      "cell_type": "code",
      "metadata": {
        "id": "VcpuNSTmzLYM",
        "outputId": "032b14ea-8499-4633-be39-8b49bbcb95c8"
      },
      "source": [
        "clf = LogisticRegression()\n",
        "print(cross_val_score(clf, matrix, dataset.target).mean())"
      ],
      "execution_count": null,
      "outputs": [
        {
          "output_type": "stream",
          "text": [
            "0.917279226713189\n"
          ],
          "name": "stdout"
        }
      ]
    },
    {
      "cell_type": "markdown",
      "metadata": {
        "id": "B4rAXpTN5OEP"
      },
      "source": [
        "Видно что класетризация на похожих темах работает хуже. Классификация работает намного лучше"
      ]
    },
    {
      "cell_type": "markdown",
      "metadata": {
        "id": "Fbs-7iC-5cK4"
      },
      "source": [
        ""
      ]
    },
    {
      "cell_type": "markdown",
      "metadata": {
        "id": "6rFwgruqzLYM"
      },
      "source": [
        "## SVD + KMeans"
      ]
    },
    {
      "cell_type": "markdown",
      "metadata": {
        "id": "HRbH8a_m5ghQ"
      },
      "source": [
        "Попробуем понизить размерность признаков.\n",
        "\n",
        "Уменьшим размерность до 1000 признаков и обучим модель."
      ]
    },
    {
      "cell_type": "code",
      "metadata": {
        "id": "VV_Sw3K3zLYN",
        "outputId": "b666c0a7-e094-4c80-c7d0-7f097715910b"
      },
      "source": [
        "\n",
        "from sklearn.decomposition import TruncatedSVD\n",
        "\n",
        "model = KMeans(n_clusters=3, random_state=42)\n",
        "svd = TruncatedSVD(n_components=1000, random_state=123) \n",
        "features = svd.fit_transform(matrix)\n",
        "preds = model.fit_predict(features)\n",
        "print(preds)\n",
        "print(dataset.target)"
      ],
      "execution_count": null,
      "outputs": [
        {
          "output_type": "stream",
          "text": [
            "[0 2 1 ... 0 1 0]\n",
            "[2 1 1 ... 2 0 2]\n"
          ],
          "name": "stdout"
        }
      ]
    },
    {
      "cell_type": "code",
      "metadata": {
        "id": "wa5I0rI7zLYN",
        "outputId": "c1e22465-1bd0-484b-a6d8-1d832a8baf21"
      },
      "source": [
        "mapping = {0 : 2, 1: 0, 2: 1}\n",
        "mapped_preds = [mapping[pred] for pred in preds]\n",
        "print(float(sum(mapped_preds != dataset.target)) / len(dataset.target))"
      ],
      "execution_count": null,
      "outputs": [
        {
          "output_type": "stream",
          "text": [
            "0.2065031374786081\n"
          ],
          "name": "stdout"
        }
      ]
    },
    {
      "cell_type": "markdown",
      "metadata": {
        "id": "Hh_LYbVd64Kf"
      },
      "source": [
        "После уменьшения размерности моделт стала работать лучше"
      ]
    },
    {
      "cell_type": "markdown",
      "metadata": {
        "id": "A7r-2aAU6UtP"
      },
      "source": [
        "Уменьшим размерность до 200 признаков и обучим модель."
      ]
    },
    {
      "cell_type": "code",
      "metadata": {
        "id": "dBnCDzOqzLYO",
        "outputId": "f3408c7b-db66-46cd-e696-7ca4c1df2aca"
      },
      "source": [
        "model = KMeans(n_clusters=3, random_state=42)\n",
        "svd = TruncatedSVD(n_components=200, random_state=123)\n",
        "features = svd.fit_transform(matrix)\n",
        "preds = model.fit_predict(features)\n",
        "print(preds)\n",
        "print(dataset.target)"
      ],
      "execution_count": null,
      "outputs": [
        {
          "output_type": "stream",
          "text": [
            "[2 0 1 ... 2 1 2]\n",
            "[2 1 1 ... 2 0 2]\n"
          ],
          "name": "stdout"
        }
      ]
    },
    {
      "cell_type": "code",
      "metadata": {
        "id": "iksjE1HFzLYO",
        "outputId": "310d695e-8840-455b-87a2-84790637270f"
      },
      "source": [
        "#В данном случае не совсем понятно, как стоит поменять метки классов, так что попробуем все перестановки и посмотрим на качество\n",
        "import itertools\n",
        "def validate_with_mappings(preds, target, dataset):\n",
        "    permutations = itertools.permutations([0, 1, 2])\n",
        "    for a, b, c in permutations:\n",
        "        mapping = {2 : a, 1: b, 0: c}\n",
        "        mapped_preds = [mapping[pred] for pred in preds]\n",
        "        print(float(sum(mapped_preds != target)) / len(target))\n",
        "        \n",
        "validate_with_mappings(preds, dataset.target, dataset)"
      ],
      "execution_count": null,
      "outputs": [
        {
          "output_type": "stream",
          "text": [
            "0.9007415858528237\n",
            "0.6742726754135767\n",
            "0.7056474614945807\n",
            "0.8938961779806047\n",
            "0.2053622361665716\n",
            "0.6200798630918426\n"
          ],
          "name": "stdout"
        }
      ]
    },
    {
      "cell_type": "markdown",
      "metadata": {
        "id": "kxZvA_ie6yzO"
      },
      "source": [
        "В лучшем случае мы получаем также 20% ошибок. Интересный результат, так как мы сильно уменшили размерность, но не потеряли в качестве. Такое могло получиться случайно, поэтому стоит проверить модель на другом random_state."
      ]
    },
    {
      "cell_type": "code",
      "metadata": {
        "id": "Ma5OyJfTzLYO",
        "outputId": "1218010b-0557-44c3-feea-6ded61d190dd"
      },
      "source": [
        "model = KMeans(n_clusters=3, random_state=42)\n",
        "svd = TruncatedSVD(n_components=200, random_state=321)\n",
        "features = svd.fit_transform(matrix)\n",
        "preds = model.fit_predict(features)\n",
        "print(preds)\n",
        "print(dataset.target)\n",
        "validate_with_mappings(preds, dataset.target, dataset)"
      ],
      "execution_count": null,
      "outputs": [
        {
          "output_type": "stream",
          "text": [
            "[2 1 0 ... 2 0 2]\n",
            "[2 1 1 ... 2 0 2]\n",
            "0.713063320022818\n",
            "0.845407872219053\n",
            "0.8893325727324587\n",
            "0.7005134055904164\n",
            "0.5864232743867656\n",
            "0.2652595550484883\n"
          ],
          "name": "stdout"
        }
      ]
    },
    {
      "cell_type": "markdown",
      "metadata": {
        "id": "O-Jy9JaB7Tjt"
      },
      "source": [
        "Видим, что качество модели действительно сильно зависит от случайности"
      ]
    }
  ]
}