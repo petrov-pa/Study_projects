{
  "nbformat": 4,
  "nbformat_minor": 0,
  "metadata": {
    "kernelspec": {
      "display_name": "Python 3",
      "language": "python",
      "name": "python3"
    },
    "language_info": {
      "codemirror_mode": {
        "name": "ipython",
        "version": 3
      },
      "file_extension": ".py",
      "mimetype": "text/x-python",
      "name": "python",
      "nbconvert_exporter": "python",
      "pygments_lexer": "ipython3",
      "version": "3.7.3"
    },
    "colab": {
      "name": "Рекламные баннеры",
      "provenance": [],
      "collapsed_sections": []
    }
  },
  "cells": [
    {
      "cell_type": "code",
      "metadata": {
        "colab": {
          "base_uri": "https://localhost:8080/"
        },
        "id": "2ccecA3GxA4b",
        "outputId": "04ef9605-7f6e-4d0e-a71d-fc1ae8e8d414"
      },
      "source": [
        "import pandas as pd\n",
        "import numpy as np\n",
        "from sklearn.cluster import MeanShift\n",
        "import matplotlib.pyplot as plt\n",
        "\n",
        "from google.colab import drive\n",
        "drive.mount('/content/drive/')"
      ],
      "execution_count": null,
      "outputs": [
        {
          "output_type": "stream",
          "text": [
            "Drive already mounted at /content/drive/; to attempt to forcibly remount, call drive.mount(\"/content/drive/\", force_remount=True).\n"
          ],
          "name": "stdout"
        }
      ]
    },
    {
      "cell_type": "markdown",
      "metadata": {
        "id": "cxfO5K0fst4C"
      },
      "source": [
        "Международное круизное агентство Carnival Cruise Line решило себя разрекламировать с помощью баннеров. Чтобы протестировать, велика ли от таких баннеров польза, их будет размещено всего 6 штук по всему миру. Задача выбрать 6 таких локаций для размещения, чтобы польза была большой и агентство продолжило с вами сотрудничать.\n",
        "\n",
        "Агентство крупное, и у него есть несколько офисов по всему миру. Вблизи этих офисов оно и хочет разместить баннеры — легче договариваться и проверять результат. Также эти места должны быть популярны среди туристов.\n",
        "\n",
        "Для поиска оптимальных мест воспользуемся базой данных крупнейшей социальной сети, основанной на локациях — Foursquare.\n",
        "\n",
        "Часть открытых данных есть, например, на сайте archive.org:\n",
        "\n",
        "https://archive.org/details/201309_foursquare_dataset_umn\n"
      ]
    },
    {
      "cell_type": "code",
      "metadata": {
        "id": "YDr4p7EtxA4c",
        "colab": {
          "base_uri": "https://localhost:8080/"
        },
        "outputId": "1f4155d6-f20f-4e29-a561-84e9d6725b7d"
      },
      "source": [
        "#Считываем файл с данными\n",
        "df = pd.read_csv('/content/drive/MyDrive/coursera/checkins.dat', sep='|',header=0, skipinitialspace=True)"
      ],
      "execution_count": null,
      "outputs": [
        {
          "output_type": "stream",
          "text": [
            "/usr/local/lib/python3.7/dist-packages/IPython/core/interactiveshell.py:2718: DtypeWarning: Columns (0) have mixed types.Specify dtype option on import or set low_memory=False.\n",
            "  interactivity=interactivity, compiler=compiler, result=result)\n"
          ],
          "name": "stderr"
        }
      ]
    },
    {
      "cell_type": "code",
      "metadata": {
        "id": "QqWp2wYLxA4e",
        "outputId": "aeeea3dc-ab9c-46eb-92f3-39aaa78fd03f"
      },
      "source": [
        "df.head()"
      ],
      "execution_count": null,
      "outputs": [
        {
          "output_type": "execute_result",
          "data": {
            "text/html": [
              "<div>\n",
              "<style scoped>\n",
              "    .dataframe tbody tr th:only-of-type {\n",
              "        vertical-align: middle;\n",
              "    }\n",
              "\n",
              "    .dataframe tbody tr th {\n",
              "        vertical-align: top;\n",
              "    }\n",
              "\n",
              "    .dataframe thead th {\n",
              "        text-align: right;\n",
              "    }\n",
              "</style>\n",
              "<table border=\"1\" class=\"dataframe\">\n",
              "  <thead>\n",
              "    <tr style=\"text-align: right;\">\n",
              "      <th></th>\n",
              "      <th>id</th>\n",
              "      <th>user_id</th>\n",
              "      <th>venue_id</th>\n",
              "      <th>latitude</th>\n",
              "      <th>longitude</th>\n",
              "      <th>created_at</th>\n",
              "    </tr>\n",
              "  </thead>\n",
              "  <tbody>\n",
              "    <tr>\n",
              "      <th>1</th>\n",
              "      <td>984301</td>\n",
              "      <td>2041916.0</td>\n",
              "      <td>5222.0</td>\n",
              "      <td>NaN</td>\n",
              "      <td>NaN</td>\n",
              "      <td>2012-04-21 17:39:01</td>\n",
              "    </tr>\n",
              "    <tr>\n",
              "      <th>2</th>\n",
              "      <td>984222</td>\n",
              "      <td>15824.0</td>\n",
              "      <td>5222.0</td>\n",
              "      <td>38.895112</td>\n",
              "      <td>-77.036366</td>\n",
              "      <td>2012-04-21 17:43:47</td>\n",
              "    </tr>\n",
              "    <tr>\n",
              "      <th>3</th>\n",
              "      <td>984315</td>\n",
              "      <td>1764391.0</td>\n",
              "      <td>5222.0</td>\n",
              "      <td>NaN</td>\n",
              "      <td>NaN</td>\n",
              "      <td>2012-04-21 17:37:18</td>\n",
              "    </tr>\n",
              "    <tr>\n",
              "      <th>4</th>\n",
              "      <td>984234</td>\n",
              "      <td>44652.0</td>\n",
              "      <td>5222.0</td>\n",
              "      <td>33.800745</td>\n",
              "      <td>-84.410520</td>\n",
              "      <td>2012-04-21 17:43:43</td>\n",
              "    </tr>\n",
              "    <tr>\n",
              "      <th>5</th>\n",
              "      <td>984249</td>\n",
              "      <td>2146840.0</td>\n",
              "      <td>5222.0</td>\n",
              "      <td>NaN</td>\n",
              "      <td>NaN</td>\n",
              "      <td>2012-04-21 17:42:58</td>\n",
              "    </tr>\n",
              "  </tbody>\n",
              "</table>\n",
              "</div>"
            ],
            "text/plain": [
              "    id       user_id   venue_id   latitude        longitude       \\\n",
              "1  984301   2041916.0     5222.0             NaN             NaN   \n",
              "2  984222     15824.0     5222.0       38.895112      -77.036366   \n",
              "3  984315   1764391.0     5222.0             NaN             NaN   \n",
              "4  984234     44652.0     5222.0       33.800745      -84.410520   \n",
              "5  984249   2146840.0     5222.0             NaN             NaN   \n",
              "\n",
              "      created_at        \n",
              "1  2012-04-21 17:39:01  \n",
              "2  2012-04-21 17:43:47  \n",
              "3  2012-04-21 17:37:18  \n",
              "4  2012-04-21 17:43:43  \n",
              "5  2012-04-21 17:42:58  "
            ]
          },
          "metadata": {
            "tags": []
          },
          "execution_count": 4
        }
      ]
    },
    {
      "cell_type": "markdown",
      "metadata": {
        "id": "as6xEyFpC6if"
      },
      "source": [
        "Удаляем строки, которые не содержат координат"
      ]
    },
    {
      "cell_type": "code",
      "metadata": {
        "id": "aPOo5HiExA4f"
      },
      "source": [
        "df = df.dropna()"
      ],
      "execution_count": null,
      "outputs": []
    },
    {
      "cell_type": "code",
      "metadata": {
        "id": "D_RiInI_xA4f"
      },
      "source": [
        "#Для уменьшения времени обучения отберем 100000 строк\n",
        "df = df[0:100000]"
      ],
      "execution_count": null,
      "outputs": []
    },
    {
      "cell_type": "markdown",
      "metadata": {
        "id": "UPBMbaOsuSzJ"
      },
      "source": [
        "Теперь необходимо кластеризовать данные координаты, чтобы выявить центры скоплений туристов. Поскольку баннеры имеют сравнительно небольшую площадь действия, возьмем алгоритм, позволяющий ограничить размер кластера и не зависящий от количества кластеров.\n",
        "\n",
        "Значение bandwidth=0.1  в переводе из градусов в метры колеблется примерно от 5 до 10 км в средних широтах."
      ]
    },
    {
      "cell_type": "code",
      "metadata": {
        "colab": {
          "base_uri": "https://localhost:8080/"
        },
        "id": "7grilu8AxA4g",
        "outputId": "eecf5c44-2c7c-42a4-deab-bd5e487e46e6"
      },
      "source": [
        "#Создадим модель на координатах и найдем кластеры\n",
        "ms = MeanShift(bandwidth = 0.1)\n",
        "ms.fit(df.iloc[:,3:5])"
      ],
      "execution_count": null,
      "outputs": [
        {
          "output_type": "execute_result",
          "data": {
            "text/plain": [
              "MeanShift(bandwidth=0.1, bin_seeding=False, cluster_all=True, max_iter=300,\n",
              "          min_bin_freq=1, n_jobs=None, seeds=None)"
            ]
          },
          "metadata": {
            "tags": []
          },
          "execution_count": 5
        }
      ]
    },
    {
      "cell_type": "code",
      "metadata": {
        "colab": {
          "base_uri": "https://localhost:8080/"
        },
        "id": "AH46whWNxA4g",
        "outputId": "b0a4f9be-d5f2-42e3-9696-987be1af1eb0"
      },
      "source": [
        "#Выведем центройды кластеров \n",
        "center = ms.cluster_centers_\n",
        "center"
      ],
      "execution_count": null,
      "outputs": [
        {
          "output_type": "execute_result",
          "data": {
            "text/plain": [
              "array([[  40.7177164 ,  -73.99183542],\n",
              "       [  33.44943805, -112.00213969],\n",
              "       [  33.44638027, -111.90188756],\n",
              "       ...,\n",
              "       [ -37.8229826 ,  145.1811902 ],\n",
              "       [ -41.2924945 ,  174.7732353 ],\n",
              "       [ -45.0311622 ,  168.6626435 ]])"
            ]
          },
          "metadata": {
            "tags": []
          },
          "execution_count": 6
        }
      ]
    },
    {
      "cell_type": "markdown",
      "metadata": {
        "id": "KGYzd0Q6-IVI"
      },
      "source": [
        "Некоторые из получившихся кластеров содержат слишком мало точек — такие кластеры не интересны рекламодателям. Поэтому надо определить, какие из кластеров содержат, скажем, больше 15 элементов. Центры этих кластеров и являются оптимальными для размещения"
      ]
    },
    {
      "cell_type": "code",
      "metadata": {
        "id": "pa_jMKpExA4i"
      },
      "source": [
        "label  = ms.labels_ #получаем метки принадлежности к кластерам\n",
        "val, counts = np.unique(label, return_counts=True) #получаем сколько точек относятся к каждому кластеру\n",
        "cluster_count = np.vstack((val,counts)) \n",
        "cluster_count = cluster_count.T\n",
        "filt_cluster = cluster_count[cluster_count[:,1] > 15] #отбираем класстеры, к которым относится более 15 точек"
      ],
      "execution_count": null,
      "outputs": []
    },
    {
      "cell_type": "code",
      "metadata": {
        "colab": {
          "base_uri": "https://localhost:8080/"
        },
        "id": "g5lUnWedDoxQ",
        "outputId": "9f5df769-26f3-4b07-dd87-f1a0111d9591"
      },
      "source": [
        "len(filt_cluster)"
      ],
      "execution_count": null,
      "outputs": [
        {
          "output_type": "execute_result",
          "data": {
            "text/plain": [
              "592"
            ]
          },
          "metadata": {
            "tags": []
          },
          "execution_count": 17
        }
      ]
    },
    {
      "cell_type": "code",
      "metadata": {
        "id": "ZYGxYe0zxA4l"
      },
      "source": [
        "# Получим координаты отобранных кластеров\n",
        "filt_centers = pd.DataFrame(center)\n",
        "for i, _ in enumerate(center):\n",
        "    if i not in filt_cluster[:,0]:\n",
        "        filt_centers.drop(i, inplace=True)"
      ],
      "execution_count": null,
      "outputs": []
    },
    {
      "cell_type": "code",
      "metadata": {
        "colab": {
          "base_uri": "https://localhost:8080/",
          "height": 419
        },
        "id": "QgQ5GA8HFl8M",
        "outputId": "97bf4976-81b6-49b6-a162-532a21b08682"
      },
      "source": [
        "filt_centers"
      ],
      "execution_count": null,
      "outputs": [
        {
          "output_type": "execute_result",
          "data": {
            "text/html": [
              "<div>\n",
              "<style scoped>\n",
              "    .dataframe tbody tr th:only-of-type {\n",
              "        vertical-align: middle;\n",
              "    }\n",
              "\n",
              "    .dataframe tbody tr th {\n",
              "        vertical-align: top;\n",
              "    }\n",
              "\n",
              "    .dataframe thead th {\n",
              "        text-align: right;\n",
              "    }\n",
              "</style>\n",
              "<table border=\"1\" class=\"dataframe\">\n",
              "  <thead>\n",
              "    <tr style=\"text-align: right;\">\n",
              "      <th></th>\n",
              "      <th>0</th>\n",
              "      <th>1</th>\n",
              "    </tr>\n",
              "  </thead>\n",
              "  <tbody>\n",
              "    <tr>\n",
              "      <th>0</th>\n",
              "      <td>40.717716</td>\n",
              "      <td>-73.991835</td>\n",
              "    </tr>\n",
              "    <tr>\n",
              "      <th>1</th>\n",
              "      <td>33.449438</td>\n",
              "      <td>-112.002140</td>\n",
              "    </tr>\n",
              "    <tr>\n",
              "      <th>2</th>\n",
              "      <td>33.446380</td>\n",
              "      <td>-111.901888</td>\n",
              "    </tr>\n",
              "    <tr>\n",
              "      <th>3</th>\n",
              "      <td>41.878244</td>\n",
              "      <td>-87.629843</td>\n",
              "    </tr>\n",
              "    <tr>\n",
              "      <th>4</th>\n",
              "      <td>37.688682</td>\n",
              "      <td>-122.409330</td>\n",
              "    </tr>\n",
              "    <tr>\n",
              "      <th>...</th>\n",
              "      <td>...</td>\n",
              "      <td>...</td>\n",
              "    </tr>\n",
              "    <tr>\n",
              "      <th>684</th>\n",
              "      <td>41.577224</td>\n",
              "      <td>-73.415723</td>\n",
              "    </tr>\n",
              "    <tr>\n",
              "      <th>727</th>\n",
              "      <td>41.220398</td>\n",
              "      <td>-73.666619</td>\n",
              "    </tr>\n",
              "    <tr>\n",
              "      <th>884</th>\n",
              "      <td>41.618532</td>\n",
              "      <td>-88.445568</td>\n",
              "    </tr>\n",
              "    <tr>\n",
              "      <th>1343</th>\n",
              "      <td>39.249469</td>\n",
              "      <td>-77.182127</td>\n",
              "    </tr>\n",
              "    <tr>\n",
              "      <th>1350</th>\n",
              "      <td>38.658779</td>\n",
              "      <td>-76.885687</td>\n",
              "    </tr>\n",
              "  </tbody>\n",
              "</table>\n",
              "<p>592 rows × 2 columns</p>\n",
              "</div>"
            ],
            "text/plain": [
              "              0           1\n",
              "0     40.717716  -73.991835\n",
              "1     33.449438 -112.002140\n",
              "2     33.446380 -111.901888\n",
              "3     41.878244  -87.629843\n",
              "4     37.688682 -122.409330\n",
              "...         ...         ...\n",
              "684   41.577224  -73.415723\n",
              "727   41.220398  -73.666619\n",
              "884   41.618532  -88.445568\n",
              "1343  39.249469  -77.182127\n",
              "1350  38.658779  -76.885687\n",
              "\n",
              "[592 rows x 2 columns]"
            ]
          },
          "metadata": {
            "tags": []
          },
          "execution_count": 25
        }
      ]
    },
    {
      "cell_type": "code",
      "metadata": {
        "colab": {
          "base_uri": "https://localhost:8080/",
          "height": 204
        },
        "id": "pz3oxKrgNu7F",
        "outputId": "ac013250-3143-414d-bc8b-b12006343cf3"
      },
      "source": [
        "coord_and_clusters = df.iloc[:,3:5]\n",
        "coord_and_clusters['labels'] = label\n",
        "coord_and_clusters.head()"
      ],
      "execution_count": null,
      "outputs": [
        {
          "output_type": "execute_result",
          "data": {
            "text/html": [
              "<div>\n",
              "<style scoped>\n",
              "    .dataframe tbody tr th:only-of-type {\n",
              "        vertical-align: middle;\n",
              "    }\n",
              "\n",
              "    .dataframe tbody tr th {\n",
              "        vertical-align: top;\n",
              "    }\n",
              "\n",
              "    .dataframe thead th {\n",
              "        text-align: right;\n",
              "    }\n",
              "</style>\n",
              "<table border=\"1\" class=\"dataframe\">\n",
              "  <thead>\n",
              "    <tr style=\"text-align: right;\">\n",
              "      <th></th>\n",
              "      <th>latitude</th>\n",
              "      <th>longitude</th>\n",
              "      <th>labels</th>\n",
              "    </tr>\n",
              "  </thead>\n",
              "  <tbody>\n",
              "    <tr>\n",
              "      <th>2</th>\n",
              "      <td>38.895112</td>\n",
              "      <td>-77.036366</td>\n",
              "      <td>5</td>\n",
              "    </tr>\n",
              "    <tr>\n",
              "      <th>4</th>\n",
              "      <td>33.800745</td>\n",
              "      <td>-84.410520</td>\n",
              "      <td>7</td>\n",
              "    </tr>\n",
              "    <tr>\n",
              "      <th>8</th>\n",
              "      <td>45.523452</td>\n",
              "      <td>-122.676207</td>\n",
              "      <td>30</td>\n",
              "    </tr>\n",
              "    <tr>\n",
              "      <th>10</th>\n",
              "      <td>40.764462</td>\n",
              "      <td>-111.904565</td>\n",
              "      <td>65</td>\n",
              "    </tr>\n",
              "    <tr>\n",
              "      <th>11</th>\n",
              "      <td>33.448377</td>\n",
              "      <td>-112.074037</td>\n",
              "      <td>1</td>\n",
              "    </tr>\n",
              "  </tbody>\n",
              "</table>\n",
              "</div>"
            ],
            "text/plain": [
              "    latitude        longitude       labels\n",
              "2        38.895112      -77.036366       5\n",
              "4        33.800745      -84.410520       7\n",
              "8        45.523452     -122.676207      30\n",
              "10       40.764462     -111.904565      65\n",
              "11       33.448377     -112.074037       1"
            ]
          },
          "metadata": {
            "tags": []
          },
          "execution_count": 9
        }
      ]
    },
    {
      "cell_type": "code",
      "metadata": {
        "id": "tTba4Q96IACU"
      },
      "source": [
        "#Запишем координаты офисов фирмы\n",
        "office_coord = np.array([[33.751277,-118.188740],\n",
        "          [25.867736, -80.324116],\n",
        "          [51.503016, -0.075479],\n",
        "          [52.378894, 4.885084],\n",
        "          [39.366487, 117.036146],\n",
        "          [-33.868457, 151.205134]])"
      ],
      "execution_count": null,
      "outputs": []
    },
    {
      "cell_type": "code",
      "metadata": {
        "colab": {
          "base_uri": "https://localhost:8080/"
        },
        "id": "PV56eS5axA4n",
        "outputId": "17fd58f4-25b9-4ad4-da3f-fbc0e1eb48c0"
      },
      "source": [
        "#Получим кластеры к которым относятся координаты офисов\n",
        "office_cluster = ms.predict(office_coord)\n",
        "office_cluster"
      ],
      "execution_count": null,
      "outputs": [
        {
          "output_type": "execute_result",
          "data": {
            "text/plain": [
              "array([  51,  419,   58,  370, 1980,  420])"
            ]
          },
          "metadata": {
            "tags": []
          },
          "execution_count": 27
        }
      ]
    },
    {
      "cell_type": "code",
      "metadata": {
        "id": "96YQ0G_jMlQ_"
      },
      "source": [
        "#получим координаты ближайших подходящих мест вблизи офисов для размещения банеров \n",
        "best_place = []\n",
        "for i, cluster in enumerate(office_cluster):\n",
        "  if cluster in filt_cluster: #если офис располагается в отобраном кластере, то ищем точку внутри этого кластера\n",
        "    nearest_coord = coord_and_clusters.loc[coord_and_clusters.labels == cluster] #отбираем точки внутри кластера\n",
        "    distance = np.sum((nearest_coord.values[:,:2] - office_coord[i])**2, axis=1) #считаем расстояние между координатами\n",
        "    nearest_coord['distance'] = distance\n",
        "    best_place.append(nearest_coord.sort_values('distance').values[0,:2]) #сортируем в порядке возрастания и берем точку с наименьшим расстоянием\n",
        "  else: #ищем точку внутри внутри всех подходящих кластеров\n",
        "    nearest_coord = coord_and_clusters.loc[coord_and_clusters.labels.isin(filt_centers.index.values)] #отбираем точки для всех подходящих кластеров\n",
        "    distance = np.sum((nearest_coord.values[:,:2] - office_coord[i])**2, axis=1) #считаем расстояние между координатами\n",
        "    nearest_coord['distance'] = distance\n",
        "    best_place.append(nearest_coord.sort_values('distance').values[0,:2]) #сортируем в порядке возрастания и берем точку с наименьшим расстоянием\n",
        "\n",
        "\n",
        "    "
      ],
      "execution_count": null,
      "outputs": []
    },
    {
      "cell_type": "code",
      "metadata": {
        "colab": {
          "base_uri": "https://localhost:8080/"
        },
        "id": "DbxBwjRrxA4o",
        "outputId": "1f6a032b-5a09-4efd-817f-caed9ba48f8f"
      },
      "source": [
        "#выводим наилучшие места для размещения банеров\n",
        "best_place"
      ],
      "execution_count": null,
      "outputs": [
        {
          "output_type": "execute_result",
          "data": {
            "text/plain": [
              "[array([  33.8044614, -118.1678456]),\n",
              " array([ 25.8650961, -80.3244957]),\n",
              " array([51.489112 , -0.1106702]),\n",
              " array([52.3730556,  4.8922222]),\n",
              " array([ 31.230393, 121.473704]),\n",
              " array([-33.873651 , 151.2068896])]"
            ]
          },
          "metadata": {
            "tags": []
          },
          "execution_count": 81
        }
      ]
    },
    {
      "cell_type": "code",
      "metadata": {
        "id": "gQ8vOxl7xA4s"
      },
      "source": [
        ""
      ],
      "execution_count": null,
      "outputs": []
    }
  ]
}