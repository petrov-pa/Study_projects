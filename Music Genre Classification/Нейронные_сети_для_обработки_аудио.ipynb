{
  "nbformat": 4,
  "nbformat_minor": 0,
  "metadata": {
    "colab": {
      "name": "Нейронные сети для обработки аудио Pro",
      "provenance": [],
      "collapsed_sections": [],
      "authorship_tag": "ABX9TyNPJDbEEs6LEAYRC48xyNet"
    },
    "kernelspec": {
      "name": "python3",
      "display_name": "Python 3"
    },
    "accelerator": "GPU"
  },
  "cells": [
    {
      "cell_type": "code",
      "metadata": {
        "id": "XVnxZ61gw9Nt"
      },
      "source": [
        "import numpy as np\n",
        "import pandas as pd\n",
        "import matplotlib.pyplot as plt\n",
        "%matplotlib inline\n",
        "\n",
        "from tensorflow.keras.models import Sequential\n",
        "from tensorflow.keras.layers import Dense, Dropout, BatchNormalization\n",
        "from tensorflow.keras.optimizers import Adam\n",
        "\n",
        "import librosa\n",
        "\n",
        "import os\n",
        "from google.colab import drive\n",
        "\n",
        "import pickle\n",
        "\n",
        "from sklearn.preprocessing import StandardScaler, MinMaxScaler\n",
        "from sklearn.model_selection import train_test_split"
      ],
      "execution_count": null,
      "outputs": []
    },
    {
      "cell_type": "code",
      "metadata": {
        "id": "9CPCv7pVw93s",
        "colab": {
          "base_uri": "https://localhost:8080/"
        },
        "outputId": "1f54b76f-acb1-45f4-a7e7-d0916d695745"
      },
      "source": [
        "drive.mount('/content/drive')"
      ],
      "execution_count": null,
      "outputs": [
        {
          "output_type": "stream",
          "text": [
            "Mounted at /content/drive\n"
          ],
          "name": "stdout"
        }
      ]
    },
    {
      "cell_type": "code",
      "metadata": {
        "id": "YsInDPLEw9KA"
      },
      "source": [
        "#Разархивируем данные\n",
        "!unzip -q '/content/drive/MyDrive/genres.zip'\n",
        "\n",
        "genres = os.listdir('genres') "
      ],
      "execution_count": null,
      "outputs": []
    },
    {
      "cell_type": "code",
      "metadata": {
        "id": "b0N2Trrgw9GA",
        "colab": {
          "base_uri": "https://localhost:8080/"
        },
        "outputId": "7ae3f3d8-cb44-4797-8446-683f5f9396b0"
      },
      "source": [
        "genres"
      ],
      "execution_count": null,
      "outputs": [
        {
          "output_type": "execute_result",
          "data": {
            "text/plain": [
              "['disco',\n",
              " 'country',\n",
              " 'metal',\n",
              " 'reggae',\n",
              " 'jazz',\n",
              " 'classical',\n",
              " 'pop',\n",
              " 'rock',\n",
              " 'hiphop',\n",
              " 'blues']"
            ]
          },
          "metadata": {
            "tags": []
          },
          "execution_count": 30
        }
      ]
    },
    {
      "cell_type": "code",
      "metadata": {
        "id": "K_qtBwWS3exW"
      },
      "source": [
        "path = '/content/genres/'"
      ],
      "execution_count": null,
      "outputs": []
    },
    {
      "cell_type": "code",
      "metadata": {
        "id": "WvqxbNbDw85N"
      },
      "source": [
        "#Функция возвращает извлеченные из аудиофайла признаки\n",
        "def get_features(x, sr):\n",
        "  features=[]\n",
        "    \n",
        "  spectral_bandwidth = np.mean(librosa.feature.spectral_bandwidth(x,sr=sr))\n",
        "  spectral_centroid = np.mean(librosa.feature.spectral_centroid(x,sr=sr))\n",
        "  spectral_rolloff = np.mean(librosa.feature.spectral_rolloff(x,sr=sr))\n",
        "  zero_crossing_rate = np.mean(librosa.feature.zero_crossing_rate(x))\n",
        "  rms = np.mean(librosa.feature.rms(x))\n",
        "  mfcc = librosa.feature.mfcc(x,sr=sr)\n",
        "  chroma_stft = librosa.feature.chroma_stft(x,sr=sr)\n",
        "\n",
        "  features.append(spectral_bandwidth)\n",
        "  features.append(spectral_centroid)\n",
        "  features.append(spectral_rolloff)\n",
        "  features.append(zero_crossing_rate)\n",
        "  features.append(rms)\n",
        "\n",
        "  for i in mfcc:\n",
        "    features.append(np.mean(i))\n",
        "\n",
        "  for i in chroma_stft:\n",
        "    features.append(np.mean(i))\n",
        "\n",
        "  return features "
      ],
      "execution_count": null,
      "outputs": []
    },
    {
      "cell_type": "code",
      "metadata": {
        "id": "ea_0gcSpw81c"
      },
      "source": [
        "#Пройдем по всем файлам и извлечем признаки\n",
        "x_data = []\n",
        "y = []\n",
        "for i,genre in enumerate(genres):\n",
        "  for audio in os.listdir('genres/{}'.format(genre)):\n",
        "    x, sr = librosa.load(path + '{}/{}'.format(genre,audio),mono=True, duration=30)\n",
        "    x_data.append(get_features(x, sr))\n",
        "    y.append(i)\n"
      ],
      "execution_count": null,
      "outputs": []
    },
    {
      "cell_type": "code",
      "metadata": {
        "id": "icbFS6l_w8yK"
      },
      "source": [
        "# #Сохраним выборку на всякий случай\n",
        "# with open('/content/drive/MyDrive/x_data.pickle', 'wb') as f: \n",
        "#   pickle.dump(x_data, f)\n",
        "\n",
        "# with open('/content/drive/MyDrive/y.pickle', 'wb') as f: \n",
        "#   pickle.dump(y, f)"
      ],
      "execution_count": null,
      "outputs": []
    },
    {
      "cell_type": "code",
      "metadata": {
        "id": "VwL9cB5ET80u"
      },
      "source": [
        "# with open('/content/drive/MyDrive/x_data.pickle', 'rb') as f:\n",
        "#   x_data = pickle.load(f)\n",
        "\n",
        "# with open('/content/drive/MyDrive/y.pickle', 'rb') as f:\n",
        "#   y = pickle.load(f)"
      ],
      "execution_count": null,
      "outputs": []
    },
    {
      "cell_type": "code",
      "metadata": {
        "id": "fkqqN6rqw8s5"
      },
      "source": [
        "#Нормируем данные\n",
        "scaler = StandardScaler()\n",
        "x_data = scaler.fit_transform(x_data)\n",
        "\n",
        "# scaler = MinMaxScaler()\n",
        "# x_data = scaler.fit_transform(x_data)"
      ],
      "execution_count": null,
      "outputs": []
    },
    {
      "cell_type": "code",
      "metadata": {
        "id": "oJWFwk1Qw8pk"
      },
      "source": [
        "#Разобъем данные на обучающую и проверочную выборки\n",
        "x_train, x_test, y_train, y_test = train_test_split(np.array(x_data), np.array(y), shuffle=True, stratify=y, test_size=0.1, random_state=56)"
      ],
      "execution_count": null,
      "outputs": []
    },
    {
      "cell_type": "code",
      "metadata": {
        "colab": {
          "base_uri": "https://localhost:8080/"
        },
        "id": "H8dccd7Wq-aO",
        "outputId": "9494391b-39df-451c-9171-5584eb18a792"
      },
      "source": [
        "x_train.shape"
      ],
      "execution_count": null,
      "outputs": [
        {
          "output_type": "execute_result",
          "data": {
            "text/plain": [
              "(900, 6492)"
            ]
          },
          "metadata": {
            "tags": []
          },
          "execution_count": 119
        }
      ]
    },
    {
      "cell_type": "code",
      "metadata": {
        "colab": {
          "base_uri": "https://localhost:8080/",
          "height": 1000
        },
        "id": "S42-5lj83yId",
        "outputId": "550e8772-dfd2-4d15-8f12-6c23625115a6"
      },
      "source": [
        "#попробуем разное сочетание признаков\n",
        "xx = x_train[:,:-10]\n",
        "xv = x_test[:,:-10]\n",
        "\n",
        "#Обучим модель \n",
        "model = Sequential()\n",
        "model.add(Dense(250, activation='relu', input_dim = xx.shape[1]))\n",
        "model.add(BatchNormalization())\n",
        "model.add(Dropout(0.3))\n",
        "model.add(Dense(200,activation='relu'))\n",
        "model.add(Dropout(0.2))\n",
        "model.add(Dense(30,activation='relu'))\n",
        "model.add(Dense(10, activation='softmax'))\n",
        "\n",
        "model.compile(loss='sparse_categorical_crossentropy', optimizer=Adam(lr=0.001), metrics=['accuracy'])\n",
        "history = model.fit(xx, y_train, epochs=150, batch_size=16, validation_data=(xv,y_test))\n",
        "\n",
        "plt.plot(history.history['accuracy'], label='Обучающая выборка')\n",
        "plt.plot(history.history['val_accuracy'], label='Проверочная выборка')\n",
        "plt.xlabel('Эпоха')\n",
        "plt.ylabel('Точность')\n",
        "plt.legend()\n",
        "plt.show()"
      ],
      "execution_count": null,
      "outputs": [
        {
          "output_type": "stream",
          "text": [
            "Epoch 1/150\n",
            "57/57 [==============================] - 1s 5ms/step - loss: 2.3053 - accuracy: 0.2053 - val_loss: 1.8525 - val_accuracy: 0.4600\n",
            "Epoch 2/150\n",
            "57/57 [==============================] - 0s 3ms/step - loss: 1.5467 - accuracy: 0.4482 - val_loss: 1.5644 - val_accuracy: 0.6200\n",
            "Epoch 3/150\n",
            "57/57 [==============================] - 0s 3ms/step - loss: 1.3113 - accuracy: 0.5802 - val_loss: 1.3564 - val_accuracy: 0.6400\n",
            "Epoch 4/150\n",
            "57/57 [==============================] - 0s 3ms/step - loss: 1.2255 - accuracy: 0.5771 - val_loss: 1.1963 - val_accuracy: 0.6500\n",
            "Epoch 5/150\n",
            "57/57 [==============================] - 0s 3ms/step - loss: 1.0352 - accuracy: 0.6399 - val_loss: 1.1198 - val_accuracy: 0.6700\n",
            "Epoch 6/150\n",
            "57/57 [==============================] - 0s 3ms/step - loss: 1.0417 - accuracy: 0.6513 - val_loss: 0.9711 - val_accuracy: 0.7100\n",
            "Epoch 7/150\n",
            "57/57 [==============================] - 0s 3ms/step - loss: 0.9383 - accuracy: 0.6728 - val_loss: 0.9475 - val_accuracy: 0.6800\n",
            "Epoch 8/150\n",
            "57/57 [==============================] - 0s 3ms/step - loss: 0.9240 - accuracy: 0.6727 - val_loss: 0.9209 - val_accuracy: 0.6900\n",
            "Epoch 9/150\n",
            "57/57 [==============================] - 0s 4ms/step - loss: 0.8166 - accuracy: 0.7160 - val_loss: 0.9503 - val_accuracy: 0.6900\n",
            "Epoch 10/150\n",
            "57/57 [==============================] - 0s 4ms/step - loss: 0.8906 - accuracy: 0.6908 - val_loss: 0.8592 - val_accuracy: 0.7200\n",
            "Epoch 11/150\n",
            "57/57 [==============================] - 0s 3ms/step - loss: 0.8516 - accuracy: 0.6985 - val_loss: 0.8566 - val_accuracy: 0.6800\n",
            "Epoch 12/150\n",
            "57/57 [==============================] - 0s 4ms/step - loss: 0.7907 - accuracy: 0.7162 - val_loss: 0.8350 - val_accuracy: 0.7600\n",
            "Epoch 13/150\n",
            "57/57 [==============================] - 0s 4ms/step - loss: 0.7697 - accuracy: 0.7125 - val_loss: 0.7854 - val_accuracy: 0.7200\n",
            "Epoch 14/150\n",
            "57/57 [==============================] - 0s 3ms/step - loss: 0.7144 - accuracy: 0.7439 - val_loss: 0.8351 - val_accuracy: 0.7100\n",
            "Epoch 15/150\n",
            "57/57 [==============================] - 0s 8ms/step - loss: 0.7154 - accuracy: 0.7250 - val_loss: 0.7684 - val_accuracy: 0.7100\n",
            "Epoch 16/150\n",
            "57/57 [==============================] - 0s 3ms/step - loss: 0.6439 - accuracy: 0.7633 - val_loss: 0.8958 - val_accuracy: 0.7200\n",
            "Epoch 17/150\n",
            "57/57 [==============================] - 0s 4ms/step - loss: 0.6609 - accuracy: 0.7639 - val_loss: 0.8410 - val_accuracy: 0.7300\n",
            "Epoch 18/150\n",
            "57/57 [==============================] - 0s 4ms/step - loss: 0.6213 - accuracy: 0.7771 - val_loss: 0.8765 - val_accuracy: 0.7400\n",
            "Epoch 19/150\n",
            "57/57 [==============================] - 0s 4ms/step - loss: 0.4912 - accuracy: 0.8383 - val_loss: 0.7690 - val_accuracy: 0.7800\n",
            "Epoch 20/150\n",
            "57/57 [==============================] - 0s 3ms/step - loss: 0.5172 - accuracy: 0.8126 - val_loss: 0.8270 - val_accuracy: 0.7600\n",
            "Epoch 21/150\n",
            "57/57 [==============================] - 0s 4ms/step - loss: 0.5603 - accuracy: 0.7908 - val_loss: 0.8287 - val_accuracy: 0.7600\n",
            "Epoch 22/150\n",
            "57/57 [==============================] - 0s 4ms/step - loss: 0.4924 - accuracy: 0.8177 - val_loss: 0.9248 - val_accuracy: 0.7100\n",
            "Epoch 23/150\n",
            "57/57 [==============================] - 0s 4ms/step - loss: 0.5116 - accuracy: 0.8107 - val_loss: 0.9189 - val_accuracy: 0.7100\n",
            "Epoch 24/150\n",
            "57/57 [==============================] - 0s 4ms/step - loss: 0.4882 - accuracy: 0.8223 - val_loss: 0.8710 - val_accuracy: 0.7500\n",
            "Epoch 25/150\n",
            "57/57 [==============================] - 0s 3ms/step - loss: 0.4575 - accuracy: 0.8253 - val_loss: 0.9559 - val_accuracy: 0.7300\n",
            "Epoch 26/150\n",
            "57/57 [==============================] - 0s 3ms/step - loss: 0.3985 - accuracy: 0.8725 - val_loss: 0.9378 - val_accuracy: 0.7200\n",
            "Epoch 27/150\n",
            "57/57 [==============================] - 0s 3ms/step - loss: 0.4960 - accuracy: 0.8103 - val_loss: 0.8661 - val_accuracy: 0.7600\n",
            "Epoch 28/150\n",
            "57/57 [==============================] - 0s 3ms/step - loss: 0.4777 - accuracy: 0.8441 - val_loss: 0.7940 - val_accuracy: 0.7400\n",
            "Epoch 29/150\n",
            "57/57 [==============================] - 0s 3ms/step - loss: 0.4104 - accuracy: 0.8529 - val_loss: 0.8877 - val_accuracy: 0.7200\n",
            "Epoch 30/150\n",
            "57/57 [==============================] - 0s 3ms/step - loss: 0.4147 - accuracy: 0.8478 - val_loss: 0.9563 - val_accuracy: 0.7200\n",
            "Epoch 31/150\n",
            "57/57 [==============================] - 0s 3ms/step - loss: 0.4016 - accuracy: 0.8511 - val_loss: 0.9275 - val_accuracy: 0.7400\n",
            "Epoch 32/150\n",
            "57/57 [==============================] - 0s 4ms/step - loss: 0.3847 - accuracy: 0.8596 - val_loss: 0.9372 - val_accuracy: 0.7600\n",
            "Epoch 33/150\n",
            "57/57 [==============================] - 0s 4ms/step - loss: 0.4089 - accuracy: 0.8409 - val_loss: 0.8838 - val_accuracy: 0.7300\n",
            "Epoch 34/150\n",
            "57/57 [==============================] - 0s 3ms/step - loss: 0.4030 - accuracy: 0.8490 - val_loss: 0.9932 - val_accuracy: 0.7200\n",
            "Epoch 35/150\n",
            "57/57 [==============================] - 0s 3ms/step - loss: 0.5244 - accuracy: 0.8115 - val_loss: 0.9990 - val_accuracy: 0.7300\n",
            "Epoch 36/150\n",
            "57/57 [==============================] - 0s 4ms/step - loss: 0.5021 - accuracy: 0.8190 - val_loss: 0.8159 - val_accuracy: 0.7500\n",
            "Epoch 37/150\n",
            "57/57 [==============================] - 0s 4ms/step - loss: 0.3581 - accuracy: 0.8706 - val_loss: 0.9090 - val_accuracy: 0.7400\n",
            "Epoch 38/150\n",
            "57/57 [==============================] - 0s 3ms/step - loss: 0.4408 - accuracy: 0.8466 - val_loss: 0.9106 - val_accuracy: 0.7300\n",
            "Epoch 39/150\n",
            "57/57 [==============================] - 0s 3ms/step - loss: 0.3945 - accuracy: 0.8603 - val_loss: 0.8636 - val_accuracy: 0.7500\n",
            "Epoch 40/150\n",
            "57/57 [==============================] - 0s 3ms/step - loss: 0.3120 - accuracy: 0.8928 - val_loss: 0.8629 - val_accuracy: 0.7800\n",
            "Epoch 41/150\n",
            "57/57 [==============================] - 0s 3ms/step - loss: 0.4264 - accuracy: 0.8603 - val_loss: 0.8973 - val_accuracy: 0.7600\n",
            "Epoch 42/150\n",
            "57/57 [==============================] - 0s 4ms/step - loss: 0.3125 - accuracy: 0.8877 - val_loss: 0.8750 - val_accuracy: 0.7600\n",
            "Epoch 43/150\n",
            "57/57 [==============================] - 0s 3ms/step - loss: 0.2852 - accuracy: 0.9047 - val_loss: 0.8760 - val_accuracy: 0.7600\n",
            "Epoch 44/150\n",
            "57/57 [==============================] - 0s 4ms/step - loss: 0.2860 - accuracy: 0.9158 - val_loss: 0.9705 - val_accuracy: 0.7700\n",
            "Epoch 45/150\n",
            "57/57 [==============================] - 0s 3ms/step - loss: 0.3178 - accuracy: 0.9030 - val_loss: 0.9276 - val_accuracy: 0.7400\n",
            "Epoch 46/150\n",
            "57/57 [==============================] - 0s 3ms/step - loss: 0.3937 - accuracy: 0.8566 - val_loss: 0.9265 - val_accuracy: 0.7600\n",
            "Epoch 47/150\n",
            "57/57 [==============================] - 0s 4ms/step - loss: 0.3233 - accuracy: 0.9066 - val_loss: 0.8432 - val_accuracy: 0.7800\n",
            "Epoch 48/150\n",
            "57/57 [==============================] - 0s 4ms/step - loss: 0.2665 - accuracy: 0.9010 - val_loss: 0.8217 - val_accuracy: 0.7700\n",
            "Epoch 49/150\n",
            "57/57 [==============================] - 0s 3ms/step - loss: 0.2974 - accuracy: 0.9022 - val_loss: 0.8872 - val_accuracy: 0.7500\n",
            "Epoch 50/150\n",
            "57/57 [==============================] - 0s 3ms/step - loss: 0.2918 - accuracy: 0.9022 - val_loss: 0.8723 - val_accuracy: 0.7400\n",
            "Epoch 51/150\n",
            "57/57 [==============================] - 0s 3ms/step - loss: 0.2411 - accuracy: 0.9203 - val_loss: 0.9018 - val_accuracy: 0.7900\n",
            "Epoch 52/150\n",
            "57/57 [==============================] - 0s 4ms/step - loss: 0.2753 - accuracy: 0.9010 - val_loss: 0.9880 - val_accuracy: 0.7500\n",
            "Epoch 53/150\n",
            "57/57 [==============================] - 0s 4ms/step - loss: 0.2490 - accuracy: 0.9114 - val_loss: 0.9455 - val_accuracy: 0.7600\n",
            "Epoch 54/150\n",
            "57/57 [==============================] - 0s 3ms/step - loss: 0.2634 - accuracy: 0.9112 - val_loss: 0.9793 - val_accuracy: 0.7600\n",
            "Epoch 55/150\n",
            "57/57 [==============================] - 0s 4ms/step - loss: 0.2789 - accuracy: 0.9056 - val_loss: 0.8511 - val_accuracy: 0.7600\n",
            "Epoch 56/150\n",
            "57/57 [==============================] - 0s 3ms/step - loss: 0.2931 - accuracy: 0.9028 - val_loss: 0.9125 - val_accuracy: 0.7600\n",
            "Epoch 57/150\n",
            "57/57 [==============================] - 0s 4ms/step - loss: 0.2396 - accuracy: 0.9165 - val_loss: 0.8739 - val_accuracy: 0.7800\n",
            "Epoch 58/150\n",
            "57/57 [==============================] - 0s 4ms/step - loss: 0.2442 - accuracy: 0.9131 - val_loss: 0.8604 - val_accuracy: 0.7600\n",
            "Epoch 59/150\n",
            "57/57 [==============================] - 0s 7ms/step - loss: 0.2900 - accuracy: 0.8986 - val_loss: 0.8316 - val_accuracy: 0.7600\n",
            "Epoch 60/150\n",
            "57/57 [==============================] - 0s 3ms/step - loss: 0.2619 - accuracy: 0.8959 - val_loss: 0.8037 - val_accuracy: 0.7500\n",
            "Epoch 61/150\n",
            "57/57 [==============================] - 0s 3ms/step - loss: 0.2379 - accuracy: 0.9047 - val_loss: 0.8450 - val_accuracy: 0.7800\n",
            "Epoch 62/150\n",
            "57/57 [==============================] - 0s 4ms/step - loss: 0.2172 - accuracy: 0.9336 - val_loss: 0.8143 - val_accuracy: 0.7800\n",
            "Epoch 63/150\n",
            "57/57 [==============================] - 0s 3ms/step - loss: 0.2896 - accuracy: 0.9004 - val_loss: 0.8671 - val_accuracy: 0.7600\n",
            "Epoch 64/150\n",
            "57/57 [==============================] - 0s 3ms/step - loss: 0.2585 - accuracy: 0.9021 - val_loss: 0.9263 - val_accuracy: 0.7100\n",
            "Epoch 65/150\n",
            "57/57 [==============================] - 0s 3ms/step - loss: 0.2509 - accuracy: 0.9140 - val_loss: 0.9118 - val_accuracy: 0.7600\n",
            "Epoch 66/150\n",
            "57/57 [==============================] - 0s 4ms/step - loss: 0.2857 - accuracy: 0.9040 - val_loss: 1.1146 - val_accuracy: 0.7400\n",
            "Epoch 67/150\n",
            "57/57 [==============================] - 0s 3ms/step - loss: 0.2776 - accuracy: 0.8990 - val_loss: 0.9581 - val_accuracy: 0.7700\n",
            "Epoch 68/150\n",
            "57/57 [==============================] - 0s 3ms/step - loss: 0.2913 - accuracy: 0.8837 - val_loss: 0.8993 - val_accuracy: 0.7300\n",
            "Epoch 69/150\n",
            "57/57 [==============================] - 0s 3ms/step - loss: 0.2663 - accuracy: 0.9089 - val_loss: 0.9775 - val_accuracy: 0.7500\n",
            "Epoch 70/150\n",
            "57/57 [==============================] - 0s 3ms/step - loss: 0.2297 - accuracy: 0.9196 - val_loss: 1.0097 - val_accuracy: 0.7700\n",
            "Epoch 71/150\n",
            "57/57 [==============================] - 0s 3ms/step - loss: 0.2446 - accuracy: 0.9203 - val_loss: 0.9151 - val_accuracy: 0.7600\n",
            "Epoch 72/150\n",
            "57/57 [==============================] - 0s 3ms/step - loss: 0.2046 - accuracy: 0.9289 - val_loss: 1.0284 - val_accuracy: 0.7500\n",
            "Epoch 73/150\n",
            "57/57 [==============================] - 0s 4ms/step - loss: 0.2255 - accuracy: 0.9309 - val_loss: 0.9243 - val_accuracy: 0.7600\n",
            "Epoch 74/150\n",
            "57/57 [==============================] - 0s 3ms/step - loss: 0.2289 - accuracy: 0.9255 - val_loss: 0.9705 - val_accuracy: 0.7600\n",
            "Epoch 75/150\n",
            "57/57 [==============================] - 0s 3ms/step - loss: 0.2188 - accuracy: 0.9324 - val_loss: 0.9689 - val_accuracy: 0.7500\n",
            "Epoch 76/150\n",
            "57/57 [==============================] - 0s 3ms/step - loss: 0.1980 - accuracy: 0.9272 - val_loss: 0.9211 - val_accuracy: 0.7600\n",
            "Epoch 77/150\n",
            "57/57 [==============================] - 0s 3ms/step - loss: 0.2104 - accuracy: 0.9377 - val_loss: 0.8778 - val_accuracy: 0.7800\n",
            "Epoch 78/150\n",
            "57/57 [==============================] - 0s 3ms/step - loss: 0.2536 - accuracy: 0.9254 - val_loss: 0.9415 - val_accuracy: 0.7900\n",
            "Epoch 79/150\n",
            "57/57 [==============================] - 0s 3ms/step - loss: 0.2211 - accuracy: 0.9265 - val_loss: 0.9475 - val_accuracy: 0.7400\n",
            "Epoch 80/150\n",
            "57/57 [==============================] - 0s 3ms/step - loss: 0.1991 - accuracy: 0.9222 - val_loss: 0.9094 - val_accuracy: 0.7300\n",
            "Epoch 81/150\n",
            "57/57 [==============================] - 0s 3ms/step - loss: 0.2775 - accuracy: 0.9043 - val_loss: 1.1159 - val_accuracy: 0.7500\n",
            "Epoch 82/150\n",
            "57/57 [==============================] - 0s 4ms/step - loss: 0.1649 - accuracy: 0.9512 - val_loss: 0.9261 - val_accuracy: 0.7600\n",
            "Epoch 83/150\n",
            "57/57 [==============================] - 0s 3ms/step - loss: 0.1579 - accuracy: 0.9286 - val_loss: 0.9481 - val_accuracy: 0.7800\n",
            "Epoch 84/150\n",
            "57/57 [==============================] - 0s 3ms/step - loss: 0.2160 - accuracy: 0.9325 - val_loss: 1.0015 - val_accuracy: 0.7700\n",
            "Epoch 85/150\n",
            "57/57 [==============================] - 0s 3ms/step - loss: 0.1608 - accuracy: 0.9440 - val_loss: 0.9643 - val_accuracy: 0.7600\n",
            "Epoch 86/150\n",
            "57/57 [==============================] - 0s 3ms/step - loss: 0.1839 - accuracy: 0.9351 - val_loss: 0.9017 - val_accuracy: 0.7700\n",
            "Epoch 87/150\n",
            "57/57 [==============================] - 0s 4ms/step - loss: 0.2221 - accuracy: 0.9292 - val_loss: 1.0089 - val_accuracy: 0.7900\n",
            "Epoch 88/150\n",
            "57/57 [==============================] - 0s 4ms/step - loss: 0.1824 - accuracy: 0.9382 - val_loss: 0.8256 - val_accuracy: 0.7400\n",
            "Epoch 89/150\n",
            "57/57 [==============================] - 0s 3ms/step - loss: 0.1793 - accuracy: 0.9441 - val_loss: 0.8244 - val_accuracy: 0.7700\n",
            "Epoch 90/150\n",
            "57/57 [==============================] - 0s 3ms/step - loss: 0.2192 - accuracy: 0.9278 - val_loss: 0.8602 - val_accuracy: 0.8000\n",
            "Epoch 91/150\n",
            "57/57 [==============================] - 0s 3ms/step - loss: 0.1615 - accuracy: 0.9447 - val_loss: 0.9611 - val_accuracy: 0.7400\n",
            "Epoch 92/150\n",
            "57/57 [==============================] - 0s 3ms/step - loss: 0.2668 - accuracy: 0.9044 - val_loss: 0.8890 - val_accuracy: 0.7700\n",
            "Epoch 93/150\n",
            "57/57 [==============================] - 0s 3ms/step - loss: 0.1401 - accuracy: 0.9548 - val_loss: 0.8387 - val_accuracy: 0.7500\n",
            "Epoch 94/150\n",
            "57/57 [==============================] - 0s 3ms/step - loss: 0.2122 - accuracy: 0.9399 - val_loss: 0.8443 - val_accuracy: 0.7800\n",
            "Epoch 95/150\n",
            "57/57 [==============================] - 0s 3ms/step - loss: 0.2047 - accuracy: 0.9238 - val_loss: 0.7918 - val_accuracy: 0.7900\n",
            "Epoch 96/150\n",
            "57/57 [==============================] - 0s 7ms/step - loss: 0.1265 - accuracy: 0.9609 - val_loss: 0.9540 - val_accuracy: 0.7500\n",
            "Epoch 97/150\n",
            "57/57 [==============================] - 0s 4ms/step - loss: 0.2399 - accuracy: 0.9122 - val_loss: 0.9210 - val_accuracy: 0.7500\n",
            "Epoch 98/150\n",
            "57/57 [==============================] - 0s 4ms/step - loss: 0.2018 - accuracy: 0.9304 - val_loss: 1.0073 - val_accuracy: 0.7500\n",
            "Epoch 99/150\n",
            "57/57 [==============================] - 0s 4ms/step - loss: 0.1825 - accuracy: 0.9251 - val_loss: 1.0407 - val_accuracy: 0.7600\n",
            "Epoch 100/150\n",
            "57/57 [==============================] - 0s 3ms/step - loss: 0.1410 - accuracy: 0.9592 - val_loss: 1.1411 - val_accuracy: 0.7400\n",
            "Epoch 101/150\n",
            "57/57 [==============================] - 0s 3ms/step - loss: 0.1672 - accuracy: 0.9460 - val_loss: 1.0387 - val_accuracy: 0.7400\n",
            "Epoch 102/150\n",
            "57/57 [==============================] - 0s 3ms/step - loss: 0.1566 - accuracy: 0.9469 - val_loss: 1.1054 - val_accuracy: 0.7600\n",
            "Epoch 103/150\n",
            "57/57 [==============================] - 0s 3ms/step - loss: 0.2081 - accuracy: 0.9340 - val_loss: 0.9680 - val_accuracy: 0.7700\n",
            "Epoch 104/150\n",
            "57/57 [==============================] - 0s 4ms/step - loss: 0.1294 - accuracy: 0.9516 - val_loss: 1.0382 - val_accuracy: 0.7500\n",
            "Epoch 105/150\n",
            "57/57 [==============================] - 0s 3ms/step - loss: 0.1372 - accuracy: 0.9516 - val_loss: 1.0739 - val_accuracy: 0.7600\n",
            "Epoch 106/150\n",
            "57/57 [==============================] - 0s 3ms/step - loss: 0.1961 - accuracy: 0.9261 - val_loss: 1.1647 - val_accuracy: 0.7600\n",
            "Epoch 107/150\n",
            "57/57 [==============================] - 0s 3ms/step - loss: 0.1699 - accuracy: 0.9479 - val_loss: 0.9880 - val_accuracy: 0.7600\n",
            "Epoch 108/150\n",
            "57/57 [==============================] - 0s 4ms/step - loss: 0.1620 - accuracy: 0.9426 - val_loss: 1.1326 - val_accuracy: 0.7700\n",
            "Epoch 109/150\n",
            "57/57 [==============================] - 0s 4ms/step - loss: 0.1827 - accuracy: 0.9434 - val_loss: 1.1374 - val_accuracy: 0.7700\n",
            "Epoch 110/150\n",
            "57/57 [==============================] - 0s 3ms/step - loss: 0.1841 - accuracy: 0.9353 - val_loss: 1.0072 - val_accuracy: 0.7700\n",
            "Epoch 111/150\n",
            "57/57 [==============================] - 0s 3ms/step - loss: 0.1741 - accuracy: 0.9409 - val_loss: 1.1282 - val_accuracy: 0.7800\n",
            "Epoch 112/150\n",
            "57/57 [==============================] - 0s 3ms/step - loss: 0.1854 - accuracy: 0.9315 - val_loss: 1.0752 - val_accuracy: 0.7600\n",
            "Epoch 113/150\n",
            "57/57 [==============================] - 0s 3ms/step - loss: 0.1599 - accuracy: 0.9433 - val_loss: 1.0291 - val_accuracy: 0.7600\n",
            "Epoch 114/150\n",
            "57/57 [==============================] - 0s 4ms/step - loss: 0.1171 - accuracy: 0.9626 - val_loss: 1.0230 - val_accuracy: 0.7600\n",
            "Epoch 115/150\n",
            "57/57 [==============================] - 0s 3ms/step - loss: 0.1814 - accuracy: 0.9369 - val_loss: 1.0450 - val_accuracy: 0.7800\n",
            "Epoch 116/150\n",
            "57/57 [==============================] - 0s 4ms/step - loss: 0.2428 - accuracy: 0.9330 - val_loss: 1.0736 - val_accuracy: 0.7500\n",
            "Epoch 117/150\n",
            "57/57 [==============================] - 0s 3ms/step - loss: 0.1544 - accuracy: 0.9482 - val_loss: 1.1115 - val_accuracy: 0.7900\n",
            "Epoch 118/150\n",
            "57/57 [==============================] - 0s 3ms/step - loss: 0.1856 - accuracy: 0.9440 - val_loss: 1.0197 - val_accuracy: 0.7500\n",
            "Epoch 119/150\n",
            "57/57 [==============================] - 0s 3ms/step - loss: 0.1748 - accuracy: 0.9334 - val_loss: 1.0242 - val_accuracy: 0.7600\n",
            "Epoch 120/150\n",
            "57/57 [==============================] - 0s 3ms/step - loss: 0.1817 - accuracy: 0.9426 - val_loss: 1.0746 - val_accuracy: 0.7400\n",
            "Epoch 121/150\n",
            "57/57 [==============================] - 0s 3ms/step - loss: 0.1431 - accuracy: 0.9454 - val_loss: 0.9830 - val_accuracy: 0.7400\n",
            "Epoch 122/150\n",
            "57/57 [==============================] - 0s 3ms/step - loss: 0.1857 - accuracy: 0.9483 - val_loss: 0.9796 - val_accuracy: 0.7400\n",
            "Epoch 123/150\n",
            "57/57 [==============================] - 0s 4ms/step - loss: 0.1802 - accuracy: 0.9440 - val_loss: 0.9740 - val_accuracy: 0.7400\n",
            "Epoch 124/150\n",
            "57/57 [==============================] - 0s 4ms/step - loss: 0.1926 - accuracy: 0.9385 - val_loss: 1.1034 - val_accuracy: 0.7700\n",
            "Epoch 125/150\n",
            "57/57 [==============================] - 0s 3ms/step - loss: 0.1837 - accuracy: 0.9264 - val_loss: 1.2239 - val_accuracy: 0.7300\n",
            "Epoch 126/150\n",
            "57/57 [==============================] - 0s 3ms/step - loss: 0.1754 - accuracy: 0.9486 - val_loss: 1.1813 - val_accuracy: 0.7300\n",
            "Epoch 127/150\n",
            "57/57 [==============================] - 0s 4ms/step - loss: 0.1847 - accuracy: 0.9388 - val_loss: 1.0497 - val_accuracy: 0.7600\n",
            "Epoch 128/150\n",
            "57/57 [==============================] - 0s 4ms/step - loss: 0.1611 - accuracy: 0.9507 - val_loss: 1.0002 - val_accuracy: 0.7900\n",
            "Epoch 129/150\n",
            "57/57 [==============================] - 0s 3ms/step - loss: 0.1383 - accuracy: 0.9501 - val_loss: 1.1197 - val_accuracy: 0.7600\n",
            "Epoch 130/150\n",
            "57/57 [==============================] - 0s 3ms/step - loss: 0.1596 - accuracy: 0.9471 - val_loss: 1.0756 - val_accuracy: 0.8100\n",
            "Epoch 131/150\n",
            "57/57 [==============================] - 0s 3ms/step - loss: 0.1729 - accuracy: 0.9406 - val_loss: 1.0363 - val_accuracy: 0.7800\n",
            "Epoch 132/150\n",
            "57/57 [==============================] - 0s 4ms/step - loss: 0.1613 - accuracy: 0.9476 - val_loss: 1.0225 - val_accuracy: 0.7500\n",
            "Epoch 133/150\n",
            "57/57 [==============================] - 0s 3ms/step - loss: 0.2064 - accuracy: 0.9316 - val_loss: 0.9946 - val_accuracy: 0.7700\n",
            "Epoch 134/150\n",
            "57/57 [==============================] - 0s 4ms/step - loss: 0.1622 - accuracy: 0.9447 - val_loss: 1.1440 - val_accuracy: 0.7700\n",
            "Epoch 135/150\n",
            "57/57 [==============================] - 0s 3ms/step - loss: 0.1304 - accuracy: 0.9622 - val_loss: 1.0833 - val_accuracy: 0.7300\n",
            "Epoch 136/150\n",
            "57/57 [==============================] - 0s 4ms/step - loss: 0.1622 - accuracy: 0.9411 - val_loss: 1.0322 - val_accuracy: 0.7400\n",
            "Epoch 137/150\n",
            "57/57 [==============================] - 0s 3ms/step - loss: 0.1577 - accuracy: 0.9451 - val_loss: 1.0616 - val_accuracy: 0.7600\n",
            "Epoch 138/150\n",
            "57/57 [==============================] - 0s 3ms/step - loss: 0.1331 - accuracy: 0.9464 - val_loss: 1.1012 - val_accuracy: 0.7800\n",
            "Epoch 139/150\n",
            "57/57 [==============================] - 0s 4ms/step - loss: 0.1297 - accuracy: 0.9589 - val_loss: 1.1056 - val_accuracy: 0.7600\n",
            "Epoch 140/150\n",
            "57/57 [==============================] - 0s 3ms/step - loss: 0.1226 - accuracy: 0.9572 - val_loss: 1.1537 - val_accuracy: 0.7500\n",
            "Epoch 141/150\n",
            "57/57 [==============================] - 0s 3ms/step - loss: 0.1624 - accuracy: 0.9404 - val_loss: 1.3270 - val_accuracy: 0.7300\n",
            "Epoch 142/150\n",
            "57/57 [==============================] - 0s 4ms/step - loss: 0.1527 - accuracy: 0.9460 - val_loss: 1.2231 - val_accuracy: 0.7400\n",
            "Epoch 143/150\n",
            "57/57 [==============================] - 0s 3ms/step - loss: 0.1628 - accuracy: 0.9316 - val_loss: 1.1845 - val_accuracy: 0.7700\n",
            "Epoch 144/150\n",
            "57/57 [==============================] - 0s 3ms/step - loss: 0.2113 - accuracy: 0.9268 - val_loss: 1.1279 - val_accuracy: 0.7700\n",
            "Epoch 145/150\n",
            "57/57 [==============================] - 0s 3ms/step - loss: 0.1967 - accuracy: 0.9277 - val_loss: 1.0531 - val_accuracy: 0.7500\n",
            "Epoch 146/150\n",
            "57/57 [==============================] - 0s 3ms/step - loss: 0.1592 - accuracy: 0.9445 - val_loss: 1.0208 - val_accuracy: 0.7700\n",
            "Epoch 147/150\n",
            "57/57 [==============================] - 0s 4ms/step - loss: 0.1566 - accuracy: 0.9508 - val_loss: 1.1455 - val_accuracy: 0.7500\n",
            "Epoch 148/150\n",
            "57/57 [==============================] - 0s 3ms/step - loss: 0.1716 - accuracy: 0.9467 - val_loss: 1.0163 - val_accuracy: 0.7800\n",
            "Epoch 149/150\n",
            "57/57 [==============================] - 0s 3ms/step - loss: 0.2002 - accuracy: 0.9320 - val_loss: 1.0013 - val_accuracy: 0.7500\n",
            "Epoch 150/150\n",
            "57/57 [==============================] - 0s 3ms/step - loss: 0.1397 - accuracy: 0.9575 - val_loss: 0.9261 - val_accuracy: 0.7900\n"
          ],
          "name": "stdout"
        },
        {
          "output_type": "display_data",
          "data": {
            "image/png": "[encoded data removed]",
            "text/plain": [
              "<Figure size 432x288 with 1 Axes>"
            ]
          },
          "metadata": {
            "tags": [],
            "needs_background": "light"
          }
        }
      ]
    },
    {
      "cell_type": "code",
      "metadata": {
        "colab": {
          "base_uri": "https://localhost:8080/",
          "height": 959
        },
        "id": "I8d7JGA73yB4",
        "outputId": "22f9d115-1844-476d-c1fa-88f9788a9087"
      },
      "source": [
        "#Дообучим модель\n",
        "model.compile(loss='sparse_categorical_crossentropy', optimizer=Adam(lr=0.00001), metrics=['accuracy'])\n",
        "history = model.fit(xx, y_train, epochs=20, batch_size=16, validation_data=(xv,y_test))\n",
        "\n",
        "plt.plot(history.history['accuracy'], label='Обучающая выборка')\n",
        "plt.plot(history.history['val_accuracy'], label='Проверочная выборка')\n",
        "plt.xlabel('Эпоха')\n",
        "plt.ylabel('Точность')\n",
        "plt.legend()\n",
        "plt.show()"
      ],
      "execution_count": null,
      "outputs": [
        {
          "output_type": "stream",
          "text": [
            "Epoch 1/20\n",
            "57/57 [==============================] - 1s 5ms/step - loss: 0.0157 - accuracy: 0.9970 - val_loss: 1.0952 - val_accuracy: 0.7900\n",
            "Epoch 2/20\n",
            "57/57 [==============================] - 0s 3ms/step - loss: 0.0252 - accuracy: 0.9923 - val_loss: 1.0957 - val_accuracy: 0.7900\n",
            "Epoch 3/20\n",
            "57/57 [==============================] - 0s 3ms/step - loss: 0.0213 - accuracy: 0.9926 - val_loss: 1.0966 - val_accuracy: 0.7900\n",
            "Epoch 4/20\n",
            "57/57 [==============================] - 0s 3ms/step - loss: 0.0151 - accuracy: 0.9959 - val_loss: 1.0905 - val_accuracy: 0.7900\n",
            "Epoch 5/20\n",
            "57/57 [==============================] - 0s 3ms/step - loss: 0.0330 - accuracy: 0.9897 - val_loss: 1.0909 - val_accuracy: 0.7900\n",
            "Epoch 6/20\n",
            "57/57 [==============================] - 0s 4ms/step - loss: 0.0494 - accuracy: 0.9852 - val_loss: 1.0915 - val_accuracy: 0.7900\n",
            "Epoch 7/20\n",
            "57/57 [==============================] - 0s 3ms/step - loss: 0.0280 - accuracy: 0.9928 - val_loss: 1.0928 - val_accuracy: 0.7900\n",
            "Epoch 8/20\n",
            "57/57 [==============================] - 0s 3ms/step - loss: 0.0331 - accuracy: 0.9908 - val_loss: 1.0946 - val_accuracy: 0.7900\n",
            "Epoch 9/20\n",
            "57/57 [==============================] - 0s 3ms/step - loss: 0.0200 - accuracy: 0.9910 - val_loss: 1.0911 - val_accuracy: 0.7900\n",
            "Epoch 10/20\n",
            "57/57 [==============================] - 0s 3ms/step - loss: 0.0181 - accuracy: 0.9894 - val_loss: 1.0896 - val_accuracy: 0.7900\n",
            "Epoch 11/20\n",
            "57/57 [==============================] - 0s 3ms/step - loss: 0.0248 - accuracy: 0.9938 - val_loss: 1.0883 - val_accuracy: 0.7900\n",
            "Epoch 12/20\n",
            "57/57 [==============================] - 0s 3ms/step - loss: 0.0197 - accuracy: 0.9939 - val_loss: 1.0903 - val_accuracy: 0.7900\n",
            "Epoch 13/20\n",
            "57/57 [==============================] - 0s 4ms/step - loss: 0.0273 - accuracy: 0.9911 - val_loss: 1.0918 - val_accuracy: 0.7900\n",
            "Epoch 14/20\n",
            "57/57 [==============================] - 0s 3ms/step - loss: 0.0499 - accuracy: 0.9771 - val_loss: 1.0895 - val_accuracy: 0.7900\n",
            "Epoch 15/20\n",
            "57/57 [==============================] - 0s 3ms/step - loss: 0.0237 - accuracy: 0.9891 - val_loss: 1.0890 - val_accuracy: 0.7900\n",
            "Epoch 16/20\n",
            "57/57 [==============================] - 0s 4ms/step - loss: 0.0282 - accuracy: 0.9929 - val_loss: 1.0849 - val_accuracy: 0.7900\n",
            "Epoch 17/20\n",
            "57/57 [==============================] - 0s 3ms/step - loss: 0.0216 - accuracy: 0.9923 - val_loss: 1.0855 - val_accuracy: 0.8000\n",
            "Epoch 18/20\n",
            "57/57 [==============================] - 0s 3ms/step - loss: 0.0186 - accuracy: 0.9944 - val_loss: 1.0910 - val_accuracy: 0.8000\n",
            "Epoch 19/20\n",
            "57/57 [==============================] - 0s 3ms/step - loss: 0.0226 - accuracy: 0.9933 - val_loss: 1.0894 - val_accuracy: 0.8000\n",
            "Epoch 20/20\n",
            "57/57 [==============================] - 0s 3ms/step - loss: 0.0173 - accuracy: 0.9962 - val_loss: 1.0902 - val_accuracy: 0.7900\n"
          ],
          "name": "stdout"
        },
        {
          "output_type": "display_data",
          "data": {
            "image/png": "[encoded data removed]",
            "text/plain": [
              "<Figure size 432x288 with 1 Axes>"
            ]
          },
          "metadata": {
            "tags": [],
            "needs_background": "light"
          }
        }
      ]
    },
    {
      "cell_type": "code",
      "metadata": {
        "id": "qKsNn_0E3x-1"
      },
      "source": [
        ""
      ],
      "execution_count": null,
      "outputs": []
    }
  ]
}