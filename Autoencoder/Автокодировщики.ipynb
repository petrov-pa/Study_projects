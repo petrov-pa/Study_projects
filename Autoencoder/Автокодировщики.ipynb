{
  "nbformat": 4,
  "nbformat_minor": 0,
  "metadata": {
    "colab": {
      "name": "Автокодировщики Pro",
      "provenance": [],
      "collapsed_sections": [],
      "toc_visible": true,
      "authorship_tag": "ABX9TyNURuXdLvqSMvzl3blJdG28"
    },
    "kernelspec": {
      "name": "python3",
      "display_name": "Python 3"
    },
    "accelerator": "GPU"
  },
  "cells": [
    {
      "cell_type": "code",
      "metadata": {
        "id": "tnyQbg0N-FPd"
      },
      "source": [
        "import numpy as np\n",
        "import pandas as pd\n",
        "import matplotlib.pyplot as plt \n",
        "%matplotlib inline\n",
        "\n",
        "from tensorflow.keras.optimizers import Adam \n",
        "from tensorflow.keras.models import Model \n",
        "from tensorflow.keras.layers import Dense, Dropout, BatchNormalization, Input\n",
        "\n",
        "from sklearn.preprocessing import StandardScaler\n",
        "from sklearn.model_selection import train_test_split\n",
        "\n",
        "from google.colab import drive\n",
        "\n",
        "from PIL import Image"
      ],
      "execution_count": null,
      "outputs": []
    },
    {
      "cell_type": "code",
      "metadata": {
        "colab": {
          "base_uri": "https://localhost:8080/"
        },
        "id": "Nd40v8-sCtrn",
        "outputId": "b8741530-3d75-4de3-f00c-53a9380042cb"
      },
      "source": [
        "drive.mount('/content/drive')"
      ],
      "execution_count": null,
      "outputs": [
        {
          "output_type": "stream",
          "text": [
            "Drive already mounted at /content/drive; to attempt to forcibly remount, call drive.mount(\"/content/drive\", force_remount=True).\n"
          ],
          "name": "stdout"
        }
      ]
    },
    {
      "cell_type": "code",
      "metadata": {
        "id": "2UAslKp-C997"
      },
      "source": [
        "#Загрузим данные\n",
        "df = pd.read_csv('/content/drive/MyDrive/creditcard.csv')"
      ],
      "execution_count": null,
      "outputs": []
    },
    {
      "cell_type": "code",
      "metadata": {
        "colab": {
          "base_uri": "https://localhost:8080/",
          "height": 224
        },
        "id": "I8NnMGQUDhqC",
        "outputId": "d140c56e-c738-4bfb-8659-a14afcfb5fd4"
      },
      "source": [
        "df.head()"
      ],
      "execution_count": null,
      "outputs": [
        {
          "output_type": "execute_result",
          "data": {
            "text/html": [
              "<div>\n",
              "<style scoped>\n",
              "    .dataframe tbody tr th:only-of-type {\n",
              "        vertical-align: middle;\n",
              "    }\n",
              "\n",
              "    .dataframe tbody tr th {\n",
              "        vertical-align: top;\n",
              "    }\n",
              "\n",
              "    .dataframe thead th {\n",
              "        text-align: right;\n",
              "    }\n",
              "</style>\n",
              "<table border=\"1\" class=\"dataframe\">\n",
              "  <thead>\n",
              "    <tr style=\"text-align: right;\">\n",
              "      <th></th>\n",
              "      <th>Time</th>\n",
              "      <th>V1</th>\n",
              "      <th>V2</th>\n",
              "      <th>V3</th>\n",
              "      <th>V4</th>\n",
              "      <th>V5</th>\n",
              "      <th>V6</th>\n",
              "      <th>V7</th>\n",
              "      <th>V8</th>\n",
              "      <th>V9</th>\n",
              "      <th>V10</th>\n",
              "      <th>V11</th>\n",
              "      <th>V12</th>\n",
              "      <th>V13</th>\n",
              "      <th>V14</th>\n",
              "      <th>V15</th>\n",
              "      <th>V16</th>\n",
              "      <th>V17</th>\n",
              "      <th>V18</th>\n",
              "      <th>V19</th>\n",
              "      <th>V20</th>\n",
              "      <th>V21</th>\n",
              "      <th>V22</th>\n",
              "      <th>V23</th>\n",
              "      <th>V24</th>\n",
              "      <th>V25</th>\n",
              "      <th>V26</th>\n",
              "      <th>V27</th>\n",
              "      <th>V28</th>\n",
              "      <th>Amount</th>\n",
              "      <th>Class</th>\n",
              "    </tr>\n",
              "  </thead>\n",
              "  <tbody>\n",
              "    <tr>\n",
              "      <th>0</th>\n",
              "      <td>0.0</td>\n",
              "      <td>-1.359807</td>\n",
              "      <td>-0.072781</td>\n",
              "      <td>2.536347</td>\n",
              "      <td>1.378155</td>\n",
              "      <td>-0.338321</td>\n",
              "      <td>0.462388</td>\n",
              "      <td>0.239599</td>\n",
              "      <td>0.098698</td>\n",
              "      <td>0.363787</td>\n",
              "      <td>0.090794</td>\n",
              "      <td>-0.551600</td>\n",
              "      <td>-0.617801</td>\n",
              "      <td>-0.991390</td>\n",
              "      <td>-0.311169</td>\n",
              "      <td>1.468177</td>\n",
              "      <td>-0.470401</td>\n",
              "      <td>0.207971</td>\n",
              "      <td>0.025791</td>\n",
              "      <td>0.403993</td>\n",
              "      <td>0.251412</td>\n",
              "      <td>-0.018307</td>\n",
              "      <td>0.277838</td>\n",
              "      <td>-0.110474</td>\n",
              "      <td>0.066928</td>\n",
              "      <td>0.128539</td>\n",
              "      <td>-0.189115</td>\n",
              "      <td>0.133558</td>\n",
              "      <td>-0.021053</td>\n",
              "      <td>149.62</td>\n",
              "      <td>0</td>\n",
              "    </tr>\n",
              "    <tr>\n",
              "      <th>1</th>\n",
              "      <td>0.0</td>\n",
              "      <td>1.191857</td>\n",
              "      <td>0.266151</td>\n",
              "      <td>0.166480</td>\n",
              "      <td>0.448154</td>\n",
              "      <td>0.060018</td>\n",
              "      <td>-0.082361</td>\n",
              "      <td>-0.078803</td>\n",
              "      <td>0.085102</td>\n",
              "      <td>-0.255425</td>\n",
              "      <td>-0.166974</td>\n",
              "      <td>1.612727</td>\n",
              "      <td>1.065235</td>\n",
              "      <td>0.489095</td>\n",
              "      <td>-0.143772</td>\n",
              "      <td>0.635558</td>\n",
              "      <td>0.463917</td>\n",
              "      <td>-0.114805</td>\n",
              "      <td>-0.183361</td>\n",
              "      <td>-0.145783</td>\n",
              "      <td>-0.069083</td>\n",
              "      <td>-0.225775</td>\n",
              "      <td>-0.638672</td>\n",
              "      <td>0.101288</td>\n",
              "      <td>-0.339846</td>\n",
              "      <td>0.167170</td>\n",
              "      <td>0.125895</td>\n",
              "      <td>-0.008983</td>\n",
              "      <td>0.014724</td>\n",
              "      <td>2.69</td>\n",
              "      <td>0</td>\n",
              "    </tr>\n",
              "    <tr>\n",
              "      <th>2</th>\n",
              "      <td>1.0</td>\n",
              "      <td>-1.358354</td>\n",
              "      <td>-1.340163</td>\n",
              "      <td>1.773209</td>\n",
              "      <td>0.379780</td>\n",
              "      <td>-0.503198</td>\n",
              "      <td>1.800499</td>\n",
              "      <td>0.791461</td>\n",
              "      <td>0.247676</td>\n",
              "      <td>-1.514654</td>\n",
              "      <td>0.207643</td>\n",
              "      <td>0.624501</td>\n",
              "      <td>0.066084</td>\n",
              "      <td>0.717293</td>\n",
              "      <td>-0.165946</td>\n",
              "      <td>2.345865</td>\n",
              "      <td>-2.890083</td>\n",
              "      <td>1.109969</td>\n",
              "      <td>-0.121359</td>\n",
              "      <td>-2.261857</td>\n",
              "      <td>0.524980</td>\n",
              "      <td>0.247998</td>\n",
              "      <td>0.771679</td>\n",
              "      <td>0.909412</td>\n",
              "      <td>-0.689281</td>\n",
              "      <td>-0.327642</td>\n",
              "      <td>-0.139097</td>\n",
              "      <td>-0.055353</td>\n",
              "      <td>-0.059752</td>\n",
              "      <td>378.66</td>\n",
              "      <td>0</td>\n",
              "    </tr>\n",
              "    <tr>\n",
              "      <th>3</th>\n",
              "      <td>1.0</td>\n",
              "      <td>-0.966272</td>\n",
              "      <td>-0.185226</td>\n",
              "      <td>1.792993</td>\n",
              "      <td>-0.863291</td>\n",
              "      <td>-0.010309</td>\n",
              "      <td>1.247203</td>\n",
              "      <td>0.237609</td>\n",
              "      <td>0.377436</td>\n",
              "      <td>-1.387024</td>\n",
              "      <td>-0.054952</td>\n",
              "      <td>-0.226487</td>\n",
              "      <td>0.178228</td>\n",
              "      <td>0.507757</td>\n",
              "      <td>-0.287924</td>\n",
              "      <td>-0.631418</td>\n",
              "      <td>-1.059647</td>\n",
              "      <td>-0.684093</td>\n",
              "      <td>1.965775</td>\n",
              "      <td>-1.232622</td>\n",
              "      <td>-0.208038</td>\n",
              "      <td>-0.108300</td>\n",
              "      <td>0.005274</td>\n",
              "      <td>-0.190321</td>\n",
              "      <td>-1.175575</td>\n",
              "      <td>0.647376</td>\n",
              "      <td>-0.221929</td>\n",
              "      <td>0.062723</td>\n",
              "      <td>0.061458</td>\n",
              "      <td>123.50</td>\n",
              "      <td>0</td>\n",
              "    </tr>\n",
              "    <tr>\n",
              "      <th>4</th>\n",
              "      <td>2.0</td>\n",
              "      <td>-1.158233</td>\n",
              "      <td>0.877737</td>\n",
              "      <td>1.548718</td>\n",
              "      <td>0.403034</td>\n",
              "      <td>-0.407193</td>\n",
              "      <td>0.095921</td>\n",
              "      <td>0.592941</td>\n",
              "      <td>-0.270533</td>\n",
              "      <td>0.817739</td>\n",
              "      <td>0.753074</td>\n",
              "      <td>-0.822843</td>\n",
              "      <td>0.538196</td>\n",
              "      <td>1.345852</td>\n",
              "      <td>-1.119670</td>\n",
              "      <td>0.175121</td>\n",
              "      <td>-0.451449</td>\n",
              "      <td>-0.237033</td>\n",
              "      <td>-0.038195</td>\n",
              "      <td>0.803487</td>\n",
              "      <td>0.408542</td>\n",
              "      <td>-0.009431</td>\n",
              "      <td>0.798278</td>\n",
              "      <td>-0.137458</td>\n",
              "      <td>0.141267</td>\n",
              "      <td>-0.206010</td>\n",
              "      <td>0.502292</td>\n",
              "      <td>0.219422</td>\n",
              "      <td>0.215153</td>\n",
              "      <td>69.99</td>\n",
              "      <td>0</td>\n",
              "    </tr>\n",
              "  </tbody>\n",
              "</table>\n",
              "</div>"
            ],
            "text/plain": [
              "   Time        V1        V2        V3  ...       V27       V28  Amount  Class\n",
              "0   0.0 -1.359807 -0.072781  2.536347  ...  0.133558 -0.021053  149.62      0\n",
              "1   0.0  1.191857  0.266151  0.166480  ... -0.008983  0.014724    2.69      0\n",
              "2   1.0 -1.358354 -1.340163  1.773209  ... -0.055353 -0.059752  378.66      0\n",
              "3   1.0 -0.966272 -0.185226  1.792993  ...  0.062723  0.061458  123.50      0\n",
              "4   2.0 -1.158233  0.877737  1.548718  ...  0.219422  0.215153   69.99      0\n",
              "\n",
              "[5 rows x 31 columns]"
            ]
          },
          "metadata": {
            "tags": []
          },
          "execution_count": 89
        }
      ]
    },
    {
      "cell_type": "code",
      "metadata": {
        "id": "yf70KwIpFjnr"
      },
      "source": [
        "#Удалим лишний столбец\n",
        "df = df.drop('Time', axis=1)"
      ],
      "execution_count": null,
      "outputs": []
    },
    {
      "cell_type": "code",
      "metadata": {
        "id": "ot4QrDAiFjj5"
      },
      "source": [
        "#Отнормируем столбец\n",
        "df['Amount'] = StandardScaler().fit_transform(df['Amount'].values.reshape(-1,1))"
      ],
      "execution_count": null,
      "outputs": []
    },
    {
      "cell_type": "code",
      "metadata": {
        "id": "JnWJcZphFjbF"
      },
      "source": [
        "#Разделим на нормальные транзакции и мошеннические\n",
        "normal = df.loc[df.Class == 0]\n",
        "outliers = df.loc[df.Class == 1]"
      ],
      "execution_count": null,
      "outputs": []
    },
    {
      "cell_type": "code",
      "metadata": {
        "id": "3EThoM1IRJ0_"
      },
      "source": [
        "#Разделим выборку на обучающую и тестовую\n",
        "x_train, x_test = train_test_split(normal, test_size=0.2)"
      ],
      "execution_count": null,
      "outputs": []
    },
    {
      "cell_type": "code",
      "metadata": {
        "colab": {
          "base_uri": "https://localhost:8080/"
        },
        "id": "ogqjLFjRRBbf",
        "outputId": "af4654b0-652d-44fc-a370-8f6aa6d24f1e"
      },
      "source": [
        "#Уберем лишний столбец\n",
        "x_train.drop('Class', axis=1, inplace=True)\n",
        "#Соединим нормальные и мошеннические транзакции в тостовой выборке\n",
        "x_test = pd.concat((x_test, outliers))\n",
        "#запишем метки классов\n",
        "y_test = x_test.Class\n",
        "x_test.drop('Class', axis=1, inplace=True)"
      ],
      "execution_count": null,
      "outputs": [
        {
          "output_type": "stream",
          "text": [
            "/usr/local/lib/python3.6/dist-packages/pandas/core/frame.py:4174: SettingWithCopyWarning: \n",
            "A value is trying to be set on a copy of a slice from a DataFrame\n",
            "\n",
            "See the caveats in the documentation: https://pandas.pydata.org/pandas-docs/stable/user_guide/indexing.html#returning-a-view-versus-a-copy\n",
            "  errors=errors,\n"
          ],
          "name": "stderr"
        }
      ]
    },
    {
      "cell_type": "code",
      "metadata": {
        "colab": {
          "base_uri": "https://localhost:8080/"
        },
        "id": "InBlmuyGHPb8",
        "outputId": "6c63194d-d4f8-4f2a-ec18-a3699d0a70d8"
      },
      "source": [
        "print(x_train.shape)\n",
        "print(x_test.shape)"
      ],
      "execution_count": null,
      "outputs": [
        {
          "output_type": "stream",
          "text": [
            "(227452, 29)\n",
            "(57355, 29)\n"
          ],
          "name": "stdout"
        }
      ]
    },
    {
      "cell_type": "code",
      "metadata": {
        "colab": {
          "base_uri": "https://localhost:8080/",
          "height": 962
        },
        "id": "zex7X_OTHXlx",
        "outputId": "50c26a1e-481b-4bdc-e990-d13fecb4891f"
      },
      "source": [
        "#обучим модель\n",
        "input = Input((29,))\n",
        "x = BatchNormalization()(input)\n",
        "x = Dense(100, activation='relu')(x)\n",
        "x = BatchNormalization()(x)\n",
        "x = Dense(25, activation='relu')(x)\n",
        "x = BatchNormalization()(x)\n",
        "z = Dense(8, activation='relu')(x)\n",
        "\n",
        "x = Dense(25, activation='relu')(z)\n",
        "x = BatchNormalization()(x)\n",
        "x = Dense(100, activation='relu')(x)\n",
        "x = BatchNormalization()(x)\n",
        "\n",
        "output = Dense(29, activation='linear')(x)\n",
        "\n",
        "model = Model(input,output)\n",
        "\n",
        "model.compile(loss='mse', optimizer=Adam(lr=0.001))\n",
        "history = model.fit(x_train, x_train, epochs=20, batch_size=256, validation_split=0.2)\n",
        "\n",
        "plt.plot(history.history['loss'], label='Обучающая выборка')\n",
        "plt.plot(history.history['val_loss'], label='Проверочная выборка')\n",
        "plt.xlabel('Эпоха')\n",
        "plt.ylabel('Ошибка')\n",
        "plt.legend()\n",
        "plt.show()"
      ],
      "execution_count": null,
      "outputs": [
        {
          "output_type": "stream",
          "text": [
            "Epoch 1/20\n",
            "711/711 [==============================] - 5s 5ms/step - loss: 0.8227 - val_loss: 0.3384\n",
            "Epoch 2/20\n",
            "711/711 [==============================] - 4s 5ms/step - loss: 0.3677 - val_loss: 0.2439\n",
            "Epoch 3/20\n",
            "711/711 [==============================] - 4s 5ms/step - loss: 0.2772 - val_loss: 0.2011\n",
            "Epoch 4/20\n",
            "711/711 [==============================] - 4s 5ms/step - loss: 0.2524 - val_loss: 0.1840\n",
            "Epoch 5/20\n",
            "711/711 [==============================] - 4s 5ms/step - loss: 0.2301 - val_loss: 0.1648\n",
            "Epoch 6/20\n",
            "711/711 [==============================] - 4s 5ms/step - loss: 0.1982 - val_loss: 0.1803\n",
            "Epoch 7/20\n",
            "711/711 [==============================] - 4s 5ms/step - loss: 0.1855 - val_loss: 0.1519\n",
            "Epoch 8/20\n",
            "711/711 [==============================] - 4s 5ms/step - loss: 0.1918 - val_loss: 0.1468\n",
            "Epoch 9/20\n",
            "711/711 [==============================] - 4s 5ms/step - loss: 0.1682 - val_loss: 0.1407\n",
            "Epoch 10/20\n",
            "711/711 [==============================] - 4s 5ms/step - loss: 0.1620 - val_loss: 0.1571\n",
            "Epoch 11/20\n",
            "711/711 [==============================] - 4s 5ms/step - loss: 0.1615 - val_loss: 0.1327\n",
            "Epoch 12/20\n",
            "711/711 [==============================] - 4s 5ms/step - loss: 0.1537 - val_loss: 0.1348\n",
            "Epoch 13/20\n",
            "711/711 [==============================] - 4s 5ms/step - loss: 0.1559 - val_loss: 0.1329\n",
            "Epoch 14/20\n",
            "711/711 [==============================] - 4s 5ms/step - loss: 0.1484 - val_loss: 0.1770\n",
            "Epoch 15/20\n",
            "711/711 [==============================] - 4s 5ms/step - loss: 0.1505 - val_loss: 0.1271\n",
            "Epoch 16/20\n",
            "711/711 [==============================] - 4s 5ms/step - loss: 0.1475 - val_loss: 0.1255\n",
            "Epoch 17/20\n",
            "711/711 [==============================] - 4s 5ms/step - loss: 0.1390 - val_loss: 0.1285\n",
            "Epoch 18/20\n",
            "711/711 [==============================] - 4s 5ms/step - loss: 0.1379 - val_loss: 0.1305\n",
            "Epoch 19/20\n",
            "711/711 [==============================] - 4s 5ms/step - loss: 0.1394 - val_loss: 0.1210\n",
            "Epoch 20/20\n",
            "711/711 [==============================] - 4s 5ms/step - loss: 0.1323 - val_loss: 0.1207\n"
          ],
          "name": "stdout"
        },
        {
          "output_type": "display_data",
          "data": {
            "image/png": "[encoded data removed]",
            "text/plain": [
              "<Figure size 432x288 with 1 Axes>"
            ]
          },
          "metadata": {
            "tags": [],
            "needs_background": "light"
          }
        }
      ]
    },
    {
      "cell_type": "code",
      "metadata": {
        "colab": {
          "base_uri": "https://localhost:8080/",
          "height": 619
        },
        "id": "hGoWPS31HXig",
        "outputId": "d82ff9f8-f6af-4d11-e2c7-4d12cce48ef9"
      },
      "source": [
        "#Дообучим модель\n",
        "model.compile(loss='mse', optimizer=Adam(lr=0.0001))\n",
        "history = model.fit(x_train, x_train, epochs=10, batch_size=256, validation_split=0.2)\n",
        "\n",
        "plt.plot(history.history['loss'], label='Обучающая выборка')\n",
        "plt.plot(history.history['val_loss'], label='Проверочная выборка')\n",
        "plt.xlabel('Эпоха')\n",
        "plt.ylabel('Ошибка')\n",
        "plt.legend()\n",
        "plt.show()"
      ],
      "execution_count": null,
      "outputs": [
        {
          "output_type": "stream",
          "text": [
            "Epoch 1/10\n",
            "711/711 [==============================] - 5s 6ms/step - loss: 0.1287 - val_loss: 0.1074\n",
            "Epoch 2/10\n",
            "711/711 [==============================] - 4s 5ms/step - loss: 0.1256 - val_loss: 0.1072\n",
            "Epoch 3/10\n",
            "711/711 [==============================] - 4s 5ms/step - loss: 0.1256 - val_loss: 0.1067\n",
            "Epoch 4/10\n",
            "711/711 [==============================] - 4s 5ms/step - loss: 0.1250 - val_loss: 0.1069\n",
            "Epoch 5/10\n",
            "711/711 [==============================] - 4s 5ms/step - loss: 0.1235 - val_loss: 0.1058\n",
            "Epoch 6/10\n",
            "711/711 [==============================] - 4s 5ms/step - loss: 0.1307 - val_loss: 0.1055\n",
            "Epoch 7/10\n",
            "711/711 [==============================] - 4s 5ms/step - loss: 0.1248 - val_loss: 0.1053\n",
            "Epoch 8/10\n",
            "711/711 [==============================] - 4s 5ms/step - loss: 0.1228 - val_loss: 0.1064\n",
            "Epoch 9/10\n",
            "711/711 [==============================] - 4s 5ms/step - loss: 0.1238 - val_loss: 0.1058\n",
            "Epoch 10/10\n",
            "711/711 [==============================] - 4s 5ms/step - loss: 0.1287 - val_loss: 0.1052\n"
          ],
          "name": "stdout"
        },
        {
          "output_type": "display_data",
          "data": {
            "image/png": "[encoded data removed]",
            "text/plain": [
              "<Figure size 432x288 with 1 Axes>"
            ]
          },
          "metadata": {
            "tags": [],
            "needs_background": "light"
          }
        }
      ]
    },
    {
      "cell_type": "code",
      "metadata": {
        "id": "PRhljhhqHXfp"
      },
      "source": [
        "#вернем восстановленные транзакции\n",
        "pred = model.predict(x_test)"
      ],
      "execution_count": null,
      "outputs": []
    },
    {
      "cell_type": "code",
      "metadata": {
        "id": "2dF3-uGKHXWU"
      },
      "source": [
        "#Посчитаем ошубку на тестовой выборке\n",
        "error = np.mean(np.power(x_test - pred, 2), axis=1)"
      ],
      "execution_count": null,
      "outputs": []
    },
    {
      "cell_type": "code",
      "metadata": {
        "id": "t9L_kEtfeel2"
      },
      "source": [
        "error_normal = error[y_test.values == 0] # среднеквадратичная ошибка на нормальных операциях\n",
        "error_outliers = error[y_test.values == 1] # среднеквадратичная ошибка на мошеннических операциях"
      ],
      "execution_count": null,
      "outputs": []
    },
    {
      "cell_type": "code",
      "metadata": {
        "id": "OzI7K95qeux7",
        "colab": {
          "base_uri": "https://localhost:8080/"
        },
        "outputId": "960146ae-6079-42fc-84dd-2b52732ac99b"
      },
      "source": [
        "print(\"Минимальная ошибка нормальных транзакций:\", round(min(error_normal),4)) \n",
        "print(\"Максимальная ошибка нормальных транзакций:\", round(max(error_normal),4)) \n",
        "print(\"Средняя ошибка нормальных транзакций:\", round(sum(error_normal) / len(error_normal),4))"
      ],
      "execution_count": null,
      "outputs": [
        {
          "output_type": "stream",
          "text": [
            "Минимальная ошибка нормальных транзакций: 0.0029\n",
            "Максимальная ошибка нормальных транзакций: 28.8783\n",
            "Средняя ошибка нормальных транзакций: 0.1057\n"
          ],
          "name": "stdout"
        }
      ]
    },
    {
      "cell_type": "code",
      "metadata": {
        "id": "eDcJ_CX7e4SN",
        "colab": {
          "base_uri": "https://localhost:8080/"
        },
        "outputId": "379158da-ccdf-46bf-d79a-e2fba3053598"
      },
      "source": [
        "print(\"Минимальная ошибка мошеннических транзакций:\", round(min(error_outliers),4)) \n",
        "print(\"Максимальная ошибка мошеннических транзакций:\", round(max(error_outliers),4)) \n",
        "print(\"Средняя ошибка мошеннических транзакций:\", round(sum(error_outliers) / len(error_outliers),4)) "
      ],
      "execution_count": null,
      "outputs": [
        {
          "output_type": "stream",
          "text": [
            "Минимальная ошибка мошеннических транзакций: 0.0082\n",
            "Максимальная ошибка мошеннических транзакций: 101.7235\n",
            "Средняя ошибка мошеннических транзакций: 9.4687\n"
          ],
          "name": "stdout"
        }
      ]
    },
    {
      "cell_type": "code",
      "metadata": {
        "id": "NOwSVExle9Bm"
      },
      "source": [
        "# функция принимает какое то пороговое значение и возвращает процент распознанных нормальных и мошеннических транзакций и среднюю точность распознавания\n",
        "def get_accuracy(bias): \n",
        "  is_normal = error_normal < bias # если ошибка меньше порога - то транзакция нормальная\n",
        "  is_outliers = error_outliers > bias # если ошибка больше порога - то транзакция мошенническая\n",
        "\n",
        "  proc_normal = sum(is_normal) / len(is_normal) \n",
        "  proc_outliers = sum(is_outliers) / len(is_outliers) \n",
        "\n",
        "  norm = round(100*proc_normal)\n",
        "  out = round(100*proc_outliers)\n",
        "  mean = round(50*(proc_normal + proc_outliers))\n",
        "      \n",
        "  return norm, out, mean\n",
        "  "
      ],
      "execution_count": null,
      "outputs": []
    },
    {
      "cell_type": "code",
      "metadata": {
        "id": "QTXZFoApUNWv"
      },
      "source": [
        "#Переберем несколько пороговых значений и выберем то, которое дает лучшую среднюю точность\n",
        "best=0\n",
        "for i in range(35,75):\n",
        "  i /= 100\n",
        "  norm, out, mean = get_accuracy(i)\n",
        "  if best <= mean:\n",
        "    best = mean\n",
        "    bias = i\n",
        "    best_norm = norm\n",
        "    best_out = out\n",
        "    best_mean = mean\n",
        "    "
      ],
      "execution_count": null,
      "outputs": []
    },
    {
      "cell_type": "code",
      "metadata": {
        "colab": {
          "base_uri": "https://localhost:8080/"
        },
        "id": "2vqk9N9WUNT7",
        "outputId": "b82a98e1-e1f0-49b3-b3cf-5ca53bff7ea9"
      },
      "source": [
        "print(\"Распознано нормальных транзакций: \", best_norm, \"%\", sep=\"\")\n",
        "print(\"Распознано мошеннических транзакций: \", best_out, \"%\", sep=\"\")\n",
        "print(\"Средняя точность распознавания: \", best_mean, \"%\", sep=\"\")\n",
        "print(\"Пороговое значение: \", bias)"
      ],
      "execution_count": null,
      "outputs": [
        {
          "output_type": "stream",
          "text": [
            "Распознано нормальных транзакций: 97%\n",
            "Распознано мошеннических транзакций: 87%\n",
            "Средняя точность распознавания: 92%\n",
            "Пороговое значение:  0.41\n"
          ],
          "name": "stdout"
        }
      ]
    },
    {
      "cell_type": "markdown",
      "metadata": {
        "id": "N2Vo9Pbo-_Gb"
      },
      "source": [
        "Построим гистограммы ошибок на нормальных операциях и мошеннических. Попробуем определить оптимальный порог:  \n",
        "1) при котором все мошеннические транзакции будут пойманы  \n",
        "2) “оптимальный порог”  \n",
        "3) при котором ни одна нормальная транзакция не будет распознана, как   мошенническая"
      ]
    },
    {
      "cell_type": "code",
      "metadata": {
        "colab": {
          "base_uri": "https://localhost:8080/",
          "height": 613
        },
        "id": "D-5KUP7HUzDx",
        "outputId": "a8ddd3a3-27a4-4117-f013-2fe7eb31811e"
      },
      "source": [
        "#Выведем гистаграммы\n",
        "plt.figure(figsize=(15,10))\n",
        "plt.hist(error_normal, density=True, bins=100, label='Нормальные транзакции',range=(0,2), alpha = 0.5)  \n",
        "plt.hist(error_outliers, density=True, bins=100, label='Мошеннические транзакции', range=(0,2), alpha = 0.5) \n",
        "plt.ylim(top=10) \n",
        "plt.legend(fontsize='large')"
      ],
      "execution_count": null,
      "outputs": [
        {
          "output_type": "execute_result",
          "data": {
            "text/plain": [
              "<matplotlib.legend.Legend at 0x7f7ba90cbd30>"
            ]
          },
          "metadata": {
            "tags": []
          },
          "execution_count": 566
        },
        {
          "output_type": "display_data",
          "data": {
            "image/png": "[encoded data removed]",
            "text/plain": [
              "<Figure size 1080x720 with 1 Axes>"
            ]
          },
          "metadata": {
            "tags": [],
            "needs_background": "light"
          }
        }
      ]
    },
    {
      "cell_type": "markdown",
      "metadata": {
        "id": "fc7Ee2uK_knE"
      },
      "source": [
        ""
      ]
    },
    {
      "cell_type": "markdown",
      "metadata": {
        "id": "3bnHDv4o_lSM"
      },
      "source": [
        "Гистограмма ошибок мошеннических операций получается очень размазаная по оси x, поэтому сложно определить пороги для 1 и 3 пунктов. Их надежней брать по посчитанным ранее минимальным и максимальным значениям ошибок.    \n",
        "1) Порог при котором все мошеннические транзакции будут пойманы: берем значение порога меньше, чем минимальное значение ошибки мошеннических транзакций равное 0.0082   \n",
        "2) “Оптимальный порог”: какого-то явного пересечения у графиков не наблюдается, визуально хочется взять 0.35   \n",
        "3) Порог при котором ни одна нормальная транзакция не будет распознана, как мошенническая: берем значение порога больше, чем макимальное значение ошибки нормальных транзакций равное 28.8783\n"
      ]
    },
    {
      "cell_type": "markdown",
      "metadata": {
        "id": "2MwnhsMxCCVU"
      },
      "source": [
        "Проверим насколько правильно мы приняли пороги"
      ]
    },
    {
      "cell_type": "code",
      "metadata": {
        "id": "PKCcUIIY9FpV"
      },
      "source": [
        "#Немного изменим функцию, чтобы она возвращала значения с десятыми долями\n",
        "def get_accuracy1(bias):\n",
        "  is_normal = error_normal < bias\n",
        "  is_outliers = error_outliers > bias \n",
        "\n",
        "  proc_normal = sum(is_normal) / len(is_normal) \n",
        "  proc_outliers = sum(is_outliers) / len(is_outliers) \n",
        "\n",
        "  norm = round(100*proc_normal,4)\n",
        "  out = round(100*proc_outliers,4)\n",
        "  mean = round(50*(proc_normal + proc_outliers),4)\n",
        "      \n",
        "  return norm, out, mean"
      ],
      "execution_count": null,
      "outputs": []
    },
    {
      "cell_type": "code",
      "metadata": {
        "colab": {
          "base_uri": "https://localhost:8080/"
        },
        "id": "rqCJUn318vCD",
        "outputId": "e44a4203-a5a5-4c4b-e5ac-cfc9db2b9102"
      },
      "source": [
        "norm1, out1, mean1 = get_accuracy1(0.0081)\n",
        "print(\"Распознано нормальных транзакций: \", norm1, \"%\", sep=\"\")\n",
        "print(\"Распознано мошеннических транзакций: \", out1, \"%\", sep=\"\")\n",
        "print(\"Средняя точность распознавания: \", mean1, \"%\", sep=\"\")"
      ],
      "execution_count": null,
      "outputs": [
        {
          "output_type": "stream",
          "text": [
            "Распознано нормальных транзакций: 1.625%\n",
            "Распознано мошеннических транзакций: 100.0%\n",
            "Средняя точность распознавания: 50.8125%\n"
          ],
          "name": "stdout"
        }
      ]
    },
    {
      "cell_type": "code",
      "metadata": {
        "colab": {
          "base_uri": "https://localhost:8080/"
        },
        "id": "yG5RYu6QCcBD",
        "outputId": "837a69cb-7078-421e-e82b-5af1e2924f72"
      },
      "source": [
        "norm1, out1, mean1 = get_accuracy1(0.35)\n",
        "print(\"Распознано нормальных транзакций: \", norm1, \"%\", sep=\"\")\n",
        "print(\"Распознано мошеннических транзакций: \", out1, \"%\", sep=\"\")\n",
        "print(\"Средняя точность распознавания: \", mean1, \"%\", sep=\"\")"
      ],
      "execution_count": null,
      "outputs": [
        {
          "output_type": "stream",
          "text": [
            "Распознано нормальных транзакций: 95.5648%\n",
            "Распознано мошеннических транзакций: 88.0081%\n",
            "Средняя точность распознавания: 91.7865%\n"
          ],
          "name": "stdout"
        }
      ]
    },
    {
      "cell_type": "code",
      "metadata": {
        "colab": {
          "base_uri": "https://localhost:8080/"
        },
        "id": "oReWOLkE8u7H",
        "outputId": "236303fe-504b-4b6d-8e0f-53e6f4543a1b"
      },
      "source": [
        "norm1, out1, mean1 = get_accuracy1(28.8783)\n",
        "print(\"Распознано нормальных транзакций: \", norm1, \"%\", sep=\"\")\n",
        "print(\"Распознано мошеннических транзакций: \", out1, \"%\", sep=\"\")\n",
        "print(\"Средняя точность распознавания: \", mean1, \"%\", sep=\"\")"
      ],
      "execution_count": null,
      "outputs": [
        {
          "output_type": "stream",
          "text": [
            "Распознано нормальных транзакций: 100.0%\n",
            "Распознано мошеннических транзакций: 11.9919%\n",
            "Средняя точность распознавания: 55.9959%\n"
          ],
          "name": "stdout"
        }
      ]
    },
    {
      "cell_type": "markdown",
      "metadata": {
        "id": "LGSEc2mRCiu9"
      },
      "source": [
        "Видно, что пороги определены правильно"
      ]
    }
  ]
}