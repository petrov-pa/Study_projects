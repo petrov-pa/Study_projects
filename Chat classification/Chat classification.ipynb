{
 "cells": [
  {
   "cell_type": "markdown",
   "metadata": {
    "id": "biBPjzqqOfuc"
   },
   "source": [
    "## Классификация участников чата"
   ]
  },
  {
   "cell_type": "code",
   "execution_count": null,
   "metadata": {},
   "outputs": [],
   "source": [
    "import pandas as pd\n",
    "import numpy as np\n",
    "from tensorflow.keras.models import Sequential\n",
    "from tensorflow.keras.layers import Dense, Dropout, BatchNormalization, LSTM, SpatialDropout1D, Embedding, Conv1D, MaxPooling1D, Flatten, Bidirectional\n",
    "from tensorflow.keras.optimizers import Adam\n",
    "from tensorflow.keras.preprocessing.text import Tokenizer\n",
    "from tensorflow.keras import utils\n",
    "\n",
    "from google.colab import drive \n",
    "\n",
    "import os\n",
    "import re\n",
    "from sklearn.model_selection import train_test_split"
   ]
  },
  {
   "cell_type": "code",
   "execution_count": null,
   "metadata": {
    "colab": {
     "base_uri": "https://localhost:8080/"
    },
    "id": "s0JdA9uDOkbc",
    "outputId": "6eeb8494-1bf9-444a-925d-b2d6e36a8947"
   },
   "outputs": [
    {
     "name": "stdout",
     "output_type": "stream",
     "text": [
      "Mounted at /content/drive\n"
     ]
    }
   ],
   "source": [
    "drive.mount('/content/drive')"
   ]
  },
  {
   "cell_type": "markdown",
   "metadata": {
    "id": "4niR5AXPwRph"
   },
   "source": [
    "https://drive.google.com/file/d/1wk9jA6bJKIemzEnRZ74Xp61un6UZDPhp/view?usp=sharing - ссылка на файл"
   ]
  },
  {
   "cell_type": "markdown",
   "metadata": {
    "id": "HY6UVN38cWlN"
   },
   "source": [
    "Набор данных представляет собой чат в мессенджере WhatsАpp за 2 года. В беседе участвует 7 человек"
   ]
  },
  {
   "cell_type": "code",
   "execution_count": null,
   "metadata": {
    "id": "AmnF1QURM_5t"
   },
   "outputs": [],
   "source": [
    "#Загрузим беседу\n",
    "all_texts=[]\n",
    "for_german=[]\n",
    "with open('Chat1.txt', encoding='utf-8') as text:\n",
    "  vk = text.read()\n",
    "vk = vk.split('\\n')\n",
    "for i in vk:\n",
    "    text = i[20:]\n",
    "    all_texts.append(text.split())"
   ]
  },
  {
   "cell_type": "code",
   "execution_count": null,
   "metadata": {
    "colab": {
     "base_uri": "https://localhost:8080/"
    },
    "id": "S7d3mtUuIP4M",
    "outputId": "458c2b82-bb80-464c-8cf9-20260f6df6dc"
   },
   "outputs": [
    {
     "data": {
      "text/plain": [
       "['\\ufeff18.03.2019, 11:53 - Makka: Больше конференций богу конференций',\n",
       " '18.03.2019, 11:53 - Настя Егорова: Вот и добрались до Ромы с Герой)',\n",
       " '18.03.2019, 11:54 - Настя Дрянцева: Современные технологии?',\n",
       " '18.03.2019, 11:59 - Роман Куценко: Я сейчас как тру панк удалюсь из вотсапушки, и поставлю телеграмушку',\n",
       " '18.03.2019, 12:00 - Настя Дрянцева: Так мы тебя и там найдём',\n",
       " '18.03.2019, 12:00 - Настя Дрянцева: У большинства есть телеграм',\n",
       " '18.03.2019, 12:00 - Роман Куценко: Мне говорили там секретные чаты есть какие-то',\n",
       " '18.03.2019, 12:00 - Роман Куценко: Тогда ускоглазый wechat',\n",
       " '18.03.2019, 12:02 - Makka: Вайбiр православный!',\n",
       " '18.03.2019, 12:03 - Роман Куценко: Ахааааа']"
      ]
     },
     "execution_count": 4,
     "metadata": {
      "tags": []
     },
     "output_type": "execute_result"
    }
   ],
   "source": [
    "# Чат имеет такой вид\n",
    "vk[:10]"
   ]
  },
  {
   "cell_type": "code",
   "execution_count": null,
   "metadata": {
    "id": "NRV6-AIMECBM"
   },
   "outputs": [],
   "source": [
    "#Создадим на всякий случай словарь меток участников\n",
    "name = ['Яна','Паша','Настя','Анастасия','Макс','Рома','Гера']\n",
    "dictionary = {x:y for y,x in enumerate(name)}"
   ]
  },
  {
   "cell_type": "code",
   "execution_count": null,
   "metadata": {
    "id": "8EqYHVGObOts"
   },
   "outputs": [],
   "source": [
    "#Разделим набор данных по участникам\n",
    "yana=[]\n",
    "maks=[]\n",
    "pasha=[]\n",
    "nastia=[]\n",
    "anastasia=[]\n",
    "german=[]\n",
    "roman=[]\n",
    "\n",
    "for i in all_texts:\n",
    "  if len(i) <2:\n",
    "    continue\n",
    "  if (i[0] == 'Настя') and (i[1] == 'Егорова:'):\n",
    "    if len(i[2:]) >= 2:\n",
    "      anastasia.append(i[2:])\n",
    "  if i[0] == 'Makka:':\n",
    "    if len(i[1:]) >= 2:\n",
    "      maks.append(i[1:])\n",
    "  if i[0] == 'ааПАШАаа:':\n",
    "    if len(i[1:]) >= 2:\n",
    "      pasha.append(i[1:])\n",
    "  if i[0] == 'Енот:':\n",
    "    if len(i[1:]) >= 2:    \n",
    "      yana.append(i[1:])\n",
    "  if i[0] == 'Роман':\n",
    "    if len(i[2:]) >= 2:\n",
    "      roman.append(i[2:])   \n",
    "  if i[0] == 'Герман':\n",
    "    if len(i[2:]) >= 2:\n",
    "      german.append(i[2:])\n",
    "  if (i[0] == 'Настя') and (i[1] == 'Дрянцева:'):\n",
    "    if len(i[2:]) >= 2:\n",
    "      nastia.append(i[2:])"
   ]
  },
  {
   "cell_type": "code",
   "execution_count": null,
   "metadata": {
    "id": "NOr2XXx2bOqu"
   },
   "outputs": [],
   "source": [
    "#Создадим наборы меток\n",
    "label_yana=[0]*len(yana)\n",
    "label_maks=[4]*len(maks)\n",
    "label_pasha=[1]*len(pasha)\n",
    "label_nastia=[2]*len(nastia)\n",
    "label_anastasia=[3]*len(anastasia)\n",
    "label_german=[6]*len(german)\n",
    "label_roman=[5]*len(roman)"
   ]
  },
  {
   "cell_type": "code",
   "execution_count": null,
   "metadata": {
    "id": "b2KaejZm_D33"
   },
   "outputs": [],
   "source": [
    "#Соединим все сообщения и все метки\n",
    "data = yana + maks + pasha + nastia + anastasia + german + roman\n",
    "labels = label_yana + label_maks + label_pasha + label_nastia + label_anastasia + label_german + label_roman"
   ]
  },
  {
   "cell_type": "code",
   "execution_count": null,
   "metadata": {
    "id": "k5bZ01_jKQjb"
   },
   "outputs": [],
   "source": [
    "#Функция принимает на вход набор сообщений, метки к ним и желаемое количество слов в строке\n",
    "def cut(data, labels, window):\n",
    "  new_data = []\n",
    "  step = len(data)//window\n",
    "  start=0\n",
    "  for i in range(step):\n",
    "    new_data.append(data[start:start+window])\n",
    "    start+=window\n",
    "  new_data.append(data[-window:])\n",
    "  new_labels = [labels]* len(new_data)\n",
    "  return (new_data,new_labels) #Возвращает строки измененные по длине и соответствующие метки  "
   ]
  },
  {
   "cell_type": "code",
   "execution_count": null,
   "metadata": {
    "id": "s7iYEq3yIMLX"
   },
   "outputs": [],
   "source": [
    "#Проходим по набору сообщений, обрезаем длинные строки и добавляем лишнее в конец. Короткие строки заполняем до нужной длины\n",
    "new_data=[]\n",
    "new_labels =[]\n",
    "\n",
    "for i,string in enumerate(data):\n",
    "  while len(string) < 4:\n",
    "    string.append('unknown')\n",
    "  \n",
    "  if len(string) > 4:\n",
    "    cut_data, cut_labels = cut(string, labels[i], 4)\n",
    "    new_data += cut_data\n",
    "    new_labels += cut_labels\n",
    "    data[i] = string[:4]\n"
   ]
  },
  {
   "cell_type": "code",
   "execution_count": null,
   "metadata": {
    "id": "k0r5cYC8IHPX"
   },
   "outputs": [],
   "source": [
    "#Собираем все данные в один набор\n",
    "data += new_data\n",
    "labels += new_labels"
   ]
  },
  {
   "cell_type": "code",
   "execution_count": null,
   "metadata": {
    "id": "e_UUZ8Z0IHPd"
   },
   "outputs": [],
   "source": [
    "#Кодируем метки с помощью OneHotEncoding\n",
    "labels_hot = utils.to_categorical(labels, 7)"
   ]
  },
  {
   "cell_type": "code",
   "execution_count": null,
   "metadata": {
    "id": "D8TBFx4dIHPd"
   },
   "outputs": [],
   "source": [
    "#Разбиваем данные на обучающую и тестовую выборки\n",
    "train_data, test_data, train_labels, test_labels = train_test_split(data, labels_hot, test_size=0.15, stratify=labels, shuffle=True)"
   ]
  },
  {
   "cell_type": "code",
   "execution_count": null,
   "metadata": {
    "id": "mn1uzktGIHPd"
   },
   "outputs": [],
   "source": [
    "maxWordsCount = 11800 # Определяем максимальное количество слов/индексов, учитываемое при обучении текстов\n",
    "\n",
    "tokenizer = Tokenizer(num_words=maxWordsCount, lower=False, oov_token='unknown', char_level=False)\n",
    "\n",
    "tokenizer.fit_on_texts(train_data) \n",
    "items = list(tokenizer.word_index.items()) "
   ]
  },
  {
   "cell_type": "code",
   "execution_count": null,
   "metadata": {
    "id": "EKN-hyViKhPb"
   },
   "outputs": [],
   "source": [
    "#Преобразуем строки в последовательность цифр\n",
    "x_train = tokenizer.texts_to_sequences(train_data)\n",
    "x_test = tokenizer.texts_to_sequences(test_data)"
   ]
  },
  {
   "cell_type": "code",
   "execution_count": null,
   "metadata": {
    "colab": {
     "base_uri": "https://localhost:8080/"
    },
    "id": "qWYO47mVIHPe",
    "outputId": "4747027f-19ed-4837-f84d-ff26974b0c28"
   },
   "outputs": [
    {
     "name": "stdout",
     "output_type": "stream",
     "text": [
      "9803\n",
      "1730\n"
     ]
    }
   ],
   "source": [
    "print(len(x_train))\n",
    "print(len(x_test))"
   ]
  },
  {
   "cell_type": "code",
   "execution_count": null,
   "metadata": {
    "colab": {
     "base_uri": "https://localhost:8080/"
    },
    "id": "uKBPbt7Humjs",
    "outputId": "72394468-064c-4bc2-8659-2ea0b6938f5e"
   },
   "outputs": [
    {
     "name": "stdout",
     "output_type": "stream",
     "text": [
      "Epoch 1/20\n",
      "77/77 [==============================] - 4s 24ms/step - loss: 1.8993 - accuracy: 0.2259 - val_loss: 1.8562 - val_accuracy: 0.2705\n",
      "Epoch 2/20\n",
      "77/77 [==============================] - 1s 16ms/step - loss: 1.5233 - accuracy: 0.4335 - val_loss: 1.7507 - val_accuracy: 0.3058\n",
      "Epoch 3/20\n",
      "77/77 [==============================] - 1s 16ms/step - loss: 0.7944 - accuracy: 0.7445 - val_loss: 1.5716 - val_accuracy: 0.4087\n",
      "Epoch 4/20\n",
      "77/77 [==============================] - 1s 16ms/step - loss: 0.4169 - accuracy: 0.8703 - val_loss: 1.3216 - val_accuracy: 0.5422\n",
      "Epoch 5/20\n",
      "77/77 [==============================] - 1s 16ms/step - loss: 0.2508 - accuracy: 0.9220 - val_loss: 1.1456 - val_accuracy: 0.6116\n",
      "Epoch 6/20\n",
      "77/77 [==============================] - 1s 16ms/step - loss: 0.1947 - accuracy: 0.9364 - val_loss: 1.0831 - val_accuracy: 0.6457\n",
      "Epoch 7/20\n",
      "77/77 [==============================] - 1s 16ms/step - loss: 0.1668 - accuracy: 0.9442 - val_loss: 1.1409 - val_accuracy: 0.6497\n",
      "Epoch 8/20\n",
      "77/77 [==============================] - 1s 16ms/step - loss: 0.1377 - accuracy: 0.9535 - val_loss: 1.3006 - val_accuracy: 0.6601\n",
      "Epoch 9/20\n",
      "77/77 [==============================] - 1s 16ms/step - loss: 0.1294 - accuracy: 0.9557 - val_loss: 1.4823 - val_accuracy: 0.6520\n",
      "Epoch 10/20\n",
      "77/77 [==============================] - 1s 16ms/step - loss: 0.1199 - accuracy: 0.9575 - val_loss: 1.6924 - val_accuracy: 0.6422\n",
      "Epoch 11/20\n",
      "77/77 [==============================] - 1s 16ms/step - loss: 0.1173 - accuracy: 0.9587 - val_loss: 1.6291 - val_accuracy: 0.6514\n",
      "Epoch 12/20\n",
      "77/77 [==============================] - 1s 16ms/step - loss: 0.1109 - accuracy: 0.9592 - val_loss: 1.7298 - val_accuracy: 0.6451\n",
      "Epoch 13/20\n",
      "77/77 [==============================] - 1s 16ms/step - loss: 0.1069 - accuracy: 0.9595 - val_loss: 1.8929 - val_accuracy: 0.6451\n",
      "Epoch 14/20\n",
      "77/77 [==============================] - 1s 16ms/step - loss: 0.1051 - accuracy: 0.9593 - val_loss: 1.9738 - val_accuracy: 0.6451\n",
      "Epoch 15/20\n",
      "77/77 [==============================] - 1s 16ms/step - loss: 0.0974 - accuracy: 0.9631 - val_loss: 1.9480 - val_accuracy: 0.6462\n",
      "Epoch 16/20\n",
      "77/77 [==============================] - 1s 16ms/step - loss: 0.0936 - accuracy: 0.9648 - val_loss: 2.0481 - val_accuracy: 0.6462\n",
      "Epoch 17/20\n",
      "77/77 [==============================] - 1s 16ms/step - loss: 0.0929 - accuracy: 0.9643 - val_loss: 2.0279 - val_accuracy: 0.6439\n",
      "Epoch 18/20\n",
      "77/77 [==============================] - 1s 16ms/step - loss: 0.0959 - accuracy: 0.9613 - val_loss: 2.0641 - val_accuracy: 0.6434\n",
      "Epoch 19/20\n",
      "77/77 [==============================] - 1s 16ms/step - loss: 0.0867 - accuracy: 0.9659 - val_loss: 2.1128 - val_accuracy: 0.6434\n",
      "Epoch 20/20\n",
      "77/77 [==============================] - 1s 16ms/step - loss: 0.0916 - accuracy: 0.9638 - val_loss: 2.1284 - val_accuracy: 0.6480\n"
     ]
    },
    {
     "data": {
      "text/plain": [
       "0.6601155996322632"
      ]
     },
     "execution_count": 138,
     "metadata": {
      "tags": []
     },
     "output_type": "execute_result"
    }
   ],
   "source": [
    "#Создаём сеть LSTM\n",
    "model = Sequential()\n",
    "model.add(Embedding(maxWordsCount, 20, input_length=4))\n",
    "model.add(SpatialDropout1D(0.2))\n",
    "model.add(BatchNormalization())\n",
    "# model.add(LSTM(50, return_sequences=True))\n",
    "# model.add(LSTM(20, return_sequences=True))\n",
    "model.add(LSTM(100))\n",
    "model.add(Dense(7, activation='softmax'))\n",
    "\n",
    "model.compile(optimizer='Adam', loss='categorical_crossentropy', metrics=['accuracy'])\n",
    "\n",
    "history = model.fit(x_train, train_labels.tolist(), epochs=20,batch_size=128, validation_data=(x_test, test_labels.tolist()))\n",
    "\n",
    "np.max(history.history['val_accuracy'])"
   ]
  },
  {
   "cell_type": "code",
   "execution_count": null,
   "metadata": {
    "colab": {
     "base_uri": "https://localhost:8080/",
     "height": 421
    },
    "id": "kwONLpfPu49p",
    "outputId": "d7bfe186-6694-494f-dbbe-7daaeefabe80"
   },
   "outputs": [
    {
     "data": {
      "text/html": [
       "<div>\n",
       "<style scoped>\n",
       "    .dataframe tbody tr th:only-of-type {\n",
       "        vertical-align: middle;\n",
       "    }\n",
       "\n",
       "    .dataframe tbody tr th {\n",
       "        vertical-align: top;\n",
       "    }\n",
       "\n",
       "    .dataframe thead th {\n",
       "        text-align: right;\n",
       "    }\n",
       "</style>\n",
       "<table border=\"1\" class=\"dataframe\">\n",
       "  <thead>\n",
       "    <tr style=\"text-align: right;\">\n",
       "      <th></th>\n",
       "      <th>Embedding</th>\n",
       "      <th>SpatialDropout</th>\n",
       "      <th>Layers</th>\n",
       "      <th>Accuracy</th>\n",
       "    </tr>\n",
       "  </thead>\n",
       "  <tbody>\n",
       "    <tr>\n",
       "      <th>0</th>\n",
       "      <td>50</td>\n",
       "      <td>0.2</td>\n",
       "      <td>LSTM_50</td>\n",
       "      <td>0.6584</td>\n",
       "    </tr>\n",
       "    <tr>\n",
       "      <th>1</th>\n",
       "      <td>50</td>\n",
       "      <td>0.2</td>\n",
       "      <td>LSTM_100</td>\n",
       "      <td>0.6635</td>\n",
       "    </tr>\n",
       "    <tr>\n",
       "      <th>2</th>\n",
       "      <td>20</td>\n",
       "      <td>0.2</td>\n",
       "      <td>LSTM_100</td>\n",
       "      <td>0.6682</td>\n",
       "    </tr>\n",
       "    <tr>\n",
       "      <th>3</th>\n",
       "      <td>20</td>\n",
       "      <td>0.2</td>\n",
       "      <td>LSTM_150</td>\n",
       "      <td>0.6578</td>\n",
       "    </tr>\n",
       "    <tr>\n",
       "      <th>4</th>\n",
       "      <td>20</td>\n",
       "      <td>0.4</td>\n",
       "      <td>LSTM_100</td>\n",
       "      <td>0.6635</td>\n",
       "    </tr>\n",
       "    <tr>\n",
       "      <th>5</th>\n",
       "      <td>20</td>\n",
       "      <td>0.6</td>\n",
       "      <td>LSTM_100</td>\n",
       "      <td>0.6607</td>\n",
       "    </tr>\n",
       "    <tr>\n",
       "      <th>6</th>\n",
       "      <td>50</td>\n",
       "      <td>0.6</td>\n",
       "      <td>LSTM_100</td>\n",
       "      <td>0.6682</td>\n",
       "    </tr>\n",
       "    <tr>\n",
       "      <th>7</th>\n",
       "      <td>20</td>\n",
       "      <td>0.2</td>\n",
       "      <td>LSTM_100, LSTM_50</td>\n",
       "      <td>0.6607</td>\n",
       "    </tr>\n",
       "    <tr>\n",
       "      <th>8</th>\n",
       "      <td>20</td>\n",
       "      <td>0.2</td>\n",
       "      <td>LSTM_150, LSTM_100</td>\n",
       "      <td>0.6624</td>\n",
       "    </tr>\n",
       "    <tr>\n",
       "      <th>9</th>\n",
       "      <td>50</td>\n",
       "      <td>0.2</td>\n",
       "      <td>LSTM_150, LSTM_100</td>\n",
       "      <td>0.6549</td>\n",
       "    </tr>\n",
       "    <tr>\n",
       "      <th>10</th>\n",
       "      <td>10</td>\n",
       "      <td>0.2</td>\n",
       "      <td>LSTM_150, LSTM_100</td>\n",
       "      <td>0.6555</td>\n",
       "    </tr>\n",
       "    <tr>\n",
       "      <th>11</th>\n",
       "      <td>20</td>\n",
       "      <td>0.2</td>\n",
       "      <td>LSTM_50, LSTM_20, LSTM_10</td>\n",
       "      <td>0.6624</td>\n",
       "    </tr>\n",
       "  </tbody>\n",
       "</table>\n",
       "</div>"
      ],
      "text/plain": [
       "    Embedding  SpatialDropout                     Layers  Accuracy\n",
       "0          50             0.2                    LSTM_50    0.6584\n",
       "1          50             0.2                   LSTM_100    0.6635\n",
       "2          20             0.2                   LSTM_100    0.6682\n",
       "3          20             0.2                   LSTM_150    0.6578\n",
       "4          20             0.4                   LSTM_100    0.6635\n",
       "5          20             0.6                   LSTM_100    0.6607\n",
       "6          50             0.6                   LSTM_100    0.6682\n",
       "7          20             0.2          LSTM_100, LSTM_50    0.6607\n",
       "8          20             0.2         LSTM_150, LSTM_100    0.6624\n",
       "9          50             0.2         LSTM_150, LSTM_100    0.6549\n",
       "10         10             0.2         LSTM_150, LSTM_100    0.6555\n",
       "11         20             0.2  LSTM_50, LSTM_20, LSTM_10    0.6624"
      ]
     },
     "execution_count": 125,
     "metadata": {
      "tags": []
     },
     "output_type": "execute_result"
    }
   ],
   "source": [
    "pred = [[50, 0.2, 'LSTM_50', 0.6584],\n",
    "[50, 0.2, 'LSTM_100', 0.6635],\n",
    "[20, 0.2, 'LSTM_100', 0.6682],\n",
    "[20, 0.2, 'LSTM_150', 0.6578],\n",
    "[20, 0.4, 'LSTM_100', 0.6635],\n",
    "[20, 0.6, 'LSTM_100', 0.6607],\n",
    "[50, 0.6, 'LSTM_100', 0.6682],\n",
    "[20, 0.2, 'LSTM_100, LSTM_50', 0.6607],\n",
    "[20, 0.2, 'LSTM_150, LSTM_100', 0.6624],\n",
    "[50, 0.2, 'LSTM_150, LSTM_100', 0.6549],\n",
    "[10, 0.2, 'LSTM_150, LSTM_100', 0.6555],\n",
    "[20, 0.2, 'LSTM_50, LSTM_20, LSTM_10', 0.6624]]\n",
    "\n",
    "pd.DataFrame(pred, columns = ['Embedding', 'SpatialDropout', 'Layers',  'Accuracy'])"
   ]
  },
  {
   "cell_type": "markdown",
   "metadata": {
    "id": "oab2AwJq6G71"
   },
   "source": [
    "Лучший результат для LSTM - 0.6682"
   ]
  },
  {
   "cell_type": "code",
   "execution_count": null,
   "metadata": {
    "colab": {
     "base_uri": "https://localhost:8080/"
    },
    "id": "Ccr6M6HY_DxI",
    "outputId": "9ef70dac-4fc5-482e-a2f6-729249bc96eb"
   },
   "outputs": [
    {
     "name": "stdout",
     "output_type": "stream",
     "text": [
      "Epoch 1/50\n",
      "77/77 [==============================] - 3s 20ms/step - loss: 2.3729 - accuracy: 0.1634 - val_loss: 1.8851 - val_accuracy: 0.2705\n",
      "Epoch 2/50\n",
      "77/77 [==============================] - 1s 16ms/step - loss: 1.7307 - accuracy: 0.3352 - val_loss: 1.9223 - val_accuracy: 0.2705\n",
      "Epoch 3/50\n",
      "77/77 [==============================] - 2s 21ms/step - loss: 1.3924 - accuracy: 0.5032 - val_loss: 1.9447 - val_accuracy: 0.2705\n",
      "Epoch 4/50\n",
      "77/77 [==============================] - 1s 15ms/step - loss: 1.0850 - accuracy: 0.6337 - val_loss: 1.9136 - val_accuracy: 0.2792\n",
      "Epoch 5/50\n",
      "77/77 [==============================] - 1s 15ms/step - loss: 0.8023 - accuracy: 0.7349 - val_loss: 1.7370 - val_accuracy: 0.3543\n",
      "Epoch 6/50\n",
      "77/77 [==============================] - 1s 15ms/step - loss: 0.5984 - accuracy: 0.8107 - val_loss: 1.5492 - val_accuracy: 0.4133\n",
      "Epoch 7/50\n",
      "77/77 [==============================] - 1s 15ms/step - loss: 0.4553 - accuracy: 0.8561 - val_loss: 1.2783 - val_accuracy: 0.5786\n",
      "Epoch 8/50\n",
      "77/77 [==============================] - 1s 15ms/step - loss: 0.3540 - accuracy: 0.8905 - val_loss: 1.1394 - val_accuracy: 0.6168\n",
      "Epoch 9/50\n",
      "77/77 [==============================] - 1s 15ms/step - loss: 0.3213 - accuracy: 0.8955 - val_loss: 1.1709 - val_accuracy: 0.6197\n",
      "Epoch 10/50\n",
      "77/77 [==============================] - 1s 15ms/step - loss: 0.2507 - accuracy: 0.9209 - val_loss: 1.2543 - val_accuracy: 0.6399\n",
      "Epoch 11/50\n",
      "77/77 [==============================] - 1s 15ms/step - loss: 0.2175 - accuracy: 0.9295 - val_loss: 1.2497 - val_accuracy: 0.6364\n",
      "Epoch 12/50\n",
      "77/77 [==============================] - 1s 15ms/step - loss: 0.1980 - accuracy: 0.9350 - val_loss: 1.2570 - val_accuracy: 0.6416\n",
      "Epoch 13/50\n",
      "77/77 [==============================] - 1s 15ms/step - loss: 0.1823 - accuracy: 0.9399 - val_loss: 1.2928 - val_accuracy: 0.6486\n",
      "Epoch 14/50\n",
      "77/77 [==============================] - 1s 15ms/step - loss: 0.1686 - accuracy: 0.9458 - val_loss: 1.3111 - val_accuracy: 0.6503\n",
      "Epoch 15/50\n",
      "77/77 [==============================] - 1s 15ms/step - loss: 0.1614 - accuracy: 0.9472 - val_loss: 1.3149 - val_accuracy: 0.6451\n",
      "Epoch 16/50\n",
      "77/77 [==============================] - 1s 15ms/step - loss: 0.1439 - accuracy: 0.9504 - val_loss: 1.3517 - val_accuracy: 0.6457\n",
      "Epoch 17/50\n",
      "77/77 [==============================] - 1s 15ms/step - loss: 0.1444 - accuracy: 0.9499 - val_loss: 1.3495 - val_accuracy: 0.6399\n",
      "Epoch 18/50\n",
      "77/77 [==============================] - 1s 15ms/step - loss: 0.1385 - accuracy: 0.9524 - val_loss: 1.3606 - val_accuracy: 0.6410\n",
      "Epoch 19/50\n",
      "77/77 [==============================] - 1s 15ms/step - loss: 0.1404 - accuracy: 0.9504 - val_loss: 1.3652 - val_accuracy: 0.6543\n",
      "Epoch 20/50\n",
      "77/77 [==============================] - 1s 15ms/step - loss: 0.1221 - accuracy: 0.9568 - val_loss: 1.4047 - val_accuracy: 0.6491\n",
      "Epoch 21/50\n",
      "77/77 [==============================] - 1s 15ms/step - loss: 0.1151 - accuracy: 0.9572 - val_loss: 1.4423 - val_accuracy: 0.6480\n",
      "Epoch 22/50\n",
      "77/77 [==============================] - 1s 15ms/step - loss: 0.1131 - accuracy: 0.9597 - val_loss: 1.4338 - val_accuracy: 0.6538\n",
      "Epoch 23/50\n",
      "77/77 [==============================] - 1s 15ms/step - loss: 0.1114 - accuracy: 0.9632 - val_loss: 1.4257 - val_accuracy: 0.6468\n",
      "Epoch 24/50\n",
      "77/77 [==============================] - 1s 15ms/step - loss: 0.1128 - accuracy: 0.9600 - val_loss: 1.4770 - val_accuracy: 0.6439\n",
      "Epoch 25/50\n",
      "77/77 [==============================] - 1s 15ms/step - loss: 0.1102 - accuracy: 0.9613 - val_loss: 1.4786 - val_accuracy: 0.6387\n",
      "Epoch 26/50\n",
      "77/77 [==============================] - 1s 14ms/step - loss: 0.1120 - accuracy: 0.9605 - val_loss: 1.5064 - val_accuracy: 0.6405\n",
      "Epoch 27/50\n",
      "77/77 [==============================] - 1s 15ms/step - loss: 0.1103 - accuracy: 0.9585 - val_loss: 1.4940 - val_accuracy: 0.6445\n",
      "Epoch 28/50\n",
      "77/77 [==============================] - 1s 15ms/step - loss: 0.1058 - accuracy: 0.9626 - val_loss: 1.4687 - val_accuracy: 0.6445\n",
      "Epoch 29/50\n",
      "77/77 [==============================] - 1s 15ms/step - loss: 0.1063 - accuracy: 0.9623 - val_loss: 1.4719 - val_accuracy: 0.6509\n",
      "Epoch 30/50\n",
      "77/77 [==============================] - 1s 15ms/step - loss: 0.0975 - accuracy: 0.9659 - val_loss: 1.4850 - val_accuracy: 0.6509\n",
      "Epoch 31/50\n",
      "77/77 [==============================] - 1s 15ms/step - loss: 0.1029 - accuracy: 0.9616 - val_loss: 1.5508 - val_accuracy: 0.6451\n",
      "Epoch 32/50\n",
      "77/77 [==============================] - 1s 15ms/step - loss: 0.0997 - accuracy: 0.9638 - val_loss: 1.5531 - val_accuracy: 0.6526\n",
      "Epoch 33/50\n",
      "77/77 [==============================] - 1s 15ms/step - loss: 0.0966 - accuracy: 0.9640 - val_loss: 1.5347 - val_accuracy: 0.6509\n",
      "Epoch 34/50\n",
      "77/77 [==============================] - 1s 15ms/step - loss: 0.0913 - accuracy: 0.9676 - val_loss: 1.5599 - val_accuracy: 0.6538\n",
      "Epoch 35/50\n",
      "77/77 [==============================] - 1s 15ms/step - loss: 0.0856 - accuracy: 0.9678 - val_loss: 1.5246 - val_accuracy: 0.6561\n",
      "Epoch 36/50\n",
      "77/77 [==============================] - 1s 15ms/step - loss: 0.0918 - accuracy: 0.9673 - val_loss: 1.5707 - val_accuracy: 0.6532\n",
      "Epoch 37/50\n",
      "77/77 [==============================] - 1s 15ms/step - loss: 0.0907 - accuracy: 0.9644 - val_loss: 1.5940 - val_accuracy: 0.6532\n",
      "Epoch 38/50\n",
      "77/77 [==============================] - 1s 15ms/step - loss: 0.0887 - accuracy: 0.9664 - val_loss: 1.5907 - val_accuracy: 0.6520\n",
      "Epoch 39/50\n",
      "77/77 [==============================] - 1s 15ms/step - loss: 0.0872 - accuracy: 0.9672 - val_loss: 1.5997 - val_accuracy: 0.6497\n",
      "Epoch 40/50\n",
      "77/77 [==============================] - 1s 15ms/step - loss: 0.0895 - accuracy: 0.9673 - val_loss: 1.5522 - val_accuracy: 0.6538\n",
      "Epoch 41/50\n",
      "77/77 [==============================] - 1s 15ms/step - loss: 0.0949 - accuracy: 0.9616 - val_loss: 1.6273 - val_accuracy: 0.6462\n",
      "Epoch 42/50\n",
      "77/77 [==============================] - 1s 15ms/step - loss: 0.0947 - accuracy: 0.9642 - val_loss: 1.6252 - val_accuracy: 0.6474\n",
      "Epoch 43/50\n",
      "77/77 [==============================] - 1s 15ms/step - loss: 0.0878 - accuracy: 0.9686 - val_loss: 1.5974 - val_accuracy: 0.6486\n",
      "Epoch 44/50\n",
      "77/77 [==============================] - 1s 15ms/step - loss: 0.0901 - accuracy: 0.9683 - val_loss: 1.6366 - val_accuracy: 0.6584\n",
      "Epoch 45/50\n",
      "77/77 [==============================] - 1s 15ms/step - loss: 0.0840 - accuracy: 0.9683 - val_loss: 1.6561 - val_accuracy: 0.6393\n",
      "Epoch 46/50\n",
      "77/77 [==============================] - 1s 15ms/step - loss: 0.0884 - accuracy: 0.9666 - val_loss: 1.6234 - val_accuracy: 0.6428\n",
      "Epoch 47/50\n",
      "77/77 [==============================] - 1s 15ms/step - loss: 0.0858 - accuracy: 0.9655 - val_loss: 1.6960 - val_accuracy: 0.6387\n",
      "Epoch 48/50\n",
      "77/77 [==============================] - 1s 15ms/step - loss: 0.0863 - accuracy: 0.9667 - val_loss: 1.6608 - val_accuracy: 0.6555\n",
      "Epoch 49/50\n",
      "77/77 [==============================] - 1s 15ms/step - loss: 0.0787 - accuracy: 0.9690 - val_loss: 1.6425 - val_accuracy: 0.6590\n",
      "Epoch 50/50\n",
      "77/77 [==============================] - 1s 15ms/step - loss: 0.0926 - accuracy: 0.9627 - val_loss: 1.6522 - val_accuracy: 0.6480\n"
     ]
    },
    {
     "data": {
      "text/plain": [
       "0.6589595079421997"
      ]
     },
     "execution_count": 139,
     "metadata": {
      "tags": []
     },
     "output_type": "execute_result"
    }
   ],
   "source": [
    "#Создаём сверточную сеть\n",
    "model = Sequential()\n",
    "model.add(Embedding(maxWordsCount, 50, input_length=4))\n",
    "model.add(SpatialDropout1D(0.4))\n",
    "model.add(BatchNormalization())\n",
    "model.add(Conv1D(100, 2, activation='relu',padding='same'))\n",
    "model.add(MaxPooling1D(2))\n",
    "model.add(BatchNormalization())\n",
    "model.add(Conv1D(50, 2, activation='relu',padding='same'))\n",
    "model.add(MaxPooling1D(2))\n",
    "model.add(BatchNormalization())\n",
    "model.add(Flatten())\n",
    "\n",
    "model.add(Dense(7, activation='softmax'))\n",
    "\n",
    "model.compile(optimizer='Adam', loss='categorical_crossentropy', metrics=['accuracy'])\n",
    "\n",
    "history = model.fit(x_train, train_labels.tolist(), epochs=50,batch_size=128, validation_data=(x_test, test_labels.tolist()))\n",
    "\n",
    "np.max(history.history['val_accuracy'])"
   ]
  },
  {
   "cell_type": "code",
   "execution_count": null,
   "metadata": {
    "colab": {
     "base_uri": "https://localhost:8080/"
    },
    "id": "0IOjJSkj_Dt9",
    "outputId": "c73f4137-64e4-44f7-e651-b0ad9968f86e"
   },
   "outputs": [
    {
     "name": "stdout",
     "output_type": "stream",
     "text": [
      "77/77 [==============================] - 3s 19ms/step - loss: 0.0860 - accuracy: 0.9654 - val_loss: 1.6261 - val_accuracy: 0.6538\n"
     ]
    },
    {
     "data": {
      "text/plain": [
       "0.6537572145462036"
      ]
     },
     "execution_count": 151,
     "metadata": {
      "tags": []
     },
     "output_type": "execute_result"
    }
   ],
   "source": [
    "#Дообучим модель\n",
    "model.compile(optimizer=Adam(lr=0.0001), loss='categorical_crossentropy', metrics=['accuracy'])\n",
    "history = model.fit(x_train, train_labels.tolist(), epochs=1,batch_size=128, validation_data=(x_test, test_labels.tolist()))\n",
    "np.max(history.history['val_accuracy'])"
   ]
  },
  {
   "cell_type": "code",
   "execution_count": null,
   "metadata": {
    "colab": {
     "base_uri": "https://localhost:8080/",
     "height": 452
    },
    "id": "pTHNlzPnOZgQ",
    "outputId": "efc28fde-c9f1-443a-e720-583540950662"
   },
   "outputs": [
    {
     "data": {
      "text/html": [
       "<div>\n",
       "<style scoped>\n",
       "    .dataframe tbody tr th:only-of-type {\n",
       "        vertical-align: middle;\n",
       "    }\n",
       "\n",
       "    .dataframe tbody tr th {\n",
       "        vertical-align: top;\n",
       "    }\n",
       "\n",
       "    .dataframe thead th {\n",
       "        text-align: right;\n",
       "    }\n",
       "</style>\n",
       "<table border=\"1\" class=\"dataframe\">\n",
       "  <thead>\n",
       "    <tr style=\"text-align: right;\">\n",
       "      <th></th>\n",
       "      <th>Embedding</th>\n",
       "      <th>SpatialDropout</th>\n",
       "      <th>Layers</th>\n",
       "      <th>MaxPooling</th>\n",
       "      <th>Accuracy</th>\n",
       "    </tr>\n",
       "  </thead>\n",
       "  <tbody>\n",
       "    <tr>\n",
       "      <th>0</th>\n",
       "      <td>20</td>\n",
       "      <td>0.2</td>\n",
       "      <td>Conv1D_50</td>\n",
       "      <td>2</td>\n",
       "      <td>0.6214</td>\n",
       "    </tr>\n",
       "    <tr>\n",
       "      <th>1</th>\n",
       "      <td>20</td>\n",
       "      <td>0.2</td>\n",
       "      <td>Conv1D_100, Conv1D_50</td>\n",
       "      <td>2</td>\n",
       "      <td>0.6265</td>\n",
       "    </tr>\n",
       "    <tr>\n",
       "      <th>2</th>\n",
       "      <td>20</td>\n",
       "      <td>0.2</td>\n",
       "      <td>Conv1D_100, Conv1D_50</td>\n",
       "      <td>(2, 2)</td>\n",
       "      <td>0.6341</td>\n",
       "    </tr>\n",
       "    <tr>\n",
       "      <th>3</th>\n",
       "      <td>20</td>\n",
       "      <td>0.2</td>\n",
       "      <td>Conv1D_200, Conv1D_100</td>\n",
       "      <td>(2, 2)</td>\n",
       "      <td>0.6167</td>\n",
       "    </tr>\n",
       "    <tr>\n",
       "      <th>4</th>\n",
       "      <td>20</td>\n",
       "      <td>0.2</td>\n",
       "      <td>Conv1D_50, Conv1D_20</td>\n",
       "      <td>(2, 2)</td>\n",
       "      <td>0.6161</td>\n",
       "    </tr>\n",
       "    <tr>\n",
       "      <th>5</th>\n",
       "      <td>50</td>\n",
       "      <td>0.2</td>\n",
       "      <td>Conv1D_100, Conv1D_50</td>\n",
       "      <td>(2, 2)</td>\n",
       "      <td>0.6439</td>\n",
       "    </tr>\n",
       "    <tr>\n",
       "      <th>6</th>\n",
       "      <td>50</td>\n",
       "      <td>0.2</td>\n",
       "      <td>Conv1D_100, Conv1D_100</td>\n",
       "      <td>(2, 2)</td>\n",
       "      <td>0.6375</td>\n",
       "    </tr>\n",
       "    <tr>\n",
       "      <th>7</th>\n",
       "      <td>50</td>\n",
       "      <td>0.4</td>\n",
       "      <td>Conv1D_100, Conv1D_50</td>\n",
       "      <td>(2, 2)</td>\n",
       "      <td>0.6632</td>\n",
       "    </tr>\n",
       "    <tr>\n",
       "      <th>8</th>\n",
       "      <td>50</td>\n",
       "      <td>0.6</td>\n",
       "      <td>Conv1D_100, Conv1D_50</td>\n",
       "      <td>(2, 2)</td>\n",
       "      <td>0.6635</td>\n",
       "    </tr>\n",
       "    <tr>\n",
       "      <th>9</th>\n",
       "      <td>50</td>\n",
       "      <td>0.8</td>\n",
       "      <td>Conv1D_100, Conv1D_50</td>\n",
       "      <td>(2, 2)</td>\n",
       "      <td>0.6558</td>\n",
       "    </tr>\n",
       "    <tr>\n",
       "      <th>10</th>\n",
       "      <td>100</td>\n",
       "      <td>0.4</td>\n",
       "      <td>Conv1D_100, Conv1D_50</td>\n",
       "      <td>(2, 2)</td>\n",
       "      <td>0.6549</td>\n",
       "    </tr>\n",
       "    <tr>\n",
       "      <th>11</th>\n",
       "      <td>100</td>\n",
       "      <td>0.4</td>\n",
       "      <td>Conv1D_150, Conv1D_100</td>\n",
       "      <td>(2, 2)</td>\n",
       "      <td>0.6578</td>\n",
       "    </tr>\n",
       "    <tr>\n",
       "      <th>12</th>\n",
       "      <td>100</td>\n",
       "      <td>0.4</td>\n",
       "      <td>Conv1D_50, Conv1D_100</td>\n",
       "      <td>(2, 2)</td>\n",
       "      <td>0.6491</td>\n",
       "    </tr>\n",
       "  </tbody>\n",
       "</table>\n",
       "</div>"
      ],
      "text/plain": [
       "    Embedding  SpatialDropout                  Layers MaxPooling  Accuracy\n",
       "0          20             0.2               Conv1D_50          2    0.6214\n",
       "1          20             0.2   Conv1D_100, Conv1D_50          2    0.6265\n",
       "2          20             0.2   Conv1D_100, Conv1D_50     (2, 2)    0.6341\n",
       "3          20             0.2  Conv1D_200, Conv1D_100     (2, 2)    0.6167\n",
       "4          20             0.2    Conv1D_50, Conv1D_20     (2, 2)    0.6161\n",
       "5          50             0.2   Conv1D_100, Conv1D_50     (2, 2)    0.6439\n",
       "6          50             0.2  Conv1D_100, Conv1D_100     (2, 2)    0.6375\n",
       "7          50             0.4   Conv1D_100, Conv1D_50     (2, 2)    0.6632\n",
       "8          50             0.6   Conv1D_100, Conv1D_50     (2, 2)    0.6635\n",
       "9          50             0.8   Conv1D_100, Conv1D_50     (2, 2)    0.6558\n",
       "10        100             0.4   Conv1D_100, Conv1D_50     (2, 2)    0.6549\n",
       "11        100             0.4  Conv1D_150, Conv1D_100     (2, 2)    0.6578\n",
       "12        100             0.4   Conv1D_50, Conv1D_100     (2, 2)    0.6491"
      ]
     },
     "execution_count": 126,
     "metadata": {
      "tags": []
     },
     "output_type": "execute_result"
    }
   ],
   "source": [
    "pred = [[20, 0.2, 'Conv1D_50', 2, 0.6214],\n",
    "[20, 0.2, 'Conv1D_100, Conv1D_50', 2, 0.6265],\n",
    "[20, 0.2, 'Conv1D_100, Conv1D_50', (2,2), 0.6341],\n",
    "[20, 0.2, 'Conv1D_200, Conv1D_100', (2,2), 0.6167],\n",
    "[20, 0.2, 'Conv1D_50, Conv1D_20', (2,2), 0.6161],\n",
    "[50, 0.2, 'Conv1D_100, Conv1D_50', (2,2), 0.6439],\n",
    "[50, 0.2, 'Conv1D_100, Conv1D_100', (2,2), 0.6375],\n",
    "[50, 0.4, 'Conv1D_100, Conv1D_50', (2,2), 0.6632],\n",
    "[50, 0.6, 'Conv1D_100, Conv1D_50', (2,2), 0.6635],\n",
    "[50, 0.8, 'Conv1D_100, Conv1D_50', (2,2), 0.6558],\n",
    "[100, 0.4, 'Conv1D_100, Conv1D_50', (2,2), 0.6549],\n",
    "[100, 0.4, 'Conv1D_150, Conv1D_100', (2,2), 0.6578],\n",
    "[100, 0.4, 'Conv1D_50, Conv1D_100', (2,2), 0.6491]]\n",
    "\n",
    "pd.DataFrame(pred, columns = ['Embedding', 'SpatialDropout', 'Layers', 'MaxPooling', 'Accuracy'])"
   ]
  },
  {
   "cell_type": "markdown",
   "metadata": {
    "id": "gSO7pCfH6eh1"
   },
   "source": [
    "Лучший результат для сверточной сети - 0.6635"
   ]
  },
  {
   "cell_type": "markdown",
   "metadata": {
    "id": "twe1S_2g779q"
   },
   "source": [
    "Попробуем варианты LSTM+Dense"
   ]
  },
  {
   "cell_type": "code",
   "execution_count": null,
   "metadata": {
    "colab": {
     "base_uri": "https://localhost:8080/"
    },
    "id": "pJSUM88-uyag",
    "outputId": "d178d7c0-e047-4523-a353-315ba51bb213"
   },
   "outputs": [
    {
     "name": "stdout",
     "output_type": "stream",
     "text": [
      "Epoch 1/50\n",
      "77/77 [==============================] - 9s 40ms/step - loss: 2.4690 - accuracy: 0.1508 - val_loss: 1.9497 - val_accuracy: 0.2705\n",
      "Epoch 2/50\n",
      "77/77 [==============================] - 2s 23ms/step - loss: 1.9699 - accuracy: 0.2673 - val_loss: 1.8849 - val_accuracy: 0.2705\n",
      "Epoch 3/50\n",
      "77/77 [==============================] - 2s 22ms/step - loss: 1.5927 - accuracy: 0.4268 - val_loss: 1.8462 - val_accuracy: 0.2705\n",
      "Epoch 4/50\n",
      "77/77 [==============================] - 2s 23ms/step - loss: 1.1334 - accuracy: 0.6107 - val_loss: 1.7613 - val_accuracy: 0.2919\n",
      "Epoch 5/50\n",
      "77/77 [==============================] - 2s 22ms/step - loss: 0.8009 - accuracy: 0.7452 - val_loss: 1.5220 - val_accuracy: 0.4121\n",
      "Epoch 6/50\n",
      "77/77 [==============================] - 2s 22ms/step - loss: 0.5704 - accuracy: 0.8179 - val_loss: 1.2630 - val_accuracy: 0.5665\n",
      "Epoch 7/50\n",
      "77/77 [==============================] - 2s 23ms/step - loss: 0.4325 - accuracy: 0.8708 - val_loss: 1.2895 - val_accuracy: 0.5948\n",
      "Epoch 8/50\n",
      "77/77 [==============================] - 2s 23ms/step - loss: 0.3600 - accuracy: 0.8904 - val_loss: 1.4130 - val_accuracy: 0.6185\n",
      "Epoch 9/50\n",
      "77/77 [==============================] - 2s 22ms/step - loss: 0.3024 - accuracy: 0.9062 - val_loss: 1.3875 - val_accuracy: 0.6312\n",
      "Epoch 10/50\n",
      "77/77 [==============================] - 2s 22ms/step - loss: 0.2840 - accuracy: 0.9136 - val_loss: 1.5065 - val_accuracy: 0.6358\n",
      "Epoch 11/50\n",
      "77/77 [==============================] - 2s 23ms/step - loss: 0.2462 - accuracy: 0.9215 - val_loss: 1.4861 - val_accuracy: 0.6382\n",
      "Epoch 12/50\n",
      "77/77 [==============================] - 2s 22ms/step - loss: 0.2173 - accuracy: 0.9321 - val_loss: 1.6435 - val_accuracy: 0.6358\n",
      "Epoch 13/50\n",
      "77/77 [==============================] - 2s 23ms/step - loss: 0.2102 - accuracy: 0.9318 - val_loss: 1.5381 - val_accuracy: 0.6434\n",
      "Epoch 14/50\n",
      "77/77 [==============================] - 2s 23ms/step - loss: 0.1976 - accuracy: 0.9344 - val_loss: 1.5565 - val_accuracy: 0.6410\n",
      "Epoch 15/50\n",
      "77/77 [==============================] - 2s 23ms/step - loss: 0.1802 - accuracy: 0.9390 - val_loss: 1.6501 - val_accuracy: 0.6439\n",
      "Epoch 16/50\n",
      "77/77 [==============================] - 2s 23ms/step - loss: 0.1704 - accuracy: 0.9464 - val_loss: 1.6007 - val_accuracy: 0.6393\n",
      "Epoch 17/50\n",
      "77/77 [==============================] - 2s 22ms/step - loss: 0.1838 - accuracy: 0.9410 - val_loss: 1.5947 - val_accuracy: 0.6462\n",
      "Epoch 18/50\n",
      "77/77 [==============================] - 2s 22ms/step - loss: 0.1650 - accuracy: 0.9442 - val_loss: 1.6836 - val_accuracy: 0.6514\n",
      "Epoch 19/50\n",
      "77/77 [==============================] - 2s 23ms/step - loss: 0.1497 - accuracy: 0.9496 - val_loss: 1.5585 - val_accuracy: 0.6578\n",
      "Epoch 20/50\n",
      "77/77 [==============================] - 2s 23ms/step - loss: 0.1604 - accuracy: 0.9456 - val_loss: 1.6278 - val_accuracy: 0.6462\n",
      "Epoch 21/50\n",
      "77/77 [==============================] - 2s 25ms/step - loss: 0.1503 - accuracy: 0.9494 - val_loss: 1.6172 - val_accuracy: 0.6526\n",
      "Epoch 22/50\n",
      "77/77 [==============================] - 2s 25ms/step - loss: 0.1567 - accuracy: 0.9459 - val_loss: 1.7292 - val_accuracy: 0.6572\n",
      "Epoch 23/50\n",
      "77/77 [==============================] - 2s 27ms/step - loss: 0.1568 - accuracy: 0.9465 - val_loss: 1.6256 - val_accuracy: 0.6538\n",
      "Epoch 24/50\n",
      "77/77 [==============================] - 2s 22ms/step - loss: 0.1306 - accuracy: 0.9552 - val_loss: 1.7676 - val_accuracy: 0.6497\n",
      "Epoch 25/50\n",
      "77/77 [==============================] - 2s 23ms/step - loss: 0.1559 - accuracy: 0.9439 - val_loss: 1.7265 - val_accuracy: 0.6549\n",
      "Epoch 26/50\n",
      "77/77 [==============================] - 2s 23ms/step - loss: 0.1327 - accuracy: 0.9509 - val_loss: 1.7537 - val_accuracy: 0.6497\n",
      "Epoch 27/50\n",
      "77/77 [==============================] - 2s 22ms/step - loss: 0.1305 - accuracy: 0.9541 - val_loss: 1.7977 - val_accuracy: 0.6491\n",
      "Epoch 28/50\n",
      "77/77 [==============================] - 2s 23ms/step - loss: 0.1317 - accuracy: 0.9528 - val_loss: 1.6182 - val_accuracy: 0.6555\n",
      "Epoch 29/50\n",
      "77/77 [==============================] - 2s 22ms/step - loss: 0.1330 - accuracy: 0.9539 - val_loss: 1.7864 - val_accuracy: 0.6590\n",
      "Epoch 30/50\n",
      "77/77 [==============================] - 2s 22ms/step - loss: 0.1299 - accuracy: 0.9553 - val_loss: 1.7732 - val_accuracy: 0.6509\n",
      "Epoch 31/50\n",
      "77/77 [==============================] - 2s 23ms/step - loss: 0.1375 - accuracy: 0.9540 - val_loss: 1.7099 - val_accuracy: 0.6555\n",
      "Epoch 32/50\n",
      "77/77 [==============================] - 2s 23ms/step - loss: 0.1245 - accuracy: 0.9546 - val_loss: 1.7375 - val_accuracy: 0.6509\n",
      "Epoch 33/50\n",
      "77/77 [==============================] - 2s 23ms/step - loss: 0.1207 - accuracy: 0.9587 - val_loss: 1.8815 - val_accuracy: 0.6532\n",
      "Epoch 34/50\n",
      "77/77 [==============================] - 2s 23ms/step - loss: 0.1228 - accuracy: 0.9549 - val_loss: 1.9036 - val_accuracy: 0.6514\n",
      "Epoch 35/50\n",
      "77/77 [==============================] - 2s 22ms/step - loss: 0.1198 - accuracy: 0.9573 - val_loss: 1.7982 - val_accuracy: 0.6474\n",
      "Epoch 36/50\n",
      "77/77 [==============================] - 2s 23ms/step - loss: 0.1229 - accuracy: 0.9520 - val_loss: 1.8334 - val_accuracy: 0.6543\n",
      "Epoch 37/50\n",
      "77/77 [==============================] - 2s 23ms/step - loss: 0.1205 - accuracy: 0.9554 - val_loss: 1.8485 - val_accuracy: 0.6503\n",
      "Epoch 38/50\n",
      "77/77 [==============================] - 2s 23ms/step - loss: 0.1191 - accuracy: 0.9581 - val_loss: 1.9297 - val_accuracy: 0.6538\n",
      "Epoch 39/50\n",
      "77/77 [==============================] - 2s 23ms/step - loss: 0.1115 - accuracy: 0.9599 - val_loss: 1.8472 - val_accuracy: 0.6520\n",
      "Epoch 40/50\n",
      "77/77 [==============================] - 2s 23ms/step - loss: 0.1307 - accuracy: 0.9560 - val_loss: 1.7901 - val_accuracy: 0.6457\n",
      "Epoch 41/50\n",
      "77/77 [==============================] - 2s 23ms/step - loss: 0.1131 - accuracy: 0.9594 - val_loss: 1.8505 - val_accuracy: 0.6486\n",
      "Epoch 42/50\n",
      "77/77 [==============================] - 2s 23ms/step - loss: 0.1112 - accuracy: 0.9599 - val_loss: 2.0178 - val_accuracy: 0.6526\n",
      "Epoch 43/50\n",
      "77/77 [==============================] - 2s 23ms/step - loss: 0.1196 - accuracy: 0.9558 - val_loss: 1.9596 - val_accuracy: 0.6538\n",
      "Epoch 44/50\n",
      "77/77 [==============================] - 2s 23ms/step - loss: 0.1118 - accuracy: 0.9580 - val_loss: 1.8554 - val_accuracy: 0.6520\n",
      "Epoch 45/50\n",
      "77/77 [==============================] - 2s 23ms/step - loss: 0.1111 - accuracy: 0.9597 - val_loss: 1.8777 - val_accuracy: 0.6549\n",
      "Epoch 46/50\n",
      "77/77 [==============================] - 2s 23ms/step - loss: 0.1129 - accuracy: 0.9617 - val_loss: 1.8907 - val_accuracy: 0.6572\n",
      "Epoch 47/50\n",
      "77/77 [==============================] - 2s 23ms/step - loss: 0.1029 - accuracy: 0.9638 - val_loss: 2.0361 - val_accuracy: 0.6561\n",
      "Epoch 48/50\n",
      "77/77 [==============================] - 2s 23ms/step - loss: 0.1048 - accuracy: 0.9621 - val_loss: 1.8575 - val_accuracy: 0.6561\n",
      "Epoch 49/50\n",
      "77/77 [==============================] - 2s 23ms/step - loss: 0.1079 - accuracy: 0.9599 - val_loss: 1.8603 - val_accuracy: 0.6561\n",
      "Epoch 50/50\n",
      "77/77 [==============================] - 2s 22ms/step - loss: 0.1054 - accuracy: 0.9605 - val_loss: 1.9384 - val_accuracy: 0.6514\n"
     ]
    },
    {
     "data": {
      "text/plain": [
       "0.6589595079421997"
      ]
     },
     "execution_count": 107,
     "metadata": {
      "tags": []
     },
     "output_type": "execute_result"
    }
   ],
   "source": [
    "#Создаём полносвязную сеть\n",
    "model = Sequential()\n",
    "# model.add(Embedding(maxWordsCount, 50, input_length=4))\n",
    "# model.add(SpatialDropout1D(0.4))\n",
    "# model.add(BatchNormalization())\n",
    "# model.add(LSTM(50, return_sequences=True))\n",
    "# model.add(LSTM(20, return_sequences=True))\n",
    "# model.add(LSTM(10))\n",
    "# model = Sequential()\n",
    "model.add(Embedding(maxWordsCount, 50, input_length=4))\n",
    "model.add(SpatialDropout1D(0.4))\n",
    "model.add(BatchNormalization())\n",
    "model.add(LSTM(50, return_sequences=True))\n",
    "model.add(LSTM(20, return_sequences=True))\n",
    "model.add(LSTM(10))\n",
    "model.add(Dense(100, activation='relu'))\n",
    "model.add(Dropout(0.3))\n",
    "model.add(BatchNormalization())\n",
    "model.add(Dense(100, activation='sigmoid'))\n",
    "model.add(Dropout(0.2))\n",
    "model.add(BatchNormalization())\n",
    "model.add(Dense(100, activation='sigmoid'))\n",
    "model.add(Dropout(0.1))\n",
    "model.add(BatchNormalization())\n",
    "# model.add(Dense(200, activation='relu'))\n",
    "# model.add(Dropout(0.1))\n",
    "# model.add(BatchNormalization())\n",
    "# model.add(Dense(100, activation='relu'))\n",
    "# model.add(Dropout(0.1))\n",
    "# model.add(BatchNormalization())\n",
    "model.add(Dense(7, activation='softmax'))\n",
    "\n",
    "model.compile(optimizer='Adam', loss='categorical_crossentropy', metrics=['accuracy'])\n",
    "\n",
    "history = model.fit(x_train, train_labels.tolist(), epochs=50,batch_size=128, validation_data=(x_test, test_labels.tolist()))\n",
    "\n",
    "np.max(history.history['val_accuracy'])"
   ]
  },
  {
   "cell_type": "markdown",
   "metadata": {
    "id": "tfd5ibgS8XKr"
   },
   "source": [
    "Попробуем варианты LSTM+Conv1D"
   ]
  },
  {
   "cell_type": "code",
   "execution_count": null,
   "metadata": {
    "colab": {
     "base_uri": "https://localhost:8080/"
    },
    "id": "BIE5gH6M8boK",
    "outputId": "53303f4b-3a4f-48d5-d8e0-9635463aa230"
   },
   "outputs": [
    {
     "name": "stdout",
     "output_type": "stream",
     "text": [
      "Epoch 1/50\n",
      "77/77 [==============================] - 3s 20ms/step - loss: 2.3842 - accuracy: 0.1620 - val_loss: 1.9338 - val_accuracy: 0.1757\n",
      "Epoch 2/50\n",
      "77/77 [==============================] - 1s 16ms/step - loss: 1.9620 - accuracy: 0.2529 - val_loss: 1.8685 - val_accuracy: 0.2705\n",
      "Epoch 3/50\n",
      "77/77 [==============================] - 1s 16ms/step - loss: 1.6519 - accuracy: 0.3893 - val_loss: 1.8358 - val_accuracy: 0.3064\n",
      "Epoch 4/50\n",
      "77/77 [==============================] - 1s 16ms/step - loss: 1.2216 - accuracy: 0.5648 - val_loss: 1.7722 - val_accuracy: 0.3081\n",
      "Epoch 5/50\n",
      "77/77 [==============================] - 1s 16ms/step - loss: 0.8338 - accuracy: 0.7146 - val_loss: 1.5687 - val_accuracy: 0.3867\n",
      "Epoch 6/50\n",
      "77/77 [==============================] - 1s 16ms/step - loss: 0.5928 - accuracy: 0.7989 - val_loss: 1.3904 - val_accuracy: 0.5023\n",
      "Epoch 7/50\n",
      "77/77 [==============================] - 1s 16ms/step - loss: 0.4387 - accuracy: 0.8547 - val_loss: 1.2386 - val_accuracy: 0.5873\n",
      "Epoch 8/50\n",
      "77/77 [==============================] - 1s 16ms/step - loss: 0.3290 - accuracy: 0.8918 - val_loss: 1.2039 - val_accuracy: 0.6208\n",
      "Epoch 9/50\n",
      "77/77 [==============================] - 1s 16ms/step - loss: 0.2841 - accuracy: 0.9071 - val_loss: 1.2663 - val_accuracy: 0.6353\n",
      "Epoch 10/50\n",
      "77/77 [==============================] - 1s 16ms/step - loss: 0.2406 - accuracy: 0.9165 - val_loss: 1.3503 - val_accuracy: 0.6318\n",
      "Epoch 11/50\n",
      "77/77 [==============================] - 1s 16ms/step - loss: 0.2194 - accuracy: 0.9257 - val_loss: 1.3512 - val_accuracy: 0.6439\n",
      "Epoch 12/50\n",
      "77/77 [==============================] - 1s 16ms/step - loss: 0.1839 - accuracy: 0.9393 - val_loss: 1.3629 - val_accuracy: 0.6405\n",
      "Epoch 13/50\n",
      "77/77 [==============================] - 1s 16ms/step - loss: 0.1753 - accuracy: 0.9393 - val_loss: 1.3911 - val_accuracy: 0.6474\n",
      "Epoch 14/50\n",
      "77/77 [==============================] - 1s 16ms/step - loss: 0.1659 - accuracy: 0.9453 - val_loss: 1.4598 - val_accuracy: 0.6434\n",
      "Epoch 15/50\n",
      "77/77 [==============================] - 1s 16ms/step - loss: 0.1536 - accuracy: 0.9463 - val_loss: 1.4985 - val_accuracy: 0.6422\n",
      "Epoch 16/50\n",
      "77/77 [==============================] - 1s 16ms/step - loss: 0.1606 - accuracy: 0.9426 - val_loss: 1.4497 - val_accuracy: 0.6457\n",
      "Epoch 17/50\n",
      "77/77 [==============================] - 1s 16ms/step - loss: 0.1385 - accuracy: 0.9496 - val_loss: 1.5203 - val_accuracy: 0.6289\n",
      "Epoch 18/50\n",
      "77/77 [==============================] - 1s 16ms/step - loss: 0.1383 - accuracy: 0.9511 - val_loss: 1.4811 - val_accuracy: 0.6497\n",
      "Epoch 19/50\n",
      "77/77 [==============================] - 1s 16ms/step - loss: 0.1329 - accuracy: 0.9495 - val_loss: 1.5561 - val_accuracy: 0.6376\n",
      "Epoch 20/50\n",
      "77/77 [==============================] - 1s 16ms/step - loss: 0.1377 - accuracy: 0.9501 - val_loss: 1.5065 - val_accuracy: 0.6428\n",
      "Epoch 21/50\n",
      "77/77 [==============================] - 1s 16ms/step - loss: 0.1242 - accuracy: 0.9548 - val_loss: 1.5382 - val_accuracy: 0.6410\n",
      "Epoch 22/50\n",
      "77/77 [==============================] - 1s 16ms/step - loss: 0.1129 - accuracy: 0.9619 - val_loss: 1.5384 - val_accuracy: 0.6399\n",
      "Epoch 23/50\n",
      "77/77 [==============================] - 1s 16ms/step - loss: 0.1156 - accuracy: 0.9573 - val_loss: 1.5385 - val_accuracy: 0.6445\n",
      "Epoch 24/50\n",
      "77/77 [==============================] - 1s 16ms/step - loss: 0.1217 - accuracy: 0.9559 - val_loss: 1.5507 - val_accuracy: 0.6422\n",
      "Epoch 25/50\n",
      "77/77 [==============================] - 1s 16ms/step - loss: 0.1069 - accuracy: 0.9575 - val_loss: 1.5618 - val_accuracy: 0.6387\n",
      "Epoch 26/50\n",
      "77/77 [==============================] - 1s 16ms/step - loss: 0.1133 - accuracy: 0.9571 - val_loss: 1.6247 - val_accuracy: 0.6364\n",
      "Epoch 27/50\n",
      "77/77 [==============================] - 1s 16ms/step - loss: 0.1045 - accuracy: 0.9636 - val_loss: 1.6000 - val_accuracy: 0.6289\n",
      "Epoch 28/50\n",
      "77/77 [==============================] - 1s 16ms/step - loss: 0.1108 - accuracy: 0.9593 - val_loss: 1.5584 - val_accuracy: 0.6445\n",
      "Epoch 29/50\n",
      "77/77 [==============================] - 1s 16ms/step - loss: 0.1122 - accuracy: 0.9576 - val_loss: 1.5634 - val_accuracy: 0.6405\n",
      "Epoch 30/50\n",
      "77/77 [==============================] - 1s 16ms/step - loss: 0.1123 - accuracy: 0.9600 - val_loss: 1.5575 - val_accuracy: 0.6480\n",
      "Epoch 31/50\n",
      "77/77 [==============================] - 1s 16ms/step - loss: 0.1100 - accuracy: 0.9567 - val_loss: 1.5877 - val_accuracy: 0.6439\n",
      "Epoch 32/50\n",
      "77/77 [==============================] - 1s 16ms/step - loss: 0.0889 - accuracy: 0.9654 - val_loss: 1.5987 - val_accuracy: 0.6462\n",
      "Epoch 33/50\n",
      "77/77 [==============================] - 1s 16ms/step - loss: 0.1046 - accuracy: 0.9591 - val_loss: 1.6424 - val_accuracy: 0.6393\n",
      "Epoch 34/50\n",
      "77/77 [==============================] - 1s 16ms/step - loss: 0.1048 - accuracy: 0.9612 - val_loss: 1.5752 - val_accuracy: 0.6416\n",
      "Epoch 35/50\n",
      "77/77 [==============================] - 1s 16ms/step - loss: 0.0934 - accuracy: 0.9620 - val_loss: 1.5914 - val_accuracy: 0.6457\n",
      "Epoch 36/50\n",
      "77/77 [==============================] - 1s 16ms/step - loss: 0.0942 - accuracy: 0.9626 - val_loss: 1.6508 - val_accuracy: 0.6393\n",
      "Epoch 37/50\n",
      "77/77 [==============================] - 1s 16ms/step - loss: 0.1020 - accuracy: 0.9632 - val_loss: 1.6116 - val_accuracy: 0.6416\n",
      "Epoch 38/50\n",
      "77/77 [==============================] - 1s 16ms/step - loss: 0.0963 - accuracy: 0.9626 - val_loss: 1.6210 - val_accuracy: 0.6584\n",
      "Epoch 39/50\n",
      "77/77 [==============================] - 1s 16ms/step - loss: 0.0929 - accuracy: 0.9643 - val_loss: 1.6644 - val_accuracy: 0.6387\n",
      "Epoch 40/50\n",
      "77/77 [==============================] - 1s 16ms/step - loss: 0.1025 - accuracy: 0.9583 - val_loss: 1.6435 - val_accuracy: 0.6526\n",
      "Epoch 41/50\n",
      "77/77 [==============================] - 1s 16ms/step - loss: 0.0925 - accuracy: 0.9628 - val_loss: 1.7477 - val_accuracy: 0.6457\n",
      "Epoch 42/50\n",
      "77/77 [==============================] - 1s 16ms/step - loss: 0.0951 - accuracy: 0.9644 - val_loss: 1.6998 - val_accuracy: 0.6468\n",
      "Epoch 43/50\n",
      "77/77 [==============================] - 1s 16ms/step - loss: 0.0911 - accuracy: 0.9666 - val_loss: 1.7100 - val_accuracy: 0.6434\n",
      "Epoch 44/50\n",
      "77/77 [==============================] - 1s 16ms/step - loss: 0.0996 - accuracy: 0.9614 - val_loss: 1.6708 - val_accuracy: 0.6474\n",
      "Epoch 45/50\n",
      "77/77 [==============================] - 1s 16ms/step - loss: 0.0925 - accuracy: 0.9644 - val_loss: 1.6896 - val_accuracy: 0.6486\n",
      "Epoch 46/50\n",
      "77/77 [==============================] - 1s 16ms/step - loss: 0.0881 - accuracy: 0.9667 - val_loss: 1.7178 - val_accuracy: 0.6514\n",
      "Epoch 47/50\n",
      "77/77 [==============================] - 1s 16ms/step - loss: 0.0872 - accuracy: 0.9646 - val_loss: 1.7004 - val_accuracy: 0.6422\n",
      "Epoch 48/50\n",
      "77/77 [==============================] - 1s 16ms/step - loss: 0.0923 - accuracy: 0.9684 - val_loss: 1.7912 - val_accuracy: 0.6405\n",
      "Epoch 49/50\n",
      "77/77 [==============================] - 1s 16ms/step - loss: 0.0813 - accuracy: 0.9698 - val_loss: 1.7330 - val_accuracy: 0.6393\n",
      "Epoch 50/50\n",
      "77/77 [==============================] - 1s 16ms/step - loss: 0.0825 - accuracy: 0.9697 - val_loss: 1.7292 - val_accuracy: 0.6364\n"
     ]
    },
    {
     "data": {
      "text/plain": [
       "0.6583815217018127"
      ]
     },
     "execution_count": 129,
     "metadata": {
      "tags": []
     },
     "output_type": "execute_result"
    }
   ],
   "source": [
    "#Создаём сверточную сеть\n",
    "model = Sequential()\n",
    "model.add(Embedding(maxWordsCount, 50, input_length=4))\n",
    "model.add(SpatialDropout1D(0.4))\n",
    "model.add(BatchNormalization())\n",
    "model.add(Conv1D(100, 2, activation='relu',padding='same'))\n",
    "model.add(MaxPooling1D(2))\n",
    "model.add(BatchNormalization())\n",
    "model.add(Conv1D(50, 2, activation='relu',padding='same'))\n",
    "model.add(MaxPooling1D(2))\n",
    "model.add(BatchNormalization())\n",
    "model.add(Flatten())\n",
    "model.add(Dense(100, activation='sigmoid'))\n",
    "model.add(Dropout(0.1))\n",
    "model.add(BatchNormalization())\n",
    "model.add(Dense(7, activation='softmax'))\n",
    "\n",
    "model.compile(optimizer='Adam', loss='categorical_crossentropy', metrics=['accuracy'])\n",
    "\n",
    "history = model.fit(x_train, train_labels.tolist(), epochs=50,batch_size=128, validation_data=(x_test, test_labels.tolist()))\n",
    "\n",
    "np.max(history.history['val_accuracy'])"
   ]
  },
  {
   "cell_type": "markdown",
   "metadata": {
    "id": "XP9Suo8KP1V5"
   },
   "source": [
    "Лучшего результата добиться не получилось"
   ]
  },
  {
   "cell_type": "markdown",
   "metadata": {
    "id": "St6uAPm9fUWQ"
   },
   "source": [
    "Посмотрим каких участников чата было сложнее всего правильно определить"
   ]
  },
  {
   "cell_type": "code",
   "execution_count": null,
   "metadata": {
    "id": "9DLqBiWR_DKP"
   },
   "outputs": [],
   "source": [
    "#Запишем предсказания модели на тестовой выборке и преобразуем их вид\n",
    "prediction = model.predict(x_test)\n",
    "y_pred = [np.argmax(x) for x in prediction]\n",
    "test_l = [np.argmax(x) for x in test_labels]"
   ]
  },
  {
   "cell_type": "code",
   "execution_count": null,
   "metadata": {
    "id": "DhKxBfvPQ6_h"
   },
   "outputs": [],
   "source": [
    "#Разделим предсказаные метки на правильные и неправильные\n",
    "right = []\n",
    "wrong = []\n",
    "\n",
    "for i in range(len(y_pred)):\n",
    "  if y_pred[i] == test_l[i]:\n",
    "    right.append(y_pred[i])\n",
    "  else:\n",
    "    wrong.append(y_pred[i])"
   ]
  },
  {
   "cell_type": "code",
   "execution_count": null,
   "metadata": {
    "id": "aJ_sKsB-Q69C"
   },
   "outputs": [],
   "source": [
    "#Посчитаем долю правильных меток для каждого участника чата\n",
    "right_array = np.array(right)\n",
    "wrong_array = np.array(wrong)\n",
    "r =np.zeros(7)\n",
    "w= np.zeros(7)\n",
    "\n",
    "for i in range(7):\n",
    "    r[i] = len(right_array[right_array==i])\n",
    "    w[i] = len(wrong_array[wrong_array==i])\n",
    "\n",
    "all = r + w\n",
    "procent = r/all"
   ]
  },
  {
   "cell_type": "code",
   "execution_count": null,
   "metadata": {
    "id": "aRU4dBvXUUPi"
   },
   "outputs": [],
   "source": [
    "name = ['Яна','Паша','Настя','Анастасия','Макс','Рома','Гера']"
   ]
  },
  {
   "cell_type": "code",
   "execution_count": null,
   "metadata": {
    "colab": {
     "base_uri": "https://localhost:8080/"
    },
    "id": "SlaM8SWUUdBs",
    "outputId": "5898c063-3a20-451a-deb7-f55a2492987e"
   },
   "outputs": [
    {
     "name": "stdout",
     "output_type": "stream",
     "text": [
      "Яна 56% сеть определила правильно\n",
      "Паша 67% сеть определила правильно\n",
      "Настя 71% сеть определила правильно\n",
      "Анастасия 74% сеть определила правильно\n",
      "Макс 51% сеть определила правильно\n",
      "Рома 69% сеть определила правильно\n",
      "Гера 80% сеть определила правильно\n"
     ]
    }
   ],
   "source": [
    "for i in range(7):\n",
    "  print('{} {}% сеть определила правильно'.format(name[i],round(procent[i]*100)))"
   ]
  },
  {
   "cell_type": "markdown",
   "metadata": {
    "id": "HiUWg2lg-2tD"
   },
   "source": [
    "Попробуем убрать 15 самых часто употребляемых слов из в наборе"
   ]
  },
  {
   "cell_type": "code",
   "execution_count": null,
   "metadata": {
    "id": "VMFAhzgr2-cQ"
   },
   "outputs": [],
   "source": [
    "maxWordsCount = 11800 # Определяем максимальное количество слов/индексов, учитываемое при обучении текстов\n",
    "\n",
    "tokenizer = Tokenizer(num_words=maxWordsCount, lower=False, oov_token='unknown', char_level=False)\n",
    "\n",
    "tokenizer.fit_on_texts(train_data) \n",
    "items = list(tokenizer.word_index.keys()) "
   ]
  },
  {
   "cell_type": "code",
   "execution_count": null,
   "metadata": {
    "id": "UkESKm5X3M8z"
   },
   "outputs": [],
   "source": [
    "items = items[:15]"
   ]
  },
  {
   "cell_type": "code",
   "execution_count": null,
   "metadata": {
    "id": "sV9cq0q73TbJ"
   },
   "outputs": [],
   "source": [
    "#Занулим первые 15 слов\n",
    "for i in items:\n",
    "  tokenizer.word_index[i] = 0"
   ]
  },
  {
   "cell_type": "code",
   "execution_count": null,
   "metadata": {
    "id": "CkTJReN42-ca"
   },
   "outputs": [],
   "source": [
    "x_train = tokenizer.texts_to_sequences(train_data)\n",
    "x_test = tokenizer.texts_to_sequences(test_data)"
   ]
  },
  {
   "cell_type": "code",
   "execution_count": null,
   "metadata": {
    "colab": {
     "base_uri": "https://localhost:8080/"
    },
    "id": "XpIUMebd2-ca",
    "outputId": "0178a2a2-72be-4188-d329-3a72d558ed1f"
   },
   "outputs": [
    {
     "name": "stdout",
     "output_type": "stream",
     "text": [
      "Epoch 1/50\n",
      "77/77 [==============================] - 8s 37ms/step - loss: 1.9149 - accuracy: 0.2348 - val_loss: 1.8687 - val_accuracy: 0.2705\n",
      "Epoch 2/50\n",
      "77/77 [==============================] - 2s 20ms/step - loss: 1.6993 - accuracy: 0.3459 - val_loss: 1.7934 - val_accuracy: 0.3746\n",
      "Epoch 3/50\n",
      "77/77 [==============================] - 2s 20ms/step - loss: 1.3093 - accuracy: 0.5342 - val_loss: 1.6150 - val_accuracy: 0.4116\n",
      "Epoch 4/50\n",
      "77/77 [==============================] - 2s 20ms/step - loss: 0.9633 - accuracy: 0.6634 - val_loss: 1.4486 - val_accuracy: 0.4717\n",
      "Epoch 5/50\n",
      "77/77 [==============================] - 2s 20ms/step - loss: 0.6819 - accuracy: 0.8035 - val_loss: 1.3323 - val_accuracy: 0.5520\n",
      "Epoch 6/50\n",
      "77/77 [==============================] - 2s 21ms/step - loss: 0.5280 - accuracy: 0.8483 - val_loss: 1.2364 - val_accuracy: 0.5977\n",
      "Epoch 7/50\n",
      "77/77 [==============================] - 2s 21ms/step - loss: 0.3881 - accuracy: 0.8933 - val_loss: 1.2496 - val_accuracy: 0.6173\n",
      "Epoch 8/50\n",
      "77/77 [==============================] - 2s 20ms/step - loss: 0.3289 - accuracy: 0.9054 - val_loss: 1.2505 - val_accuracy: 0.6156\n",
      "Epoch 9/50\n",
      "77/77 [==============================] - 2s 20ms/step - loss: 0.2695 - accuracy: 0.9264 - val_loss: 1.2954 - val_accuracy: 0.6341\n",
      "Epoch 10/50\n",
      "77/77 [==============================] - 2s 20ms/step - loss: 0.2541 - accuracy: 0.9212 - val_loss: 1.2853 - val_accuracy: 0.6324\n",
      "Epoch 11/50\n",
      "77/77 [==============================] - 2s 21ms/step - loss: 0.2248 - accuracy: 0.9334 - val_loss: 1.3095 - val_accuracy: 0.6318\n",
      "Epoch 12/50\n",
      "77/77 [==============================] - 2s 20ms/step - loss: 0.2039 - accuracy: 0.9381 - val_loss: 1.3198 - val_accuracy: 0.6439\n",
      "Epoch 13/50\n",
      "77/77 [==============================] - 2s 20ms/step - loss: 0.1853 - accuracy: 0.9424 - val_loss: 1.3256 - val_accuracy: 0.6486\n",
      "Epoch 14/50\n",
      "77/77 [==============================] - 2s 20ms/step - loss: 0.1720 - accuracy: 0.9465 - val_loss: 1.3425 - val_accuracy: 0.6358\n",
      "Epoch 15/50\n",
      "77/77 [==============================] - 2s 20ms/step - loss: 0.1566 - accuracy: 0.9508 - val_loss: 1.3615 - val_accuracy: 0.6509\n",
      "Epoch 16/50\n",
      "77/77 [==============================] - 2s 21ms/step - loss: 0.1521 - accuracy: 0.9520 - val_loss: 1.3542 - val_accuracy: 0.6491\n",
      "Epoch 17/50\n",
      "77/77 [==============================] - 2s 21ms/step - loss: 0.1512 - accuracy: 0.9516 - val_loss: 1.3788 - val_accuracy: 0.6555\n",
      "Epoch 18/50\n",
      "77/77 [==============================] - 2s 20ms/step - loss: 0.1397 - accuracy: 0.9557 - val_loss: 1.3889 - val_accuracy: 0.6613\n",
      "Epoch 19/50\n",
      "77/77 [==============================] - 2s 20ms/step - loss: 0.1412 - accuracy: 0.9535 - val_loss: 1.4061 - val_accuracy: 0.6503\n",
      "Epoch 20/50\n",
      "77/77 [==============================] - 2s 20ms/step - loss: 0.1361 - accuracy: 0.9533 - val_loss: 1.4403 - val_accuracy: 0.6439\n",
      "Epoch 21/50\n",
      "77/77 [==============================] - 2s 20ms/step - loss: 0.1320 - accuracy: 0.9526 - val_loss: 1.4507 - val_accuracy: 0.6445\n",
      "Epoch 22/50\n",
      "77/77 [==============================] - 2s 20ms/step - loss: 0.1267 - accuracy: 0.9558 - val_loss: 1.4794 - val_accuracy: 0.6503\n",
      "Epoch 23/50\n",
      "77/77 [==============================] - 2s 21ms/step - loss: 0.1212 - accuracy: 0.9586 - val_loss: 1.4879 - val_accuracy: 0.6462\n",
      "Epoch 24/50\n",
      "77/77 [==============================] - 2s 21ms/step - loss: 0.1137 - accuracy: 0.9624 - val_loss: 1.4957 - val_accuracy: 0.6480\n",
      "Epoch 25/50\n",
      "77/77 [==============================] - 2s 21ms/step - loss: 0.1161 - accuracy: 0.9606 - val_loss: 1.5107 - val_accuracy: 0.6480\n",
      "Epoch 26/50\n",
      "77/77 [==============================] - 2s 20ms/step - loss: 0.1120 - accuracy: 0.9613 - val_loss: 1.5340 - val_accuracy: 0.6503\n",
      "Epoch 27/50\n",
      "77/77 [==============================] - 2s 20ms/step - loss: 0.1166 - accuracy: 0.9588 - val_loss: 1.5618 - val_accuracy: 0.6509\n",
      "Epoch 28/50\n",
      "77/77 [==============================] - 2s 20ms/step - loss: 0.1106 - accuracy: 0.9587 - val_loss: 1.5397 - val_accuracy: 0.6561\n",
      "Epoch 29/50\n",
      "77/77 [==============================] - 2s 20ms/step - loss: 0.1055 - accuracy: 0.9606 - val_loss: 1.5450 - val_accuracy: 0.6555\n",
      "Epoch 30/50\n",
      "77/77 [==============================] - 2s 20ms/step - loss: 0.0953 - accuracy: 0.9665 - val_loss: 1.5532 - val_accuracy: 0.6526\n",
      "Epoch 31/50\n",
      "77/77 [==============================] - 2s 20ms/step - loss: 0.1023 - accuracy: 0.9653 - val_loss: 1.5945 - val_accuracy: 0.6434\n",
      "Epoch 32/50\n",
      "77/77 [==============================] - 2s 20ms/step - loss: 0.0973 - accuracy: 0.9642 - val_loss: 1.5817 - val_accuracy: 0.6532\n",
      "Epoch 33/50\n",
      "77/77 [==============================] - 2s 20ms/step - loss: 0.1021 - accuracy: 0.9618 - val_loss: 1.5920 - val_accuracy: 0.6509\n",
      "Epoch 34/50\n",
      "77/77 [==============================] - 2s 21ms/step - loss: 0.0976 - accuracy: 0.9649 - val_loss: 1.6180 - val_accuracy: 0.6509\n",
      "Epoch 35/50\n",
      "77/77 [==============================] - 2s 22ms/step - loss: 0.0925 - accuracy: 0.9663 - val_loss: 1.6475 - val_accuracy: 0.6428\n",
      "Epoch 36/50\n",
      "77/77 [==============================] - 2s 21ms/step - loss: 0.0954 - accuracy: 0.9651 - val_loss: 1.6627 - val_accuracy: 0.6457\n",
      "Epoch 37/50\n",
      "77/77 [==============================] - 2s 22ms/step - loss: 0.0957 - accuracy: 0.9645 - val_loss: 1.6531 - val_accuracy: 0.6526\n",
      "Epoch 38/50\n",
      "77/77 [==============================] - 2s 21ms/step - loss: 0.0877 - accuracy: 0.9682 - val_loss: 1.6832 - val_accuracy: 0.6474\n",
      "Epoch 39/50\n",
      "77/77 [==============================] - 2s 21ms/step - loss: 0.0993 - accuracy: 0.9603 - val_loss: 1.6628 - val_accuracy: 0.6538\n",
      "Epoch 40/50\n",
      "77/77 [==============================] - 2s 21ms/step - loss: 0.0873 - accuracy: 0.9682 - val_loss: 1.6657 - val_accuracy: 0.6538\n",
      "Epoch 41/50\n",
      "77/77 [==============================] - 2s 21ms/step - loss: 0.0927 - accuracy: 0.9664 - val_loss: 1.6715 - val_accuracy: 0.6538\n",
      "Epoch 42/50\n",
      "77/77 [==============================] - 2s 21ms/step - loss: 0.0928 - accuracy: 0.9648 - val_loss: 1.7028 - val_accuracy: 0.6491\n",
      "Epoch 43/50\n",
      "77/77 [==============================] - 2s 22ms/step - loss: 0.0844 - accuracy: 0.9673 - val_loss: 1.6963 - val_accuracy: 0.6509\n",
      "Epoch 44/50\n",
      "77/77 [==============================] - 2s 21ms/step - loss: 0.0886 - accuracy: 0.9660 - val_loss: 1.7302 - val_accuracy: 0.6520\n",
      "Epoch 45/50\n",
      "77/77 [==============================] - 2s 21ms/step - loss: 0.0888 - accuracy: 0.9665 - val_loss: 1.7404 - val_accuracy: 0.6480\n",
      "Epoch 46/50\n",
      "77/77 [==============================] - 2s 21ms/step - loss: 0.0920 - accuracy: 0.9648 - val_loss: 1.7283 - val_accuracy: 0.6491\n",
      "Epoch 47/50\n",
      "77/77 [==============================] - 2s 20ms/step - loss: 0.0858 - accuracy: 0.9667 - val_loss: 1.7547 - val_accuracy: 0.6468\n",
      "Epoch 48/50\n",
      "77/77 [==============================] - 2s 20ms/step - loss: 0.0836 - accuracy: 0.9674 - val_loss: 1.7230 - val_accuracy: 0.6549\n",
      "Epoch 49/50\n",
      "77/77 [==============================] - 2s 20ms/step - loss: 0.0755 - accuracy: 0.9697 - val_loss: 1.7677 - val_accuracy: 0.6520\n",
      "Epoch 50/50\n",
      "77/77 [==============================] - 2s 20ms/step - loss: 0.0834 - accuracy: 0.9679 - val_loss: 1.7758 - val_accuracy: 0.6486\n"
     ]
    },
    {
     "data": {
      "text/plain": [
       "0.6612716913223267"
      ]
     },
     "execution_count": 121,
     "metadata": {
      "tags": []
     },
     "output_type": "execute_result"
    }
   ],
   "source": [
    "#Рекуррентная сеть\n",
    "model = Sequential()\n",
    "model.add(Embedding(maxWordsCount, 50, input_length=4))\n",
    "model.add(SpatialDropout1D(0.4))\n",
    "model.add(BatchNormalization())\n",
    "model.add(LSTM(50, return_sequences=True))\n",
    "model.add(LSTM(20, return_sequences=True))\n",
    "model.add(LSTM(10))\n",
    "model.add(Dense(7, activation='softmax'))\n",
    "\n",
    "model.compile(optimizer='Adam', loss='categorical_crossentropy', metrics=['accuracy'])\n",
    "\n",
    "history = model.fit(x_train, train_labels.tolist(), epochs=50,batch_size=128, validation_data=(x_test, test_labels.tolist()))\n",
    "\n",
    "np.max(history.history['val_accuracy'])"
   ]
  },
  {
   "cell_type": "code",
   "execution_count": null,
   "metadata": {
    "colab": {
     "base_uri": "https://localhost:8080/"
    },
    "id": "_E5IfhJh2vNF",
    "outputId": "ee067066-9fa1-4298-8e68-fe003da89daf"
   },
   "outputs": [
    {
     "name": "stdout",
     "output_type": "stream",
     "text": [
      "Epoch 1/50\n",
      "77/77 [==============================] - 3s 19ms/step - loss: 2.3492 - accuracy: 0.1715 - val_loss: 1.8727 - val_accuracy: 0.2705\n",
      "Epoch 2/50\n",
      "77/77 [==============================] - 1s 15ms/step - loss: 1.7272 - accuracy: 0.3339 - val_loss: 1.8866 - val_accuracy: 0.2705\n",
      "Epoch 3/50\n",
      "77/77 [==============================] - 1s 15ms/step - loss: 1.4029 - accuracy: 0.5049 - val_loss: 1.8855 - val_accuracy: 0.2705\n",
      "Epoch 4/50\n",
      "77/77 [==============================] - 1s 15ms/step - loss: 1.0912 - accuracy: 0.6361 - val_loss: 1.8631 - val_accuracy: 0.2705\n",
      "Epoch 5/50\n",
      "77/77 [==============================] - 1s 15ms/step - loss: 0.8248 - accuracy: 0.7278 - val_loss: 1.7475 - val_accuracy: 0.3145\n",
      "Epoch 6/50\n",
      "77/77 [==============================] - 1s 15ms/step - loss: 0.5852 - accuracy: 0.8211 - val_loss: 1.5342 - val_accuracy: 0.4168\n",
      "Epoch 7/50\n",
      "77/77 [==============================] - 1s 15ms/step - loss: 0.4409 - accuracy: 0.8587 - val_loss: 1.2389 - val_accuracy: 0.5711\n",
      "Epoch 8/50\n",
      "77/77 [==============================] - 1s 15ms/step - loss: 0.3464 - accuracy: 0.8892 - val_loss: 1.1754 - val_accuracy: 0.6179\n",
      "Epoch 9/50\n",
      "77/77 [==============================] - 1s 15ms/step - loss: 0.2779 - accuracy: 0.9077 - val_loss: 1.1932 - val_accuracy: 0.6214\n",
      "Epoch 10/50\n",
      "77/77 [==============================] - 1s 15ms/step - loss: 0.2381 - accuracy: 0.9257 - val_loss: 1.2369 - val_accuracy: 0.6329\n",
      "Epoch 11/50\n",
      "77/77 [==============================] - 1s 15ms/step - loss: 0.2279 - accuracy: 0.9232 - val_loss: 1.3114 - val_accuracy: 0.6249\n",
      "Epoch 12/50\n",
      "77/77 [==============================] - 1s 16ms/step - loss: 0.1851 - accuracy: 0.9434 - val_loss: 1.3148 - val_accuracy: 0.6283\n",
      "Epoch 13/50\n",
      "77/77 [==============================] - 1s 15ms/step - loss: 0.1805 - accuracy: 0.9381 - val_loss: 1.3273 - val_accuracy: 0.6324\n",
      "Epoch 14/50\n",
      "77/77 [==============================] - 1s 15ms/step - loss: 0.1765 - accuracy: 0.9432 - val_loss: 1.3774 - val_accuracy: 0.6318\n",
      "Epoch 15/50\n",
      "77/77 [==============================] - 1s 15ms/step - loss: 0.1492 - accuracy: 0.9482 - val_loss: 1.3683 - val_accuracy: 0.6358\n",
      "Epoch 16/50\n",
      "77/77 [==============================] - 1s 15ms/step - loss: 0.1463 - accuracy: 0.9501 - val_loss: 1.4180 - val_accuracy: 0.6254\n",
      "Epoch 17/50\n",
      "77/77 [==============================] - 1s 15ms/step - loss: 0.1457 - accuracy: 0.9507 - val_loss: 1.4407 - val_accuracy: 0.6376\n",
      "Epoch 18/50\n",
      "77/77 [==============================] - 1s 15ms/step - loss: 0.1365 - accuracy: 0.9530 - val_loss: 1.4413 - val_accuracy: 0.6376\n",
      "Epoch 19/50\n",
      "77/77 [==============================] - 1s 15ms/step - loss: 0.1264 - accuracy: 0.9551 - val_loss: 1.4485 - val_accuracy: 0.6387\n",
      "Epoch 20/50\n",
      "77/77 [==============================] - 1s 15ms/step - loss: 0.1239 - accuracy: 0.9550 - val_loss: 1.4232 - val_accuracy: 0.6405\n",
      "Epoch 21/50\n",
      "77/77 [==============================] - 1s 15ms/step - loss: 0.1158 - accuracy: 0.9590 - val_loss: 1.4294 - val_accuracy: 0.6434\n",
      "Epoch 22/50\n",
      "77/77 [==============================] - 1s 15ms/step - loss: 0.1128 - accuracy: 0.9565 - val_loss: 1.4378 - val_accuracy: 0.6439\n",
      "Epoch 23/50\n",
      "77/77 [==============================] - 1s 15ms/step - loss: 0.1038 - accuracy: 0.9629 - val_loss: 1.4764 - val_accuracy: 0.6405\n",
      "Epoch 24/50\n",
      "77/77 [==============================] - 1s 15ms/step - loss: 0.1103 - accuracy: 0.9606 - val_loss: 1.4939 - val_accuracy: 0.6422\n",
      "Epoch 25/50\n",
      "77/77 [==============================] - 1s 15ms/step - loss: 0.1113 - accuracy: 0.9588 - val_loss: 1.5205 - val_accuracy: 0.6341\n",
      "Epoch 26/50\n",
      "77/77 [==============================] - 1s 15ms/step - loss: 0.1061 - accuracy: 0.9598 - val_loss: 1.5062 - val_accuracy: 0.6457\n",
      "Epoch 27/50\n",
      "77/77 [==============================] - 1s 15ms/step - loss: 0.1096 - accuracy: 0.9578 - val_loss: 1.5065 - val_accuracy: 0.6503\n",
      "Epoch 28/50\n",
      "77/77 [==============================] - 1s 15ms/step - loss: 0.1066 - accuracy: 0.9603 - val_loss: 1.5344 - val_accuracy: 0.6439\n",
      "Epoch 29/50\n",
      "77/77 [==============================] - 1s 15ms/step - loss: 0.1072 - accuracy: 0.9608 - val_loss: 1.5592 - val_accuracy: 0.6451\n",
      "Epoch 30/50\n",
      "77/77 [==============================] - 1s 16ms/step - loss: 0.1080 - accuracy: 0.9588 - val_loss: 1.5588 - val_accuracy: 0.6457\n",
      "Epoch 31/50\n",
      "77/77 [==============================] - 1s 15ms/step - loss: 0.1006 - accuracy: 0.9604 - val_loss: 1.5597 - val_accuracy: 0.6451\n",
      "Epoch 32/50\n",
      "77/77 [==============================] - 1s 16ms/step - loss: 0.0911 - accuracy: 0.9659 - val_loss: 1.5968 - val_accuracy: 0.6358\n",
      "Epoch 33/50\n",
      "77/77 [==============================] - 1s 16ms/step - loss: 0.0947 - accuracy: 0.9659 - val_loss: 1.5867 - val_accuracy: 0.6439\n",
      "Epoch 34/50\n",
      "77/77 [==============================] - 1s 16ms/step - loss: 0.1012 - accuracy: 0.9605 - val_loss: 1.5862 - val_accuracy: 0.6416\n",
      "Epoch 35/50\n",
      "77/77 [==============================] - 1s 15ms/step - loss: 0.0987 - accuracy: 0.9620 - val_loss: 1.6289 - val_accuracy: 0.6358\n",
      "Epoch 36/50\n",
      "77/77 [==============================] - 1s 15ms/step - loss: 0.0928 - accuracy: 0.9675 - val_loss: 1.6363 - val_accuracy: 0.6370\n",
      "Epoch 37/50\n",
      "77/77 [==============================] - 1s 15ms/step - loss: 0.0903 - accuracy: 0.9650 - val_loss: 1.6162 - val_accuracy: 0.6399\n",
      "Epoch 38/50\n",
      "77/77 [==============================] - 1s 15ms/step - loss: 0.0950 - accuracy: 0.9635 - val_loss: 1.5997 - val_accuracy: 0.6439\n",
      "Epoch 39/50\n",
      "77/77 [==============================] - 1s 15ms/step - loss: 0.0940 - accuracy: 0.9641 - val_loss: 1.6474 - val_accuracy: 0.6445\n",
      "Epoch 40/50\n",
      "77/77 [==============================] - 1s 15ms/step - loss: 0.0909 - accuracy: 0.9646 - val_loss: 1.6762 - val_accuracy: 0.6405\n",
      "Epoch 41/50\n",
      "77/77 [==============================] - 1s 15ms/step - loss: 0.0992 - accuracy: 0.9613 - val_loss: 1.6728 - val_accuracy: 0.6382\n",
      "Epoch 42/50\n",
      "77/77 [==============================] - 1s 15ms/step - loss: 0.0947 - accuracy: 0.9641 - val_loss: 1.6562 - val_accuracy: 0.6364\n",
      "Epoch 43/50\n",
      "77/77 [==============================] - 1s 15ms/step - loss: 0.0899 - accuracy: 0.9652 - val_loss: 1.6815 - val_accuracy: 0.6382\n",
      "Epoch 44/50\n",
      "77/77 [==============================] - 1s 15ms/step - loss: 0.0926 - accuracy: 0.9623 - val_loss: 1.6698 - val_accuracy: 0.6497\n",
      "Epoch 45/50\n",
      "77/77 [==============================] - 1s 16ms/step - loss: 0.0854 - accuracy: 0.9683 - val_loss: 1.6983 - val_accuracy: 0.6474\n",
      "Epoch 46/50\n",
      "77/77 [==============================] - 1s 15ms/step - loss: 0.0862 - accuracy: 0.9669 - val_loss: 1.7185 - val_accuracy: 0.6532\n",
      "Epoch 47/50\n",
      "77/77 [==============================] - 1s 16ms/step - loss: 0.0955 - accuracy: 0.9640 - val_loss: 1.6791 - val_accuracy: 0.6445\n",
      "Epoch 48/50\n",
      "77/77 [==============================] - 1s 15ms/step - loss: 0.0883 - accuracy: 0.9674 - val_loss: 1.6993 - val_accuracy: 0.6428\n",
      "Epoch 49/50\n",
      "77/77 [==============================] - 1s 15ms/step - loss: 0.0839 - accuracy: 0.9677 - val_loss: 1.7072 - val_accuracy: 0.6451\n",
      "Epoch 50/50\n",
      "77/77 [==============================] - 1s 15ms/step - loss: 0.0808 - accuracy: 0.9693 - val_loss: 1.6833 - val_accuracy: 0.6486\n"
     ]
    },
    {
     "data": {
      "text/plain": [
       "0.6531791687011719"
      ]
     },
     "execution_count": 122,
     "metadata": {
      "tags": []
     },
     "output_type": "execute_result"
    }
   ],
   "source": [
    "#Сверточная сеть\n",
    "model = Sequential()\n",
    "model.add(Embedding(maxWordsCount, 50, input_length=4))\n",
    "model.add(SpatialDropout1D(0.4))\n",
    "model.add(BatchNormalization())\n",
    "model.add(Conv1D(100, 2, activation='relu',padding='same'))\n",
    "model.add(MaxPooling1D(2))\n",
    "model.add(BatchNormalization())\n",
    "model.add(Conv1D(50, 2, activation='relu',padding='same'))\n",
    "model.add(MaxPooling1D(2))\n",
    "model.add(BatchNormalization())\n",
    "model.add(Flatten())\n",
    "\n",
    "model.add(Dense(7, activation='softmax'))\n",
    "\n",
    "model.compile(optimizer='Adam', loss='categorical_crossentropy', metrics=['accuracy'])\n",
    "\n",
    "history = model.fit(x_train, train_labels.tolist(), epochs=50,batch_size=128, validation_data=(x_test, test_labels.tolist()))\n",
    "\n",
    "np.max(history.history['val_accuracy'])"
   ]
  },
  {
   "cell_type": "markdown",
   "metadata": {
    "id": "yuuLTPvo_JOa"
   },
   "source": [
    "Лучего результата добиться не получилось"
   ]
  },
  {
   "cell_type": "markdown",
   "metadata": {
    "id": "GmwmRF6n_eXN"
   },
   "source": [
    "Обученим модель с использование BagOfWords."
   ]
  },
  {
   "cell_type": "code",
   "execution_count": null,
   "metadata": {
    "id": "w1ZUgMh1_Qqo"
   },
   "outputs": [],
   "source": [
    "xTrain01 = tokenizer.texts_to_matrix(train_data)\n",
    "xTest01 = tokenizer.texts_to_matrix(test_data)"
   ]
  },
  {
   "cell_type": "code",
   "execution_count": null,
   "metadata": {
    "colab": {
     "base_uri": "https://localhost:8080/",
     "height": 1000
    },
    "id": "MJkGUMGC_QoA",
    "outputId": "30908580-f9c9-499b-e4fd-2669c3a06511"
   },
   "outputs": [
    {
     "name": "stdout",
     "output_type": "stream",
     "text": [
      "Epoch 1/50\n",
      "77/77 [==============================] - 6s 63ms/step - loss: 2.2855 - accuracy: 0.2181 - val_loss: 1.9208 - val_accuracy: 0.1734\n",
      "Epoch 2/50\n",
      "77/77 [==============================] - 5s 59ms/step - loss: 0.7119 - accuracy: 0.7653 - val_loss: 1.7692 - val_accuracy: 0.3046\n",
      "Epoch 3/50\n",
      "77/77 [==============================] - 5s 59ms/step - loss: 0.1865 - accuracy: 0.9487 - val_loss: 1.5366 - val_accuracy: 0.4121\n",
      "Epoch 4/50\n",
      "77/77 [==============================] - 5s 59ms/step - loss: 0.1161 - accuracy: 0.9674 - val_loss: 1.2423 - val_accuracy: 0.6156\n",
      "Epoch 5/50\n",
      "77/77 [==============================] - 5s 67ms/step - loss: 0.0895 - accuracy: 0.9715 - val_loss: 1.0144 - val_accuracy: 0.6636\n",
      "Epoch 6/50\n",
      "77/77 [==============================] - 5s 59ms/step - loss: 0.0792 - accuracy: 0.9731 - val_loss: 0.9595 - val_accuracy: 0.6792\n",
      "Epoch 7/50\n",
      "77/77 [==============================] - 5s 60ms/step - loss: 0.0741 - accuracy: 0.9725 - val_loss: 1.0437 - val_accuracy: 0.6775\n",
      "Epoch 8/50\n",
      "77/77 [==============================] - 5s 60ms/step - loss: 0.0773 - accuracy: 0.9722 - val_loss: 1.1634 - val_accuracy: 0.6792\n",
      "Epoch 9/50\n",
      "77/77 [==============================] - 5s 60ms/step - loss: 0.0612 - accuracy: 0.9786 - val_loss: 1.3227 - val_accuracy: 0.6665\n",
      "Epoch 10/50\n",
      "77/77 [==============================] - 5s 60ms/step - loss: 0.0704 - accuracy: 0.9728 - val_loss: 1.3983 - val_accuracy: 0.6728\n",
      "Epoch 11/50\n",
      "77/77 [==============================] - 5s 60ms/step - loss: 0.0678 - accuracy: 0.9739 - val_loss: 1.4295 - val_accuracy: 0.6705\n",
      "Epoch 12/50\n",
      "77/77 [==============================] - 5s 60ms/step - loss: 0.0664 - accuracy: 0.9751 - val_loss: 1.4648 - val_accuracy: 0.6688\n",
      "Epoch 13/50\n",
      "77/77 [==============================] - 5s 60ms/step - loss: 0.0638 - accuracy: 0.9751 - val_loss: 1.5383 - val_accuracy: 0.6665\n",
      "Epoch 14/50\n",
      "77/77 [==============================] - 5s 60ms/step - loss: 0.0672 - accuracy: 0.9743 - val_loss: 1.4639 - val_accuracy: 0.6717\n",
      "Epoch 15/50\n",
      "77/77 [==============================] - 5s 60ms/step - loss: 0.0638 - accuracy: 0.9753 - val_loss: 1.4957 - val_accuracy: 0.6746\n",
      "Epoch 16/50\n",
      "77/77 [==============================] - 5s 60ms/step - loss: 0.0615 - accuracy: 0.9752 - val_loss: 1.6066 - val_accuracy: 0.6653\n",
      "Epoch 17/50\n",
      "77/77 [==============================] - 5s 60ms/step - loss: 0.0579 - accuracy: 0.9777 - val_loss: 1.4978 - val_accuracy: 0.6780\n",
      "Epoch 18/50\n",
      "77/77 [==============================] - 5s 60ms/step - loss: 0.0587 - accuracy: 0.9764 - val_loss: 1.5878 - val_accuracy: 0.6723\n",
      "Epoch 19/50\n",
      "77/77 [==============================] - 5s 60ms/step - loss: 0.0553 - accuracy: 0.9764 - val_loss: 1.5976 - val_accuracy: 0.6751\n",
      "Epoch 20/50\n",
      "77/77 [==============================] - 5s 60ms/step - loss: 0.0636 - accuracy: 0.9735 - val_loss: 1.5889 - val_accuracy: 0.6711\n",
      "Epoch 21/50\n",
      "77/77 [==============================] - 5s 60ms/step - loss: 0.0636 - accuracy: 0.9728 - val_loss: 1.6430 - val_accuracy: 0.6636\n",
      "Epoch 22/50\n",
      "77/77 [==============================] - 5s 60ms/step - loss: 0.0628 - accuracy: 0.9746 - val_loss: 1.6429 - val_accuracy: 0.6676\n",
      "Epoch 23/50\n",
      "77/77 [==============================] - 5s 60ms/step - loss: 0.0579 - accuracy: 0.9771 - val_loss: 1.6470 - val_accuracy: 0.6665\n",
      "Epoch 24/50\n",
      "29/77 [==========>...................] - ETA: 2s - loss: 0.0595 - accuracy: 0.9737"
     ]
    },
    {
     "ename": "KeyboardInterrupt",
     "evalue": "ignored",
     "output_type": "error",
     "traceback": [
      "\u001b[0;31m---------------------------------------------------------------------------\u001b[0m",
      "\u001b[0;31mKeyboardInterrupt\u001b[0m                         Traceback (most recent call last)",
      "\u001b[0;32m<ipython-input-158-6bd436c286e9>\u001b[0m in \u001b[0;36m<module>\u001b[0;34m()\u001b[0m\n\u001b[1;32m     14\u001b[0m \u001b[0mmodel\u001b[0m\u001b[0;34m.\u001b[0m\u001b[0mcompile\u001b[0m\u001b[0;34m(\u001b[0m\u001b[0moptimizer\u001b[0m\u001b[0;34m=\u001b[0m\u001b[0;34m'Adam'\u001b[0m\u001b[0;34m,\u001b[0m \u001b[0mloss\u001b[0m\u001b[0;34m=\u001b[0m\u001b[0;34m'categorical_crossentropy'\u001b[0m\u001b[0;34m,\u001b[0m \u001b[0mmetrics\u001b[0m\u001b[0;34m=\u001b[0m\u001b[0;34m[\u001b[0m\u001b[0;34m'accuracy'\u001b[0m\u001b[0;34m]\u001b[0m\u001b[0;34m)\u001b[0m\u001b[0;34m\u001b[0m\u001b[0;34m\u001b[0m\u001b[0m\n\u001b[1;32m     15\u001b[0m \u001b[0;34m\u001b[0m\u001b[0m\n\u001b[0;32m---> 16\u001b[0;31m \u001b[0mhistory\u001b[0m \u001b[0;34m=\u001b[0m \u001b[0mmodel\u001b[0m\u001b[0;34m.\u001b[0m\u001b[0mfit\u001b[0m\u001b[0;34m(\u001b[0m\u001b[0mxTrain01\u001b[0m\u001b[0;34m,\u001b[0m \u001b[0mnp\u001b[0m\u001b[0;34m.\u001b[0m\u001b[0marray\u001b[0m\u001b[0;34m(\u001b[0m\u001b[0mtrain_labels\u001b[0m\u001b[0;34m)\u001b[0m\u001b[0;34m,\u001b[0m \u001b[0mepochs\u001b[0m\u001b[0;34m=\u001b[0m\u001b[0;36m50\u001b[0m\u001b[0;34m,\u001b[0m \u001b[0mbatch_size\u001b[0m\u001b[0;34m=\u001b[0m\u001b[0;36m128\u001b[0m\u001b[0;34m,\u001b[0m \u001b[0mvalidation_data\u001b[0m\u001b[0;34m=\u001b[0m\u001b[0;34m(\u001b[0m\u001b[0mxTest01\u001b[0m\u001b[0;34m,\u001b[0m \u001b[0mnp\u001b[0m\u001b[0;34m.\u001b[0m\u001b[0marray\u001b[0m\u001b[0;34m(\u001b[0m\u001b[0mtest_labels\u001b[0m\u001b[0;34m)\u001b[0m\u001b[0;34m)\u001b[0m\u001b[0;34m)\u001b[0m\u001b[0;34m\u001b[0m\u001b[0;34m\u001b[0m\u001b[0m\n\u001b[0m\u001b[1;32m     17\u001b[0m \u001b[0;34m\u001b[0m\u001b[0m\n\u001b[1;32m     18\u001b[0m \u001b[0mnp\u001b[0m\u001b[0;34m.\u001b[0m\u001b[0mmax\u001b[0m\u001b[0;34m(\u001b[0m\u001b[0mhistory\u001b[0m\u001b[0;34m.\u001b[0m\u001b[0mhistory\u001b[0m\u001b[0;34m[\u001b[0m\u001b[0;34m'val_accuracy'\u001b[0m\u001b[0;34m]\u001b[0m\u001b[0;34m)\u001b[0m\u001b[0;34m\u001b[0m\u001b[0;34m\u001b[0m\u001b[0m\n",
      "\u001b[0;32m/usr/local/lib/python3.6/dist-packages/tensorflow/python/keras/engine/training.py\u001b[0m in \u001b[0;36mfit\u001b[0;34m(self, x, y, batch_size, epochs, verbose, callbacks, validation_split, validation_data, shuffle, class_weight, sample_weight, initial_epoch, steps_per_epoch, validation_steps, validation_batch_size, validation_freq, max_queue_size, workers, use_multiprocessing)\u001b[0m\n\u001b[1;32m   1098\u001b[0m                 _r=1):\n\u001b[1;32m   1099\u001b[0m               \u001b[0mcallbacks\u001b[0m\u001b[0;34m.\u001b[0m\u001b[0mon_train_batch_begin\u001b[0m\u001b[0;34m(\u001b[0m\u001b[0mstep\u001b[0m\u001b[0;34m)\u001b[0m\u001b[0;34m\u001b[0m\u001b[0;34m\u001b[0m\u001b[0m\n\u001b[0;32m-> 1100\u001b[0;31m               \u001b[0mtmp_logs\u001b[0m \u001b[0;34m=\u001b[0m \u001b[0mself\u001b[0m\u001b[0;34m.\u001b[0m\u001b[0mtrain_function\u001b[0m\u001b[0;34m(\u001b[0m\u001b[0miterator\u001b[0m\u001b[0;34m)\u001b[0m\u001b[0;34m\u001b[0m\u001b[0;34m\u001b[0m\u001b[0m\n\u001b[0m\u001b[1;32m   1101\u001b[0m               \u001b[0;32mif\u001b[0m \u001b[0mdata_handler\u001b[0m\u001b[0;34m.\u001b[0m\u001b[0mshould_sync\u001b[0m\u001b[0;34m:\u001b[0m\u001b[0;34m\u001b[0m\u001b[0;34m\u001b[0m\u001b[0m\n\u001b[1;32m   1102\u001b[0m                 \u001b[0mcontext\u001b[0m\u001b[0;34m.\u001b[0m\u001b[0masync_wait\u001b[0m\u001b[0;34m(\u001b[0m\u001b[0;34m)\u001b[0m\u001b[0;34m\u001b[0m\u001b[0;34m\u001b[0m\u001b[0m\n",
      "\u001b[0;32m/usr/local/lib/python3.6/dist-packages/tensorflow/python/eager/def_function.py\u001b[0m in \u001b[0;36m__call__\u001b[0;34m(self, *args, **kwds)\u001b[0m\n\u001b[1;32m    826\u001b[0m     \u001b[0mtracing_count\u001b[0m \u001b[0;34m=\u001b[0m \u001b[0mself\u001b[0m\u001b[0;34m.\u001b[0m\u001b[0mexperimental_get_tracing_count\u001b[0m\u001b[0;34m(\u001b[0m\u001b[0;34m)\u001b[0m\u001b[0;34m\u001b[0m\u001b[0;34m\u001b[0m\u001b[0m\n\u001b[1;32m    827\u001b[0m     \u001b[0;32mwith\u001b[0m \u001b[0mtrace\u001b[0m\u001b[0;34m.\u001b[0m\u001b[0mTrace\u001b[0m\u001b[0;34m(\u001b[0m\u001b[0mself\u001b[0m\u001b[0;34m.\u001b[0m\u001b[0m_name\u001b[0m\u001b[0;34m)\u001b[0m \u001b[0;32mas\u001b[0m \u001b[0mtm\u001b[0m\u001b[0;34m:\u001b[0m\u001b[0;34m\u001b[0m\u001b[0;34m\u001b[0m\u001b[0m\n\u001b[0;32m--> 828\u001b[0;31m       \u001b[0mresult\u001b[0m \u001b[0;34m=\u001b[0m \u001b[0mself\u001b[0m\u001b[0;34m.\u001b[0m\u001b[0m_call\u001b[0m\u001b[0;34m(\u001b[0m\u001b[0;34m*\u001b[0m\u001b[0margs\u001b[0m\u001b[0;34m,\u001b[0m \u001b[0;34m**\u001b[0m\u001b[0mkwds\u001b[0m\u001b[0;34m)\u001b[0m\u001b[0;34m\u001b[0m\u001b[0;34m\u001b[0m\u001b[0m\n\u001b[0m\u001b[1;32m    829\u001b[0m       \u001b[0mcompiler\u001b[0m \u001b[0;34m=\u001b[0m \u001b[0;34m\"xla\"\u001b[0m \u001b[0;32mif\u001b[0m \u001b[0mself\u001b[0m\u001b[0;34m.\u001b[0m\u001b[0m_experimental_compile\u001b[0m \u001b[0;32melse\u001b[0m \u001b[0;34m\"nonXla\"\u001b[0m\u001b[0;34m\u001b[0m\u001b[0;34m\u001b[0m\u001b[0m\n\u001b[1;32m    830\u001b[0m       \u001b[0mnew_tracing_count\u001b[0m \u001b[0;34m=\u001b[0m \u001b[0mself\u001b[0m\u001b[0;34m.\u001b[0m\u001b[0mexperimental_get_tracing_count\u001b[0m\u001b[0;34m(\u001b[0m\u001b[0;34m)\u001b[0m\u001b[0;34m\u001b[0m\u001b[0;34m\u001b[0m\u001b[0m\n",
      "\u001b[0;32m/usr/local/lib/python3.6/dist-packages/tensorflow/python/eager/def_function.py\u001b[0m in \u001b[0;36m_call\u001b[0;34m(self, *args, **kwds)\u001b[0m\n\u001b[1;32m    853\u001b[0m       \u001b[0;31m# In this case we have created variables on the first call, so we run the\u001b[0m\u001b[0;34m\u001b[0m\u001b[0;34m\u001b[0m\u001b[0;34m\u001b[0m\u001b[0m\n\u001b[1;32m    854\u001b[0m       \u001b[0;31m# defunned version which is guaranteed to never create variables.\u001b[0m\u001b[0;34m\u001b[0m\u001b[0;34m\u001b[0m\u001b[0;34m\u001b[0m\u001b[0m\n\u001b[0;32m--> 855\u001b[0;31m       \u001b[0;32mreturn\u001b[0m \u001b[0mself\u001b[0m\u001b[0;34m.\u001b[0m\u001b[0m_stateless_fn\u001b[0m\u001b[0;34m(\u001b[0m\u001b[0;34m*\u001b[0m\u001b[0margs\u001b[0m\u001b[0;34m,\u001b[0m \u001b[0;34m**\u001b[0m\u001b[0mkwds\u001b[0m\u001b[0;34m)\u001b[0m  \u001b[0;31m# pylint: disable=not-callable\u001b[0m\u001b[0;34m\u001b[0m\u001b[0;34m\u001b[0m\u001b[0m\n\u001b[0m\u001b[1;32m    856\u001b[0m     \u001b[0;32melif\u001b[0m \u001b[0mself\u001b[0m\u001b[0;34m.\u001b[0m\u001b[0m_stateful_fn\u001b[0m \u001b[0;32mis\u001b[0m \u001b[0;32mnot\u001b[0m \u001b[0;32mNone\u001b[0m\u001b[0;34m:\u001b[0m\u001b[0;34m\u001b[0m\u001b[0;34m\u001b[0m\u001b[0m\n\u001b[1;32m    857\u001b[0m       \u001b[0;31m# Release the lock early so that multiple threads can perform the call\u001b[0m\u001b[0;34m\u001b[0m\u001b[0;34m\u001b[0m\u001b[0;34m\u001b[0m\u001b[0m\n",
      "\u001b[0;32m/usr/local/lib/python3.6/dist-packages/tensorflow/python/eager/function.py\u001b[0m in \u001b[0;36m__call__\u001b[0;34m(self, *args, **kwargs)\u001b[0m\n\u001b[1;32m   2941\u001b[0m        filtered_flat_args) = self._maybe_define_function(args, kwargs)\n\u001b[1;32m   2942\u001b[0m     return graph_function._call_flat(\n\u001b[0;32m-> 2943\u001b[0;31m         filtered_flat_args, captured_inputs=graph_function.captured_inputs)  # pylint: disable=protected-access\n\u001b[0m\u001b[1;32m   2944\u001b[0m \u001b[0;34m\u001b[0m\u001b[0m\n\u001b[1;32m   2945\u001b[0m   \u001b[0;34m@\u001b[0m\u001b[0mproperty\u001b[0m\u001b[0;34m\u001b[0m\u001b[0;34m\u001b[0m\u001b[0m\n",
      "\u001b[0;32m/usr/local/lib/python3.6/dist-packages/tensorflow/python/eager/function.py\u001b[0m in \u001b[0;36m_call_flat\u001b[0;34m(self, args, captured_inputs, cancellation_manager)\u001b[0m\n\u001b[1;32m   1917\u001b[0m       \u001b[0;31m# No tape is watching; skip to running the function.\u001b[0m\u001b[0;34m\u001b[0m\u001b[0;34m\u001b[0m\u001b[0;34m\u001b[0m\u001b[0m\n\u001b[1;32m   1918\u001b[0m       return self._build_call_outputs(self._inference_function.call(\n\u001b[0;32m-> 1919\u001b[0;31m           ctx, args, cancellation_manager=cancellation_manager))\n\u001b[0m\u001b[1;32m   1920\u001b[0m     forward_backward = self._select_forward_and_backward_functions(\n\u001b[1;32m   1921\u001b[0m         \u001b[0margs\u001b[0m\u001b[0;34m,\u001b[0m\u001b[0;34m\u001b[0m\u001b[0;34m\u001b[0m\u001b[0m\n",
      "\u001b[0;32m/usr/local/lib/python3.6/dist-packages/tensorflow/python/eager/function.py\u001b[0m in \u001b[0;36mcall\u001b[0;34m(self, ctx, args, cancellation_manager)\u001b[0m\n\u001b[1;32m    558\u001b[0m               \u001b[0minputs\u001b[0m\u001b[0;34m=\u001b[0m\u001b[0margs\u001b[0m\u001b[0;34m,\u001b[0m\u001b[0;34m\u001b[0m\u001b[0;34m\u001b[0m\u001b[0m\n\u001b[1;32m    559\u001b[0m               \u001b[0mattrs\u001b[0m\u001b[0;34m=\u001b[0m\u001b[0mattrs\u001b[0m\u001b[0;34m,\u001b[0m\u001b[0;34m\u001b[0m\u001b[0;34m\u001b[0m\u001b[0m\n\u001b[0;32m--> 560\u001b[0;31m               ctx=ctx)\n\u001b[0m\u001b[1;32m    561\u001b[0m         \u001b[0;32melse\u001b[0m\u001b[0;34m:\u001b[0m\u001b[0;34m\u001b[0m\u001b[0;34m\u001b[0m\u001b[0m\n\u001b[1;32m    562\u001b[0m           outputs = execute.execute_with_cancellation(\n",
      "\u001b[0;32m/usr/local/lib/python3.6/dist-packages/tensorflow/python/eager/execute.py\u001b[0m in \u001b[0;36mquick_execute\u001b[0;34m(op_name, num_outputs, inputs, attrs, ctx, name)\u001b[0m\n\u001b[1;32m     58\u001b[0m     \u001b[0mctx\u001b[0m\u001b[0;34m.\u001b[0m\u001b[0mensure_initialized\u001b[0m\u001b[0;34m(\u001b[0m\u001b[0;34m)\u001b[0m\u001b[0;34m\u001b[0m\u001b[0;34m\u001b[0m\u001b[0m\n\u001b[1;32m     59\u001b[0m     tensors = pywrap_tfe.TFE_Py_Execute(ctx._handle, device_name, op_name,\n\u001b[0;32m---> 60\u001b[0;31m                                         inputs, attrs, num_outputs)\n\u001b[0m\u001b[1;32m     61\u001b[0m   \u001b[0;32mexcept\u001b[0m \u001b[0mcore\u001b[0m\u001b[0;34m.\u001b[0m\u001b[0m_NotOkStatusException\u001b[0m \u001b[0;32mas\u001b[0m \u001b[0me\u001b[0m\u001b[0;34m:\u001b[0m\u001b[0;34m\u001b[0m\u001b[0;34m\u001b[0m\u001b[0m\n\u001b[1;32m     62\u001b[0m     \u001b[0;32mif\u001b[0m \u001b[0mname\u001b[0m \u001b[0;32mis\u001b[0m \u001b[0;32mnot\u001b[0m \u001b[0;32mNone\u001b[0m\u001b[0;34m:\u001b[0m\u001b[0;34m\u001b[0m\u001b[0;34m\u001b[0m\u001b[0m\n",
      "\u001b[0;31mKeyboardInterrupt\u001b[0m: "
     ]
    }
   ],
   "source": [
    "#Создаём полносвязную сеть\n",
    "model = Sequential()\n",
    "model.add(Dense(300, input_dim = 11800, activation='relu'))\n",
    "model.add(Dropout(0.1))\n",
    "model.add(BatchNormalization())\n",
    "model.add(Dense(200, activation='sigmoid'))\n",
    "model.add(Dropout(0.1))\n",
    "model.add(BatchNormalization())\n",
    "model.add(Dense(100, activation='sigmoid'))\n",
    "model.add(Dropout(0.1))\n",
    "model.add(BatchNormalization())\n",
    "model.add(Dense(7, activation='softmax'))\n",
    "\n",
    "model.compile(optimizer='Adam', loss='categorical_crossentropy', metrics=['accuracy'])\n",
    "\n",
    "history = model.fit(xTrain01, np.array(train_labels), epochs=20, batch_size=128, validation_data=(xTest01, np.array(test_labels)))\n",
    "\n",
    "np.max(history.history['val_accuracy'])"
   ]
  },
  {
   "cell_type": "code",
   "execution_count": null,
   "metadata": {
    "colab": {
     "base_uri": "https://localhost:8080/"
    },
    "id": "IbnRihI1_Qlk",
    "outputId": "7e5f57ca-df28-400e-f6f8-ffd7d1d23227"
   },
   "outputs": [
    {
     "name": "stdout",
     "output_type": "stream",
     "text": [
      "Epoch 1/10\n",
      "77/77 [==============================] - 6s 62ms/step - loss: 0.0593 - accuracy: 0.9746 - val_loss: 1.6002 - val_accuracy: 0.6751\n",
      "Epoch 2/10\n",
      "77/77 [==============================] - 5s 63ms/step - loss: 0.0577 - accuracy: 0.9751 - val_loss: 1.5994 - val_accuracy: 0.6751\n",
      "Epoch 3/10\n",
      "77/77 [==============================] - 5s 60ms/step - loss: 0.0584 - accuracy: 0.9749 - val_loss: 1.6037 - val_accuracy: 0.6757\n",
      "Epoch 4/10\n",
      "77/77 [==============================] - 5s 65ms/step - loss: 0.0632 - accuracy: 0.9744 - val_loss: 1.6035 - val_accuracy: 0.6769\n",
      "Epoch 5/10\n",
      "77/77 [==============================] - 5s 60ms/step - loss: 0.0607 - accuracy: 0.9760 - val_loss: 1.6046 - val_accuracy: 0.6757\n",
      "Epoch 6/10\n",
      "77/77 [==============================] - 5s 60ms/step - loss: 0.0654 - accuracy: 0.9738 - val_loss: 1.6081 - val_accuracy: 0.6746\n",
      "Epoch 7/10\n",
      "77/77 [==============================] - 5s 59ms/step - loss: 0.0575 - accuracy: 0.9754 - val_loss: 1.6047 - val_accuracy: 0.6728\n",
      "Epoch 8/10\n",
      "77/77 [==============================] - 5s 60ms/step - loss: 0.0540 - accuracy: 0.9770 - val_loss: 1.6067 - val_accuracy: 0.6746\n",
      "Epoch 9/10\n",
      "77/77 [==============================] - 5s 59ms/step - loss: 0.0596 - accuracy: 0.9755 - val_loss: 1.6062 - val_accuracy: 0.6751\n",
      "Epoch 10/10\n",
      "77/77 [==============================] - 5s 60ms/step - loss: 0.0567 - accuracy: 0.9757 - val_loss: 1.6053 - val_accuracy: 0.6751\n"
     ]
    },
    {
     "data": {
      "text/plain": [
       "0.6768786311149597"
      ]
     },
     "execution_count": 161,
     "metadata": {
      "tags": []
     },
     "output_type": "execute_result"
    }
   ],
   "source": [
    "model.compile(optimizer=Adam(lr=0.00001), loss='categorical_crossentropy', metrics=['accuracy'])\n",
    "history = model.fit(xTrain01, np.array(train_labels), epochs=10, batch_size=128, validation_data=(xTest01, np.array(test_labels)))\n",
    "np.max(history.history['val_accuracy'])"
   ]
  },
  {
   "cell_type": "markdown",
   "metadata": {
    "id": "L1a9EEhTBmVh"
   },
   "source": [
    "Лучший результат для BagOfWords - 0.6792"
   ]
  },
  {
   "cell_type": "markdown",
   "metadata": {
    "id": "MzAKwS21BtIP"
   },
   "source": [
    "Вывод: Полносвязная модель с BagOfWords показала результат лучше чем CNN или RNN. Возможно причина в том, что сообщения очень короткие и смысла в запоминании последовательности слов особо нет. Может быть мне не удалось подобрать наилучшие комбинации параметров для CNN/RNN."
   ]
  },
  {
   "cell_type": "code",
   "execution_count": null,
   "metadata": {
    "id": "YRGjFF9H_Qja"
   },
   "outputs": [],
   "source": []
  }
 ],
 "metadata": {
  "colab": {
   "collapsed_sections": [],
   "name": "Рекуррентные нейронные сети Ultra Pro.ipynb",
   "provenance": []
  },
  "kernelspec": {
   "display_name": "Python 3",
   "language": "python",
   "name": "python3"
  },
  "language_info": {
   "codemirror_mode": {
    "name": "ipython",
    "version": 3
   },
   "file_extension": ".py",
   "mimetype": "text/x-python",
   "name": "python",
   "nbconvert_exporter": "python",
   "pygments_lexer": "ipython3",
   "version": "3.7.3"
  }
 },
 "nbformat": 4,
 "nbformat_minor": 1
}
