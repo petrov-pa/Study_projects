{
  "nbformat": 4,
  "nbformat_minor": 0,
  "metadata": {
    "kernelspec": {
      "display_name": "Python 3",
      "language": "python",
      "name": "python3"
    },
    "language_info": {
      "codemirror_mode": {
        "name": "ipython",
        "version": 3
      },
      "file_extension": ".py",
      "mimetype": "text/x-python",
      "name": "python",
      "nbconvert_exporter": "python",
      "pygments_lexer": "ipython3",
      "version": "3.7.3"
    },
    "colab": {
      "name": "Классификация рецензий на imdb",
      "provenance": [],
      "collapsed_sections": [],
      "include_colab_link": true
    }
  },
  "cells": [
    {
      "cell_type": "markdown",
      "metadata": {
        "id": "view-in-github",
        "colab_type": "text"
      },
      "source": [
        "<a href=\"https://colab.research.google.com/github/petrov-pa/My_projects/blob/main/IMDB%20classification/%D0%9A%D0%BB%D0%B0%D1%81%D1%81%D0%B8%D1%84%D0%B8%D0%BA%D0%B0%D1%86%D0%B8%D1%8F_%D1%80%D0%B5%D1%86%D0%B5%D0%BD%D0%B7%D0%B8%D0%B9_%D0%BD%D0%B0_imdb.ipynb\" target=\"_parent\"><img src=\"https://colab.research.google.com/assets/colab-badge.svg\" alt=\"Open In Colab\"/></a>"
      ]
    },
    {
      "cell_type": "markdown",
      "metadata": {
        "id": "bpTk7-aI7goG"
      },
      "source": [
        "# Рецензии на imdb"
      ]
    },
    {
      "cell_type": "code",
      "metadata": {
        "id": "vsdfaqJC7goH"
      },
      "source": [
        "import numpy as np\n",
        "import pandas as pd\n",
        "import matplotlib.pyplot as plt\n",
        "%matplotlib inline"
      ],
      "execution_count": null,
      "outputs": []
    },
    {
      "cell_type": "code",
      "metadata": {
        "id": "tHS_jx5K7goJ"
      },
      "source": [
        "import warnings\n",
        "warnings.filterwarnings('ignore')"
      ],
      "execution_count": null,
      "outputs": []
    },
    {
      "cell_type": "markdown",
      "metadata": {
        "id": "Cc4VzUQX7goJ"
      },
      "source": [
        "Имеются 25000 рецензий пользователей imdb с бинарными метками, посчитанными по оценкам: 0 при оценке < 5 и 1 при оценке >=7.\n",
        "\n",
        "Полные данные: https://www.kaggle.com/c/word2vec-nlp-tutorial/data\n",
        "\n",
        "Задача предсказать метку класса рецензии по тексту\n"
      ]
    },
    {
      "cell_type": "code",
      "metadata": {
        "id": "62pus9Cj7goK",
        "outputId": "8b0b1f34-6e87-413d-ccc7-7b6c785b1b71"
      },
      "source": [
        "#Загрузим выборку\n",
        "imdb = pd.read_csv('labeledTrainData.tsv', delimiter='\\t')\n",
        "imdb.shape"
      ],
      "execution_count": null,
      "outputs": [
        {
          "output_type": "execute_result",
          "data": {
            "text/plain": [
              "(25000, 3)"
            ]
          },
          "metadata": {
            "tags": []
          },
          "execution_count": 3
        }
      ]
    },
    {
      "cell_type": "code",
      "metadata": {
        "id": "LIA8iFdd7goL",
        "outputId": "3dc7843c-a25b-4125-ed89-3777459f147c"
      },
      "source": [
        "imdb.head()"
      ],
      "execution_count": null,
      "outputs": [
        {
          "output_type": "execute_result",
          "data": {
            "text/html": [
              "<div>\n",
              "<style scoped>\n",
              "    .dataframe tbody tr th:only-of-type {\n",
              "        vertical-align: middle;\n",
              "    }\n",
              "\n",
              "    .dataframe tbody tr th {\n",
              "        vertical-align: top;\n",
              "    }\n",
              "\n",
              "    .dataframe thead th {\n",
              "        text-align: right;\n",
              "    }\n",
              "</style>\n",
              "<table border=\"1\" class=\"dataframe\">\n",
              "  <thead>\n",
              "    <tr style=\"text-align: right;\">\n",
              "      <th></th>\n",
              "      <th>id</th>\n",
              "      <th>sentiment</th>\n",
              "      <th>review</th>\n",
              "    </tr>\n",
              "  </thead>\n",
              "  <tbody>\n",
              "    <tr>\n",
              "      <th>0</th>\n",
              "      <td>5814_8</td>\n",
              "      <td>1</td>\n",
              "      <td>With all this stuff going down at the moment w...</td>\n",
              "    </tr>\n",
              "    <tr>\n",
              "      <th>1</th>\n",
              "      <td>2381_9</td>\n",
              "      <td>1</td>\n",
              "      <td>\\The Classic War of the Worlds\\\" by Timothy Hi...</td>\n",
              "    </tr>\n",
              "    <tr>\n",
              "      <th>2</th>\n",
              "      <td>7759_3</td>\n",
              "      <td>0</td>\n",
              "      <td>The film starts with a manager (Nicholas Bell)...</td>\n",
              "    </tr>\n",
              "    <tr>\n",
              "      <th>3</th>\n",
              "      <td>3630_4</td>\n",
              "      <td>0</td>\n",
              "      <td>It must be assumed that those who praised this...</td>\n",
              "    </tr>\n",
              "    <tr>\n",
              "      <th>4</th>\n",
              "      <td>9495_8</td>\n",
              "      <td>1</td>\n",
              "      <td>Superbly trashy and wondrously unpretentious 8...</td>\n",
              "    </tr>\n",
              "  </tbody>\n",
              "</table>\n",
              "</div>"
            ],
            "text/plain": [
              "       id  sentiment                                             review\n",
              "0  5814_8          1  With all this stuff going down at the moment w...\n",
              "1  2381_9          1  \\The Classic War of the Worlds\\\" by Timothy Hi...\n",
              "2  7759_3          0  The film starts with a manager (Nicholas Bell)...\n",
              "3  3630_4          0  It must be assumed that those who praised this...\n",
              "4  9495_8          1  Superbly trashy and wondrously unpretentious 8..."
            ]
          },
          "metadata": {
            "tags": []
          },
          "execution_count": 4
        }
      ]
    },
    {
      "cell_type": "code",
      "metadata": {
        "id": "vM3lFfBZ7goN",
        "outputId": "03ae6a40-8fa6-47cc-a86a-1114a59c2501"
      },
      "source": [
        "#Убедимся что классы сбалансированы\n",
        "imdb.sentiment.value_counts()"
      ],
      "execution_count": null,
      "outputs": [
        {
          "output_type": "execute_result",
          "data": {
            "text/plain": [
              "1    12500\n",
              "0    12500\n",
              "Name: sentiment, dtype: int64"
            ]
          },
          "metadata": {
            "tags": []
          },
          "execution_count": 5
        }
      ]
    },
    {
      "cell_type": "code",
      "metadata": {
        "id": "R6nLwoz97goO"
      },
      "source": [
        "#Разобъём выборку на обучение и контроль\n",
        "from sklearn.model_selection import train_test_split\n",
        "texts_train, texts_test, y_train, y_test = train_test_split(imdb.review.values, imdb.sentiment.values)"
      ],
      "execution_count": null,
      "outputs": []
    },
    {
      "cell_type": "code",
      "metadata": {
        "id": "PwyANDVS7goO"
      },
      "source": [
        "#Векторизуем тексты рецензий\n",
        "from sklearn.feature_extraction.text import TfidfVectorizer\n",
        "vect = TfidfVectorizer(sublinear_tf=True, use_idf=True)\n",
        "X_train = vect.fit_transform(texts_train)\n",
        "X_test = vect.transform(texts_test)"
      ],
      "execution_count": null,
      "outputs": []
    },
    {
      "cell_type": "markdown",
      "metadata": {
        "id": "RzpVNZD27goP"
      },
      "source": [
        "## Логистическая регрессия"
      ]
    },
    {
      "cell_type": "markdown",
      "metadata": {
        "id": "Iqo-R_ur7goP"
      },
      "source": [
        "Настроим на векторизованных данных логистическую регрессию и посчитаем AUC:"
      ]
    },
    {
      "cell_type": "code",
      "metadata": {
        "colab": {
          "base_uri": "https://localhost:8080/"
        },
        "id": "GtqfZKv-8ySK",
        "outputId": "46fa356a-4d05-4be1-8b50-1f4c657a1f19"
      },
      "source": [
        "from sklearn.linear_model import LogisticRegression\n",
        "from sklearn import metrics\n",
        "clf = LogisticRegression()\n",
        "clf.fit(X_train, y_train)\n",
        "print('Точность: ', metrics.accuracy_score(y_test, clf.predict(X_test)))\n",
        "print('ROC-AUC: ', metrics.roc_auc_score(y_test, clf.predict_proba(X_test)[:, 1]))"
      ],
      "execution_count": null,
      "outputs": [
        {
          "output_type": "stream",
          "text": [
            "Точность:  0.88688\n",
            "ROC-AUC:  0.9576709400068106\n"
          ],
          "name": "stdout"
        }
      ]
    },
    {
      "cell_type": "markdown",
      "metadata": {
        "id": "LbY2eZIs8rtT"
      },
      "source": [
        "Получаем достаточно хорошее качество модели."
      ]
    },
    {
      "cell_type": "code",
      "metadata": {
        "id": "k2-G_LwT7goQ",
        "outputId": "e8766f3c-707e-43c5-d2d3-6193e69f356f"
      },
      "source": [
        "X_train.shape"
      ],
      "execution_count": null,
      "outputs": [
        {
          "output_type": "execute_result",
          "data": {
            "text/plain": [
              "(18750, 66479)"
            ]
          },
          "metadata": {
            "tags": []
          },
          "execution_count": 9
        }
      ]
    },
    {
      "cell_type": "markdown",
      "metadata": {
        "collapsed": true,
        "id": "id9xV31C7goQ"
      },
      "source": [
        "У нас получилось очень много признаков. Проверим возможно ли сократить их количество без сильной потери качества"
      ]
    },
    {
      "cell_type": "markdown",
      "metadata": {
        "id": "hq9A3rwX7goR"
      },
      "source": [
        "Попробуем отбирать признаки с помощью Лассо:"
      ]
    },
    {
      "cell_type": "code",
      "metadata": {
        "colab": {
          "base_uri": "https://localhost:8080/"
        },
        "id": "PObAAvBp__N9",
        "outputId": "091b93db-ff7b-422c-effd-6985634bbb96"
      },
      "source": [
        "clf = LogisticRegression(C=0.15, penalty='l1')\n",
        "clf.fit(X_train, y_train)\n",
        "print('Количество признаков: ',np.sum(np.abs(clf.coef_) > 1e-4))\n",
        "print('Точность: ',metrics.accuracy_score(y_test, clf.predict(X_test)))\n",
        "print('ROC-AUC: ',metrics.roc_auc_score(y_test, clf.predict_proba(X_test)[:, 1]))"
      ],
      "execution_count": null,
      "outputs": [
        {
          "output_type": "stream",
          "text": [
            "Количество признаков:  107\n",
            "Точность:  0.81264\n",
            "ROC-AUC:  0.895861389129995\n"
          ],
          "name": "stdout"
        }
      ]
    },
    {
      "cell_type": "markdown",
      "metadata": {
        "id": "CWv-naLoAlJr"
      },
      "source": [
        "Качество уменьшилось не очень сильно, но модель обучается намного быстрее. В некоторых случаях мы можем пожертвовать качеством ради скорости"
      ]
    },
    {
      "cell_type": "markdown",
      "metadata": {
        "id": "ZZD9I-eS7goS"
      },
      "source": [
        "Ещё один способ отбора признаков — рандомизированная логистическая регрессия:"
      ]
    },
    {
      "cell_type": "code",
      "metadata": {
        "id": "ZJlkFTy-7goS",
        "outputId": "6851f5c3-609f-475d-e2c5-80c7280d7861"
      },
      "source": [
        "from sklearn.linear_model import RandomizedLogisticRegression\n",
        "rlg = RandomizedLogisticRegression(C=0.13)\n",
        "rlg.fit(X_train, y_train)"
      ],
      "execution_count": null,
      "outputs": [
        {
          "output_type": "stream",
          "text": [
            "/home/user/anaconda3/envs/ml/lib/python3.6/site-packages/sklearn/utils/deprecation.py:58: DeprecationWarning: Class RandomizedLogisticRegression is deprecated; The class RandomizedLogisticRegression is deprecated in 0.19 and will be removed in 0.21.\n",
            "  warnings.warn(msg, category=DeprecationWarning)\n",
            "/home/user/anaconda3/envs/ml/lib/python3.6/site-packages/sklearn/utils/deprecation.py:58: DeprecationWarning: Class Memory is deprecated; deprecated in version 0.20.1 to be removed in version 0.23. Please import this functionality directly from joblib, which can be installed with: pip install joblib.\n",
            "  warnings.warn(msg, category=DeprecationWarning)\n",
            "/home/user/anaconda3/envs/ml/lib/python3.6/site-packages/sklearn/utils/deprecation.py:58: DeprecationWarning: Class Parallel is deprecated; deprecated in version 0.20.1 to be removed in version 0.23. Please import this functionality directly from joblib, which can be installed with: pip install joblib.\n",
            "  warnings.warn(msg, category=DeprecationWarning)\n",
            "/home/user/anaconda3/envs/ml/lib/python3.6/site-packages/sklearn/utils/deprecation.py:77: DeprecationWarning: Function delayed is deprecated; deprecated in version 0.20.1 to be removed in version 0.23. Please import this functionality directly from joblib, which can be installed with: pip install joblib.\n",
            "  warnings.warn(msg, category=DeprecationWarning)\n",
            "/home/user/anaconda3/envs/ml/lib/python3.6/site-packages/sklearn/utils/deprecation.py:77: DeprecationWarning: Function delayed is deprecated; deprecated in version 0.20.1 to be removed in version 0.23. Please import this functionality directly from joblib, which can be installed with: pip install joblib.\n",
            "  warnings.warn(msg, category=DeprecationWarning)\n",
            "/home/user/anaconda3/envs/ml/lib/python3.6/site-packages/sklearn/utils/deprecation.py:77: DeprecationWarning: Function delayed is deprecated; deprecated in version 0.20.1 to be removed in version 0.23. Please import this functionality directly from joblib, which can be installed with: pip install joblib.\n",
            "  warnings.warn(msg, category=DeprecationWarning)\n",
            "/home/user/anaconda3/envs/ml/lib/python3.6/site-packages/sklearn/utils/deprecation.py:77: DeprecationWarning: Function delayed is deprecated; deprecated in version 0.20.1 to be removed in version 0.23. Please import this functionality directly from joblib, which can be installed with: pip install joblib.\n",
            "  warnings.warn(msg, category=DeprecationWarning)\n",
            "/home/user/anaconda3/envs/ml/lib/python3.6/site-packages/sklearn/utils/deprecation.py:77: DeprecationWarning: Function delayed is deprecated; deprecated in version 0.20.1 to be removed in version 0.23. Please import this functionality directly from joblib, which can be installed with: pip install joblib.\n",
            "  warnings.warn(msg, category=DeprecationWarning)\n",
            "/home/user/anaconda3/envs/ml/lib/python3.6/site-packages/sklearn/utils/deprecation.py:77: DeprecationWarning: Function delayed is deprecated; deprecated in version 0.20.1 to be removed in version 0.23. Please import this functionality directly from joblib, which can be installed with: pip install joblib.\n",
            "  warnings.warn(msg, category=DeprecationWarning)\n",
            "/home/user/anaconda3/envs/ml/lib/python3.6/site-packages/sklearn/utils/deprecation.py:77: DeprecationWarning: Function delayed is deprecated; deprecated in version 0.20.1 to be removed in version 0.23. Please import this functionality directly from joblib, which can be installed with: pip install joblib.\n",
            "  warnings.warn(msg, category=DeprecationWarning)\n",
            "/home/user/anaconda3/envs/ml/lib/python3.6/site-packages/sklearn/utils/deprecation.py:77: DeprecationWarning: Function delayed is deprecated; deprecated in version 0.20.1 to be removed in version 0.23. Please import this functionality directly from joblib, which can be installed with: pip install joblib.\n",
            "  warnings.warn(msg, category=DeprecationWarning)\n",
            "/home/user/anaconda3/envs/ml/lib/python3.6/site-packages/sklearn/utils/deprecation.py:77: DeprecationWarning: Function delayed is deprecated; deprecated in version 0.20.1 to be removed in version 0.23. Please import this functionality directly from joblib, which can be installed with: pip install joblib.\n",
            "  warnings.warn(msg, category=DeprecationWarning)\n",
            "/home/user/anaconda3/envs/ml/lib/python3.6/site-packages/sklearn/utils/deprecation.py:77: DeprecationWarning: Function delayed is deprecated; deprecated in version 0.20.1 to be removed in version 0.23. Please import this functionality directly from joblib, which can be installed with: pip install joblib.\n",
            "  warnings.warn(msg, category=DeprecationWarning)\n",
            "/home/user/anaconda3/envs/ml/lib/python3.6/site-packages/sklearn/utils/deprecation.py:77: DeprecationWarning: Function delayed is deprecated; deprecated in version 0.20.1 to be removed in version 0.23. Please import this functionality directly from joblib, which can be installed with: pip install joblib.\n",
            "  warnings.warn(msg, category=DeprecationWarning)\n",
            "/home/user/anaconda3/envs/ml/lib/python3.6/site-packages/sklearn/utils/deprecation.py:77: DeprecationWarning: Function delayed is deprecated; deprecated in version 0.20.1 to be removed in version 0.23. Please import this functionality directly from joblib, which can be installed with: pip install joblib.\n",
            "  warnings.warn(msg, category=DeprecationWarning)\n",
            "/home/user/anaconda3/envs/ml/lib/python3.6/site-packages/sklearn/utils/deprecation.py:77: DeprecationWarning: Function delayed is deprecated; deprecated in version 0.20.1 to be removed in version 0.23. Please import this functionality directly from joblib, which can be installed with: pip install joblib.\n",
            "  warnings.warn(msg, category=DeprecationWarning)\n",
            "/home/user/anaconda3/envs/ml/lib/python3.6/site-packages/sklearn/utils/deprecation.py:77: DeprecationWarning: Function delayed is deprecated; deprecated in version 0.20.1 to be removed in version 0.23. Please import this functionality directly from joblib, which can be installed with: pip install joblib.\n",
            "  warnings.warn(msg, category=DeprecationWarning)\n",
            "/home/user/anaconda3/envs/ml/lib/python3.6/site-packages/sklearn/utils/deprecation.py:77: DeprecationWarning: Function delayed is deprecated; deprecated in version 0.20.1 to be removed in version 0.23. Please import this functionality directly from joblib, which can be installed with: pip install joblib.\n",
            "  warnings.warn(msg, category=DeprecationWarning)\n",
            "/home/user/anaconda3/envs/ml/lib/python3.6/site-packages/sklearn/utils/deprecation.py:77: DeprecationWarning: Function delayed is deprecated; deprecated in version 0.20.1 to be removed in version 0.23. Please import this functionality directly from joblib, which can be installed with: pip install joblib.\n",
            "  warnings.warn(msg, category=DeprecationWarning)\n",
            "/home/user/anaconda3/envs/ml/lib/python3.6/site-packages/sklearn/utils/deprecation.py:77: DeprecationWarning: Function delayed is deprecated; deprecated in version 0.20.1 to be removed in version 0.23. Please import this functionality directly from joblib, which can be installed with: pip install joblib.\n",
            "  warnings.warn(msg, category=DeprecationWarning)\n",
            "/home/user/anaconda3/envs/ml/lib/python3.6/site-packages/sklearn/utils/deprecation.py:77: DeprecationWarning: Function delayed is deprecated; deprecated in version 0.20.1 to be removed in version 0.23. Please import this functionality directly from joblib, which can be installed with: pip install joblib.\n",
            "  warnings.warn(msg, category=DeprecationWarning)\n",
            "/home/user/anaconda3/envs/ml/lib/python3.6/site-packages/sklearn/utils/deprecation.py:77: DeprecationWarning: Function delayed is deprecated; deprecated in version 0.20.1 to be removed in version 0.23. Please import this functionality directly from joblib, which can be installed with: pip install joblib.\n",
            "  warnings.warn(msg, category=DeprecationWarning)\n",
            "/home/user/anaconda3/envs/ml/lib/python3.6/site-packages/sklearn/utils/deprecation.py:77: DeprecationWarning: Function delayed is deprecated; deprecated in version 0.20.1 to be removed in version 0.23. Please import this functionality directly from joblib, which can be installed with: pip install joblib.\n",
            "  warnings.warn(msg, category=DeprecationWarning)\n",
            "/home/user/anaconda3/envs/ml/lib/python3.6/site-packages/sklearn/utils/deprecation.py:77: DeprecationWarning: Function delayed is deprecated; deprecated in version 0.20.1 to be removed in version 0.23. Please import this functionality directly from joblib, which can be installed with: pip install joblib.\n",
            "  warnings.warn(msg, category=DeprecationWarning)\n"
          ],
          "name": "stderr"
        },
        {
          "output_type": "stream",
          "text": [
            "/home/user/anaconda3/envs/ml/lib/python3.6/site-packages/sklearn/utils/deprecation.py:77: DeprecationWarning: Function delayed is deprecated; deprecated in version 0.20.1 to be removed in version 0.23. Please import this functionality directly from joblib, which can be installed with: pip install joblib.\n",
            "  warnings.warn(msg, category=DeprecationWarning)\n",
            "/home/user/anaconda3/envs/ml/lib/python3.6/site-packages/sklearn/utils/deprecation.py:77: DeprecationWarning: Function delayed is deprecated; deprecated in version 0.20.1 to be removed in version 0.23. Please import this functionality directly from joblib, which can be installed with: pip install joblib.\n",
            "  warnings.warn(msg, category=DeprecationWarning)\n",
            "/home/user/anaconda3/envs/ml/lib/python3.6/site-packages/sklearn/utils/deprecation.py:77: DeprecationWarning: Function delayed is deprecated; deprecated in version 0.20.1 to be removed in version 0.23. Please import this functionality directly from joblib, which can be installed with: pip install joblib.\n",
            "  warnings.warn(msg, category=DeprecationWarning)\n",
            "/home/user/anaconda3/envs/ml/lib/python3.6/site-packages/sklearn/utils/deprecation.py:77: DeprecationWarning: Function delayed is deprecated; deprecated in version 0.20.1 to be removed in version 0.23. Please import this functionality directly from joblib, which can be installed with: pip install joblib.\n",
            "  warnings.warn(msg, category=DeprecationWarning)\n",
            "/home/user/anaconda3/envs/ml/lib/python3.6/site-packages/sklearn/utils/deprecation.py:77: DeprecationWarning: Function delayed is deprecated; deprecated in version 0.20.1 to be removed in version 0.23. Please import this functionality directly from joblib, which can be installed with: pip install joblib.\n",
            "  warnings.warn(msg, category=DeprecationWarning)\n",
            "/home/user/anaconda3/envs/ml/lib/python3.6/site-packages/sklearn/utils/deprecation.py:77: DeprecationWarning: Function delayed is deprecated; deprecated in version 0.20.1 to be removed in version 0.23. Please import this functionality directly from joblib, which can be installed with: pip install joblib.\n",
            "  warnings.warn(msg, category=DeprecationWarning)\n",
            "/home/user/anaconda3/envs/ml/lib/python3.6/site-packages/sklearn/utils/deprecation.py:77: DeprecationWarning: Function delayed is deprecated; deprecated in version 0.20.1 to be removed in version 0.23. Please import this functionality directly from joblib, which can be installed with: pip install joblib.\n",
            "  warnings.warn(msg, category=DeprecationWarning)\n",
            "/home/user/anaconda3/envs/ml/lib/python3.6/site-packages/sklearn/utils/deprecation.py:77: DeprecationWarning: Function delayed is deprecated; deprecated in version 0.20.1 to be removed in version 0.23. Please import this functionality directly from joblib, which can be installed with: pip install joblib.\n",
            "  warnings.warn(msg, category=DeprecationWarning)\n",
            "/home/user/anaconda3/envs/ml/lib/python3.6/site-packages/sklearn/utils/deprecation.py:77: DeprecationWarning: Function delayed is deprecated; deprecated in version 0.20.1 to be removed in version 0.23. Please import this functionality directly from joblib, which can be installed with: pip install joblib.\n",
            "  warnings.warn(msg, category=DeprecationWarning)\n",
            "/home/user/anaconda3/envs/ml/lib/python3.6/site-packages/sklearn/utils/deprecation.py:77: DeprecationWarning: Function delayed is deprecated; deprecated in version 0.20.1 to be removed in version 0.23. Please import this functionality directly from joblib, which can be installed with: pip install joblib.\n",
            "  warnings.warn(msg, category=DeprecationWarning)\n",
            "/home/user/anaconda3/envs/ml/lib/python3.6/site-packages/sklearn/utils/deprecation.py:77: DeprecationWarning: Function delayed is deprecated; deprecated in version 0.20.1 to be removed in version 0.23. Please import this functionality directly from joblib, which can be installed with: pip install joblib.\n",
            "  warnings.warn(msg, category=DeprecationWarning)\n",
            "/home/user/anaconda3/envs/ml/lib/python3.6/site-packages/sklearn/utils/deprecation.py:77: DeprecationWarning: Function delayed is deprecated; deprecated in version 0.20.1 to be removed in version 0.23. Please import this functionality directly from joblib, which can be installed with: pip install joblib.\n",
            "  warnings.warn(msg, category=DeprecationWarning)\n",
            "/home/user/anaconda3/envs/ml/lib/python3.6/site-packages/sklearn/utils/deprecation.py:77: DeprecationWarning: Function delayed is deprecated; deprecated in version 0.20.1 to be removed in version 0.23. Please import this functionality directly from joblib, which can be installed with: pip install joblib.\n",
            "  warnings.warn(msg, category=DeprecationWarning)\n",
            "/home/user/anaconda3/envs/ml/lib/python3.6/site-packages/sklearn/utils/deprecation.py:77: DeprecationWarning: Function delayed is deprecated; deprecated in version 0.20.1 to be removed in version 0.23. Please import this functionality directly from joblib, which can be installed with: pip install joblib.\n",
            "  warnings.warn(msg, category=DeprecationWarning)\n",
            "/home/user/anaconda3/envs/ml/lib/python3.6/site-packages/sklearn/utils/deprecation.py:77: DeprecationWarning: Function delayed is deprecated; deprecated in version 0.20.1 to be removed in version 0.23. Please import this functionality directly from joblib, which can be installed with: pip install joblib.\n",
            "  warnings.warn(msg, category=DeprecationWarning)\n",
            "/home/user/anaconda3/envs/ml/lib/python3.6/site-packages/sklearn/utils/deprecation.py:77: DeprecationWarning: Function delayed is deprecated; deprecated in version 0.20.1 to be removed in version 0.23. Please import this functionality directly from joblib, which can be installed with: pip install joblib.\n",
            "  warnings.warn(msg, category=DeprecationWarning)\n",
            "/home/user/anaconda3/envs/ml/lib/python3.6/site-packages/sklearn/utils/deprecation.py:77: DeprecationWarning: Function delayed is deprecated; deprecated in version 0.20.1 to be removed in version 0.23. Please import this functionality directly from joblib, which can be installed with: pip install joblib.\n",
            "  warnings.warn(msg, category=DeprecationWarning)\n",
            "/home/user/anaconda3/envs/ml/lib/python3.6/site-packages/sklearn/utils/deprecation.py:77: DeprecationWarning: Function delayed is deprecated; deprecated in version 0.20.1 to be removed in version 0.23. Please import this functionality directly from joblib, which can be installed with: pip install joblib.\n",
            "  warnings.warn(msg, category=DeprecationWarning)\n",
            "/home/user/anaconda3/envs/ml/lib/python3.6/site-packages/sklearn/utils/deprecation.py:77: DeprecationWarning: Function delayed is deprecated; deprecated in version 0.20.1 to be removed in version 0.23. Please import this functionality directly from joblib, which can be installed with: pip install joblib.\n",
            "  warnings.warn(msg, category=DeprecationWarning)\n",
            "/home/user/anaconda3/envs/ml/lib/python3.6/site-packages/sklearn/utils/deprecation.py:77: DeprecationWarning: Function delayed is deprecated; deprecated in version 0.20.1 to be removed in version 0.23. Please import this functionality directly from joblib, which can be installed with: pip install joblib.\n",
            "  warnings.warn(msg, category=DeprecationWarning)\n",
            "/home/user/anaconda3/envs/ml/lib/python3.6/site-packages/sklearn/utils/deprecation.py:77: DeprecationWarning: Function delayed is deprecated; deprecated in version 0.20.1 to be removed in version 0.23. Please import this functionality directly from joblib, which can be installed with: pip install joblib.\n",
            "  warnings.warn(msg, category=DeprecationWarning)\n",
            "/home/user/anaconda3/envs/ml/lib/python3.6/site-packages/sklearn/utils/deprecation.py:77: DeprecationWarning: Function delayed is deprecated; deprecated in version 0.20.1 to be removed in version 0.23. Please import this functionality directly from joblib, which can be installed with: pip install joblib.\n",
            "  warnings.warn(msg, category=DeprecationWarning)\n",
            "/home/user/anaconda3/envs/ml/lib/python3.6/site-packages/sklearn/utils/deprecation.py:77: DeprecationWarning: Function delayed is deprecated; deprecated in version 0.20.1 to be removed in version 0.23. Please import this functionality directly from joblib, which can be installed with: pip install joblib.\n",
            "  warnings.warn(msg, category=DeprecationWarning)\n",
            "/home/user/anaconda3/envs/ml/lib/python3.6/site-packages/sklearn/utils/deprecation.py:77: DeprecationWarning: Function delayed is deprecated; deprecated in version 0.20.1 to be removed in version 0.23. Please import this functionality directly from joblib, which can be installed with: pip install joblib.\n",
            "  warnings.warn(msg, category=DeprecationWarning)\n"
          ],
          "name": "stderr"
        },
        {
          "output_type": "stream",
          "text": [
            "/home/user/anaconda3/envs/ml/lib/python3.6/site-packages/sklearn/utils/deprecation.py:77: DeprecationWarning: Function delayed is deprecated; deprecated in version 0.20.1 to be removed in version 0.23. Please import this functionality directly from joblib, which can be installed with: pip install joblib.\n",
            "  warnings.warn(msg, category=DeprecationWarning)\n",
            "/home/user/anaconda3/envs/ml/lib/python3.6/site-packages/sklearn/utils/deprecation.py:77: DeprecationWarning: Function delayed is deprecated; deprecated in version 0.20.1 to be removed in version 0.23. Please import this functionality directly from joblib, which can be installed with: pip install joblib.\n",
            "  warnings.warn(msg, category=DeprecationWarning)\n",
            "/home/user/anaconda3/envs/ml/lib/python3.6/site-packages/sklearn/utils/deprecation.py:77: DeprecationWarning: Function delayed is deprecated; deprecated in version 0.20.1 to be removed in version 0.23. Please import this functionality directly from joblib, which can be installed with: pip install joblib.\n",
            "  warnings.warn(msg, category=DeprecationWarning)\n",
            "/home/user/anaconda3/envs/ml/lib/python3.6/site-packages/sklearn/utils/deprecation.py:77: DeprecationWarning: Function delayed is deprecated; deprecated in version 0.20.1 to be removed in version 0.23. Please import this functionality directly from joblib, which can be installed with: pip install joblib.\n",
            "  warnings.warn(msg, category=DeprecationWarning)\n",
            "/home/user/anaconda3/envs/ml/lib/python3.6/site-packages/sklearn/utils/deprecation.py:77: DeprecationWarning: Function delayed is deprecated; deprecated in version 0.20.1 to be removed in version 0.23. Please import this functionality directly from joblib, which can be installed with: pip install joblib.\n",
            "  warnings.warn(msg, category=DeprecationWarning)\n",
            "/home/user/anaconda3/envs/ml/lib/python3.6/site-packages/sklearn/utils/deprecation.py:77: DeprecationWarning: Function delayed is deprecated; deprecated in version 0.20.1 to be removed in version 0.23. Please import this functionality directly from joblib, which can be installed with: pip install joblib.\n",
            "  warnings.warn(msg, category=DeprecationWarning)\n",
            "/home/user/anaconda3/envs/ml/lib/python3.6/site-packages/sklearn/utils/deprecation.py:77: DeprecationWarning: Function delayed is deprecated; deprecated in version 0.20.1 to be removed in version 0.23. Please import this functionality directly from joblib, which can be installed with: pip install joblib.\n",
            "  warnings.warn(msg, category=DeprecationWarning)\n",
            "/home/user/anaconda3/envs/ml/lib/python3.6/site-packages/sklearn/utils/deprecation.py:77: DeprecationWarning: Function delayed is deprecated; deprecated in version 0.20.1 to be removed in version 0.23. Please import this functionality directly from joblib, which can be installed with: pip install joblib.\n",
            "  warnings.warn(msg, category=DeprecationWarning)\n",
            "/home/user/anaconda3/envs/ml/lib/python3.6/site-packages/sklearn/utils/deprecation.py:77: DeprecationWarning: Function delayed is deprecated; deprecated in version 0.20.1 to be removed in version 0.23. Please import this functionality directly from joblib, which can be installed with: pip install joblib.\n",
            "  warnings.warn(msg, category=DeprecationWarning)\n",
            "/home/user/anaconda3/envs/ml/lib/python3.6/site-packages/sklearn/utils/deprecation.py:77: DeprecationWarning: Function delayed is deprecated; deprecated in version 0.20.1 to be removed in version 0.23. Please import this functionality directly from joblib, which can be installed with: pip install joblib.\n",
            "  warnings.warn(msg, category=DeprecationWarning)\n",
            "/home/user/anaconda3/envs/ml/lib/python3.6/site-packages/sklearn/utils/deprecation.py:77: DeprecationWarning: Function delayed is deprecated; deprecated in version 0.20.1 to be removed in version 0.23. Please import this functionality directly from joblib, which can be installed with: pip install joblib.\n",
            "  warnings.warn(msg, category=DeprecationWarning)\n",
            "/home/user/anaconda3/envs/ml/lib/python3.6/site-packages/sklearn/utils/deprecation.py:77: DeprecationWarning: Function delayed is deprecated; deprecated in version 0.20.1 to be removed in version 0.23. Please import this functionality directly from joblib, which can be installed with: pip install joblib.\n",
            "  warnings.warn(msg, category=DeprecationWarning)\n",
            "/home/user/anaconda3/envs/ml/lib/python3.6/site-packages/sklearn/utils/deprecation.py:77: DeprecationWarning: Function delayed is deprecated; deprecated in version 0.20.1 to be removed in version 0.23. Please import this functionality directly from joblib, which can be installed with: pip install joblib.\n",
            "  warnings.warn(msg, category=DeprecationWarning)\n",
            "/home/user/anaconda3/envs/ml/lib/python3.6/site-packages/sklearn/utils/deprecation.py:77: DeprecationWarning: Function delayed is deprecated; deprecated in version 0.20.1 to be removed in version 0.23. Please import this functionality directly from joblib, which can be installed with: pip install joblib.\n",
            "  warnings.warn(msg, category=DeprecationWarning)\n",
            "/home/user/anaconda3/envs/ml/lib/python3.6/site-packages/sklearn/utils/deprecation.py:77: DeprecationWarning: Function delayed is deprecated; deprecated in version 0.20.1 to be removed in version 0.23. Please import this functionality directly from joblib, which can be installed with: pip install joblib.\n",
            "  warnings.warn(msg, category=DeprecationWarning)\n",
            "/home/user/anaconda3/envs/ml/lib/python3.6/site-packages/sklearn/utils/deprecation.py:77: DeprecationWarning: Function delayed is deprecated; deprecated in version 0.20.1 to be removed in version 0.23. Please import this functionality directly from joblib, which can be installed with: pip install joblib.\n",
            "  warnings.warn(msg, category=DeprecationWarning)\n",
            "/home/user/anaconda3/envs/ml/lib/python3.6/site-packages/sklearn/utils/deprecation.py:77: DeprecationWarning: Function delayed is deprecated; deprecated in version 0.20.1 to be removed in version 0.23. Please import this functionality directly from joblib, which can be installed with: pip install joblib.\n",
            "  warnings.warn(msg, category=DeprecationWarning)\n",
            "/home/user/anaconda3/envs/ml/lib/python3.6/site-packages/sklearn/utils/deprecation.py:77: DeprecationWarning: Function delayed is deprecated; deprecated in version 0.20.1 to be removed in version 0.23. Please import this functionality directly from joblib, which can be installed with: pip install joblib.\n",
            "  warnings.warn(msg, category=DeprecationWarning)\n",
            "/home/user/anaconda3/envs/ml/lib/python3.6/site-packages/sklearn/utils/deprecation.py:77: DeprecationWarning: Function delayed is deprecated; deprecated in version 0.20.1 to be removed in version 0.23. Please import this functionality directly from joblib, which can be installed with: pip install joblib.\n",
            "  warnings.warn(msg, category=DeprecationWarning)\n",
            "/home/user/anaconda3/envs/ml/lib/python3.6/site-packages/sklearn/utils/deprecation.py:77: DeprecationWarning: Function delayed is deprecated; deprecated in version 0.20.1 to be removed in version 0.23. Please import this functionality directly from joblib, which can be installed with: pip install joblib.\n",
            "  warnings.warn(msg, category=DeprecationWarning)\n",
            "/home/user/anaconda3/envs/ml/lib/python3.6/site-packages/sklearn/utils/deprecation.py:77: DeprecationWarning: Function delayed is deprecated; deprecated in version 0.20.1 to be removed in version 0.23. Please import this functionality directly from joblib, which can be installed with: pip install joblib.\n",
            "  warnings.warn(msg, category=DeprecationWarning)\n",
            "/home/user/anaconda3/envs/ml/lib/python3.6/site-packages/sklearn/utils/deprecation.py:77: DeprecationWarning: Function delayed is deprecated; deprecated in version 0.20.1 to be removed in version 0.23. Please import this functionality directly from joblib, which can be installed with: pip install joblib.\n",
            "  warnings.warn(msg, category=DeprecationWarning)\n",
            "/home/user/anaconda3/envs/ml/lib/python3.6/site-packages/sklearn/utils/deprecation.py:77: DeprecationWarning: Function delayed is deprecated; deprecated in version 0.20.1 to be removed in version 0.23. Please import this functionality directly from joblib, which can be installed with: pip install joblib.\n",
            "  warnings.warn(msg, category=DeprecationWarning)\n",
            "/home/user/anaconda3/envs/ml/lib/python3.6/site-packages/sklearn/utils/deprecation.py:77: DeprecationWarning: Function delayed is deprecated; deprecated in version 0.20.1 to be removed in version 0.23. Please import this functionality directly from joblib, which can be installed with: pip install joblib.\n",
            "  warnings.warn(msg, category=DeprecationWarning)\n"
          ],
          "name": "stderr"
        },
        {
          "output_type": "stream",
          "text": [
            "/home/user/anaconda3/envs/ml/lib/python3.6/site-packages/sklearn/utils/deprecation.py:77: DeprecationWarning: Function delayed is deprecated; deprecated in version 0.20.1 to be removed in version 0.23. Please import this functionality directly from joblib, which can be installed with: pip install joblib.\n",
            "  warnings.warn(msg, category=DeprecationWarning)\n",
            "/home/user/anaconda3/envs/ml/lib/python3.6/site-packages/sklearn/utils/deprecation.py:77: DeprecationWarning: Function delayed is deprecated; deprecated in version 0.20.1 to be removed in version 0.23. Please import this functionality directly from joblib, which can be installed with: pip install joblib.\n",
            "  warnings.warn(msg, category=DeprecationWarning)\n",
            "/home/user/anaconda3/envs/ml/lib/python3.6/site-packages/sklearn/utils/deprecation.py:77: DeprecationWarning: Function delayed is deprecated; deprecated in version 0.20.1 to be removed in version 0.23. Please import this functionality directly from joblib, which can be installed with: pip install joblib.\n",
            "  warnings.warn(msg, category=DeprecationWarning)\n",
            "/home/user/anaconda3/envs/ml/lib/python3.6/site-packages/sklearn/utils/deprecation.py:77: DeprecationWarning: Function delayed is deprecated; deprecated in version 0.20.1 to be removed in version 0.23. Please import this functionality directly from joblib, which can be installed with: pip install joblib.\n",
            "  warnings.warn(msg, category=DeprecationWarning)\n",
            "/home/user/anaconda3/envs/ml/lib/python3.6/site-packages/sklearn/utils/deprecation.py:77: DeprecationWarning: Function delayed is deprecated; deprecated in version 0.20.1 to be removed in version 0.23. Please import this functionality directly from joblib, which can be installed with: pip install joblib.\n",
            "  warnings.warn(msg, category=DeprecationWarning)\n",
            "/home/user/anaconda3/envs/ml/lib/python3.6/site-packages/sklearn/utils/deprecation.py:77: DeprecationWarning: Function delayed is deprecated; deprecated in version 0.20.1 to be removed in version 0.23. Please import this functionality directly from joblib, which can be installed with: pip install joblib.\n",
            "  warnings.warn(msg, category=DeprecationWarning)\n",
            "/home/user/anaconda3/envs/ml/lib/python3.6/site-packages/sklearn/utils/deprecation.py:77: DeprecationWarning: Function delayed is deprecated; deprecated in version 0.20.1 to be removed in version 0.23. Please import this functionality directly from joblib, which can be installed with: pip install joblib.\n",
            "  warnings.warn(msg, category=DeprecationWarning)\n",
            "/home/user/anaconda3/envs/ml/lib/python3.6/site-packages/sklearn/utils/deprecation.py:77: DeprecationWarning: Function delayed is deprecated; deprecated in version 0.20.1 to be removed in version 0.23. Please import this functionality directly from joblib, which can be installed with: pip install joblib.\n",
            "  warnings.warn(msg, category=DeprecationWarning)\n",
            "/home/user/anaconda3/envs/ml/lib/python3.6/site-packages/sklearn/utils/deprecation.py:77: DeprecationWarning: Function delayed is deprecated; deprecated in version 0.20.1 to be removed in version 0.23. Please import this functionality directly from joblib, which can be installed with: pip install joblib.\n",
            "  warnings.warn(msg, category=DeprecationWarning)\n",
            "/home/user/anaconda3/envs/ml/lib/python3.6/site-packages/sklearn/utils/deprecation.py:77: DeprecationWarning: Function delayed is deprecated; deprecated in version 0.20.1 to be removed in version 0.23. Please import this functionality directly from joblib, which can be installed with: pip install joblib.\n",
            "  warnings.warn(msg, category=DeprecationWarning)\n",
            "/home/user/anaconda3/envs/ml/lib/python3.6/site-packages/sklearn/utils/deprecation.py:77: DeprecationWarning: Function delayed is deprecated; deprecated in version 0.20.1 to be removed in version 0.23. Please import this functionality directly from joblib, which can be installed with: pip install joblib.\n",
            "  warnings.warn(msg, category=DeprecationWarning)\n",
            "/home/user/anaconda3/envs/ml/lib/python3.6/site-packages/sklearn/utils/deprecation.py:77: DeprecationWarning: Function delayed is deprecated; deprecated in version 0.20.1 to be removed in version 0.23. Please import this functionality directly from joblib, which can be installed with: pip install joblib.\n",
            "  warnings.warn(msg, category=DeprecationWarning)\n",
            "/home/user/anaconda3/envs/ml/lib/python3.6/site-packages/sklearn/utils/deprecation.py:77: DeprecationWarning: Function delayed is deprecated; deprecated in version 0.20.1 to be removed in version 0.23. Please import this functionality directly from joblib, which can be installed with: pip install joblib.\n",
            "  warnings.warn(msg, category=DeprecationWarning)\n",
            "/home/user/anaconda3/envs/ml/lib/python3.6/site-packages/sklearn/utils/deprecation.py:77: DeprecationWarning: Function delayed is deprecated; deprecated in version 0.20.1 to be removed in version 0.23. Please import this functionality directly from joblib, which can be installed with: pip install joblib.\n",
            "  warnings.warn(msg, category=DeprecationWarning)\n",
            "/home/user/anaconda3/envs/ml/lib/python3.6/site-packages/sklearn/utils/deprecation.py:77: DeprecationWarning: Function delayed is deprecated; deprecated in version 0.20.1 to be removed in version 0.23. Please import this functionality directly from joblib, which can be installed with: pip install joblib.\n",
            "  warnings.warn(msg, category=DeprecationWarning)\n",
            "/home/user/anaconda3/envs/ml/lib/python3.6/site-packages/sklearn/utils/deprecation.py:77: DeprecationWarning: Function delayed is deprecated; deprecated in version 0.20.1 to be removed in version 0.23. Please import this functionality directly from joblib, which can be installed with: pip install joblib.\n",
            "  warnings.warn(msg, category=DeprecationWarning)\n",
            "/home/user/anaconda3/envs/ml/lib/python3.6/site-packages/sklearn/utils/deprecation.py:77: DeprecationWarning: Function delayed is deprecated; deprecated in version 0.20.1 to be removed in version 0.23. Please import this functionality directly from joblib, which can be installed with: pip install joblib.\n",
            "  warnings.warn(msg, category=DeprecationWarning)\n",
            "/home/user/anaconda3/envs/ml/lib/python3.6/site-packages/sklearn/utils/deprecation.py:77: DeprecationWarning: Function delayed is deprecated; deprecated in version 0.20.1 to be removed in version 0.23. Please import this functionality directly from joblib, which can be installed with: pip install joblib.\n",
            "  warnings.warn(msg, category=DeprecationWarning)\n",
            "/home/user/anaconda3/envs/ml/lib/python3.6/site-packages/sklearn/utils/deprecation.py:77: DeprecationWarning: Function delayed is deprecated; deprecated in version 0.20.1 to be removed in version 0.23. Please import this functionality directly from joblib, which can be installed with: pip install joblib.\n",
            "  warnings.warn(msg, category=DeprecationWarning)\n",
            "/home/user/anaconda3/envs/ml/lib/python3.6/site-packages/sklearn/utils/deprecation.py:77: DeprecationWarning: Function delayed is deprecated; deprecated in version 0.20.1 to be removed in version 0.23. Please import this functionality directly from joblib, which can be installed with: pip install joblib.\n",
            "  warnings.warn(msg, category=DeprecationWarning)\n",
            "/home/user/anaconda3/envs/ml/lib/python3.6/site-packages/sklearn/utils/deprecation.py:77: DeprecationWarning: Function delayed is deprecated; deprecated in version 0.20.1 to be removed in version 0.23. Please import this functionality directly from joblib, which can be installed with: pip install joblib.\n",
            "  warnings.warn(msg, category=DeprecationWarning)\n",
            "/home/user/anaconda3/envs/ml/lib/python3.6/site-packages/sklearn/utils/deprecation.py:77: DeprecationWarning: Function delayed is deprecated; deprecated in version 0.20.1 to be removed in version 0.23. Please import this functionality directly from joblib, which can be installed with: pip install joblib.\n",
            "  warnings.warn(msg, category=DeprecationWarning)\n",
            "/home/user/anaconda3/envs/ml/lib/python3.6/site-packages/sklearn/utils/deprecation.py:77: DeprecationWarning: Function delayed is deprecated; deprecated in version 0.20.1 to be removed in version 0.23. Please import this functionality directly from joblib, which can be installed with: pip install joblib.\n",
            "  warnings.warn(msg, category=DeprecationWarning)\n",
            "/home/user/anaconda3/envs/ml/lib/python3.6/site-packages/sklearn/utils/deprecation.py:77: DeprecationWarning: Function delayed is deprecated; deprecated in version 0.20.1 to be removed in version 0.23. Please import this functionality directly from joblib, which can be installed with: pip install joblib.\n",
            "  warnings.warn(msg, category=DeprecationWarning)\n"
          ],
          "name": "stderr"
        },
        {
          "output_type": "stream",
          "text": [
            "/home/user/anaconda3/envs/ml/lib/python3.6/site-packages/sklearn/utils/deprecation.py:77: DeprecationWarning: Function delayed is deprecated; deprecated in version 0.20.1 to be removed in version 0.23. Please import this functionality directly from joblib, which can be installed with: pip install joblib.\n",
            "  warnings.warn(msg, category=DeprecationWarning)\n",
            "/home/user/anaconda3/envs/ml/lib/python3.6/site-packages/sklearn/utils/deprecation.py:77: DeprecationWarning: Function delayed is deprecated; deprecated in version 0.20.1 to be removed in version 0.23. Please import this functionality directly from joblib, which can be installed with: pip install joblib.\n",
            "  warnings.warn(msg, category=DeprecationWarning)\n",
            "/home/user/anaconda3/envs/ml/lib/python3.6/site-packages/sklearn/utils/deprecation.py:77: DeprecationWarning: Function delayed is deprecated; deprecated in version 0.20.1 to be removed in version 0.23. Please import this functionality directly from joblib, which can be installed with: pip install joblib.\n",
            "  warnings.warn(msg, category=DeprecationWarning)\n",
            "/home/user/anaconda3/envs/ml/lib/python3.6/site-packages/sklearn/utils/deprecation.py:77: DeprecationWarning: Function delayed is deprecated; deprecated in version 0.20.1 to be removed in version 0.23. Please import this functionality directly from joblib, which can be installed with: pip install joblib.\n",
            "  warnings.warn(msg, category=DeprecationWarning)\n",
            "/home/user/anaconda3/envs/ml/lib/python3.6/site-packages/sklearn/utils/deprecation.py:77: DeprecationWarning: Function delayed is deprecated; deprecated in version 0.20.1 to be removed in version 0.23. Please import this functionality directly from joblib, which can be installed with: pip install joblib.\n",
            "  warnings.warn(msg, category=DeprecationWarning)\n",
            "/home/user/anaconda3/envs/ml/lib/python3.6/site-packages/sklearn/utils/deprecation.py:77: DeprecationWarning: Function delayed is deprecated; deprecated in version 0.20.1 to be removed in version 0.23. Please import this functionality directly from joblib, which can be installed with: pip install joblib.\n",
            "  warnings.warn(msg, category=DeprecationWarning)\n",
            "/home/user/anaconda3/envs/ml/lib/python3.6/site-packages/sklearn/utils/deprecation.py:77: DeprecationWarning: Function delayed is deprecated; deprecated in version 0.20.1 to be removed in version 0.23. Please import this functionality directly from joblib, which can be installed with: pip install joblib.\n",
            "  warnings.warn(msg, category=DeprecationWarning)\n",
            "/home/user/anaconda3/envs/ml/lib/python3.6/site-packages/sklearn/utils/deprecation.py:77: DeprecationWarning: Function delayed is deprecated; deprecated in version 0.20.1 to be removed in version 0.23. Please import this functionality directly from joblib, which can be installed with: pip install joblib.\n",
            "  warnings.warn(msg, category=DeprecationWarning)\n",
            "/home/user/anaconda3/envs/ml/lib/python3.6/site-packages/sklearn/utils/deprecation.py:77: DeprecationWarning: Function delayed is deprecated; deprecated in version 0.20.1 to be removed in version 0.23. Please import this functionality directly from joblib, which can be installed with: pip install joblib.\n",
            "  warnings.warn(msg, category=DeprecationWarning)\n",
            "/home/user/anaconda3/envs/ml/lib/python3.6/site-packages/sklearn/utils/deprecation.py:77: DeprecationWarning: Function delayed is deprecated; deprecated in version 0.20.1 to be removed in version 0.23. Please import this functionality directly from joblib, which can be installed with: pip install joblib.\n",
            "  warnings.warn(msg, category=DeprecationWarning)\n",
            "/home/user/anaconda3/envs/ml/lib/python3.6/site-packages/sklearn/utils/deprecation.py:77: DeprecationWarning: Function delayed is deprecated; deprecated in version 0.20.1 to be removed in version 0.23. Please import this functionality directly from joblib, which can be installed with: pip install joblib.\n",
            "  warnings.warn(msg, category=DeprecationWarning)\n",
            "/home/user/anaconda3/envs/ml/lib/python3.6/site-packages/sklearn/utils/deprecation.py:77: DeprecationWarning: Function delayed is deprecated; deprecated in version 0.20.1 to be removed in version 0.23. Please import this functionality directly from joblib, which can be installed with: pip install joblib.\n",
            "  warnings.warn(msg, category=DeprecationWarning)\n",
            "/home/user/anaconda3/envs/ml/lib/python3.6/site-packages/sklearn/utils/deprecation.py:77: DeprecationWarning: Function delayed is deprecated; deprecated in version 0.20.1 to be removed in version 0.23. Please import this functionality directly from joblib, which can be installed with: pip install joblib.\n",
            "  warnings.warn(msg, category=DeprecationWarning)\n",
            "/home/user/anaconda3/envs/ml/lib/python3.6/site-packages/sklearn/utils/deprecation.py:77: DeprecationWarning: Function delayed is deprecated; deprecated in version 0.20.1 to be removed in version 0.23. Please import this functionality directly from joblib, which can be installed with: pip install joblib.\n",
            "  warnings.warn(msg, category=DeprecationWarning)\n",
            "/home/user/anaconda3/envs/ml/lib/python3.6/site-packages/sklearn/utils/deprecation.py:77: DeprecationWarning: Function delayed is deprecated; deprecated in version 0.20.1 to be removed in version 0.23. Please import this functionality directly from joblib, which can be installed with: pip install joblib.\n",
            "  warnings.warn(msg, category=DeprecationWarning)\n",
            "/home/user/anaconda3/envs/ml/lib/python3.6/site-packages/sklearn/utils/deprecation.py:77: DeprecationWarning: Function delayed is deprecated; deprecated in version 0.20.1 to be removed in version 0.23. Please import this functionality directly from joblib, which can be installed with: pip install joblib.\n",
            "  warnings.warn(msg, category=DeprecationWarning)\n",
            "/home/user/anaconda3/envs/ml/lib/python3.6/site-packages/sklearn/utils/deprecation.py:77: DeprecationWarning: Function delayed is deprecated; deprecated in version 0.20.1 to be removed in version 0.23. Please import this functionality directly from joblib, which can be installed with: pip install joblib.\n",
            "  warnings.warn(msg, category=DeprecationWarning)\n",
            "/home/user/anaconda3/envs/ml/lib/python3.6/site-packages/sklearn/utils/deprecation.py:77: DeprecationWarning: Function delayed is deprecated; deprecated in version 0.20.1 to be removed in version 0.23. Please import this functionality directly from joblib, which can be installed with: pip install joblib.\n",
            "  warnings.warn(msg, category=DeprecationWarning)\n",
            "/home/user/anaconda3/envs/ml/lib/python3.6/site-packages/sklearn/utils/deprecation.py:77: DeprecationWarning: Function delayed is deprecated; deprecated in version 0.20.1 to be removed in version 0.23. Please import this functionality directly from joblib, which can be installed with: pip install joblib.\n",
            "  warnings.warn(msg, category=DeprecationWarning)\n",
            "/home/user/anaconda3/envs/ml/lib/python3.6/site-packages/sklearn/utils/deprecation.py:77: DeprecationWarning: Function delayed is deprecated; deprecated in version 0.20.1 to be removed in version 0.23. Please import this functionality directly from joblib, which can be installed with: pip install joblib.\n",
            "  warnings.warn(msg, category=DeprecationWarning)\n",
            "/home/user/anaconda3/envs/ml/lib/python3.6/site-packages/sklearn/utils/deprecation.py:77: DeprecationWarning: Function delayed is deprecated; deprecated in version 0.20.1 to be removed in version 0.23. Please import this functionality directly from joblib, which can be installed with: pip install joblib.\n",
            "  warnings.warn(msg, category=DeprecationWarning)\n",
            "/home/user/anaconda3/envs/ml/lib/python3.6/site-packages/sklearn/utils/deprecation.py:77: DeprecationWarning: Function delayed is deprecated; deprecated in version 0.20.1 to be removed in version 0.23. Please import this functionality directly from joblib, which can be installed with: pip install joblib.\n",
            "  warnings.warn(msg, category=DeprecationWarning)\n",
            "/home/user/anaconda3/envs/ml/lib/python3.6/site-packages/sklearn/utils/deprecation.py:77: DeprecationWarning: Function delayed is deprecated; deprecated in version 0.20.1 to be removed in version 0.23. Please import this functionality directly from joblib, which can be installed with: pip install joblib.\n",
            "  warnings.warn(msg, category=DeprecationWarning)\n",
            "/home/user/anaconda3/envs/ml/lib/python3.6/site-packages/sklearn/utils/deprecation.py:77: DeprecationWarning: Function delayed is deprecated; deprecated in version 0.20.1 to be removed in version 0.23. Please import this functionality directly from joblib, which can be installed with: pip install joblib.\n",
            "  warnings.warn(msg, category=DeprecationWarning)\n"
          ],
          "name": "stderr"
        },
        {
          "output_type": "stream",
          "text": [
            "/home/user/anaconda3/envs/ml/lib/python3.6/site-packages/sklearn/utils/deprecation.py:77: DeprecationWarning: Function delayed is deprecated; deprecated in version 0.20.1 to be removed in version 0.23. Please import this functionality directly from joblib, which can be installed with: pip install joblib.\n",
            "  warnings.warn(msg, category=DeprecationWarning)\n",
            "/home/user/anaconda3/envs/ml/lib/python3.6/site-packages/sklearn/utils/deprecation.py:77: DeprecationWarning: Function delayed is deprecated; deprecated in version 0.20.1 to be removed in version 0.23. Please import this functionality directly from joblib, which can be installed with: pip install joblib.\n",
            "  warnings.warn(msg, category=DeprecationWarning)\n",
            "/home/user/anaconda3/envs/ml/lib/python3.6/site-packages/sklearn/utils/deprecation.py:77: DeprecationWarning: Function delayed is deprecated; deprecated in version 0.20.1 to be removed in version 0.23. Please import this functionality directly from joblib, which can be installed with: pip install joblib.\n",
            "  warnings.warn(msg, category=DeprecationWarning)\n",
            "/home/user/anaconda3/envs/ml/lib/python3.6/site-packages/sklearn/utils/deprecation.py:77: DeprecationWarning: Function delayed is deprecated; deprecated in version 0.20.1 to be removed in version 0.23. Please import this functionality directly from joblib, which can be installed with: pip install joblib.\n",
            "  warnings.warn(msg, category=DeprecationWarning)\n",
            "/home/user/anaconda3/envs/ml/lib/python3.6/site-packages/sklearn/utils/deprecation.py:77: DeprecationWarning: Function delayed is deprecated; deprecated in version 0.20.1 to be removed in version 0.23. Please import this functionality directly from joblib, which can be installed with: pip install joblib.\n",
            "  warnings.warn(msg, category=DeprecationWarning)\n",
            "/home/user/anaconda3/envs/ml/lib/python3.6/site-packages/sklearn/utils/deprecation.py:77: DeprecationWarning: Function delayed is deprecated; deprecated in version 0.20.1 to be removed in version 0.23. Please import this functionality directly from joblib, which can be installed with: pip install joblib.\n",
            "  warnings.warn(msg, category=DeprecationWarning)\n",
            "/home/user/anaconda3/envs/ml/lib/python3.6/site-packages/sklearn/utils/deprecation.py:77: DeprecationWarning: Function delayed is deprecated; deprecated in version 0.20.1 to be removed in version 0.23. Please import this functionality directly from joblib, which can be installed with: pip install joblib.\n",
            "  warnings.warn(msg, category=DeprecationWarning)\n",
            "/home/user/anaconda3/envs/ml/lib/python3.6/site-packages/sklearn/utils/deprecation.py:77: DeprecationWarning: Function delayed is deprecated; deprecated in version 0.20.1 to be removed in version 0.23. Please import this functionality directly from joblib, which can be installed with: pip install joblib.\n",
            "  warnings.warn(msg, category=DeprecationWarning)\n",
            "/home/user/anaconda3/envs/ml/lib/python3.6/site-packages/sklearn/utils/deprecation.py:77: DeprecationWarning: Function delayed is deprecated; deprecated in version 0.20.1 to be removed in version 0.23. Please import this functionality directly from joblib, which can be installed with: pip install joblib.\n",
            "  warnings.warn(msg, category=DeprecationWarning)\n",
            "/home/user/anaconda3/envs/ml/lib/python3.6/site-packages/sklearn/utils/deprecation.py:77: DeprecationWarning: Function delayed is deprecated; deprecated in version 0.20.1 to be removed in version 0.23. Please import this functionality directly from joblib, which can be installed with: pip install joblib.\n",
            "  warnings.warn(msg, category=DeprecationWarning)\n",
            "/home/user/anaconda3/envs/ml/lib/python3.6/site-packages/sklearn/utils/deprecation.py:77: DeprecationWarning: Function delayed is deprecated; deprecated in version 0.20.1 to be removed in version 0.23. Please import this functionality directly from joblib, which can be installed with: pip install joblib.\n",
            "  warnings.warn(msg, category=DeprecationWarning)\n",
            "/home/user/anaconda3/envs/ml/lib/python3.6/site-packages/sklearn/utils/deprecation.py:77: DeprecationWarning: Function delayed is deprecated; deprecated in version 0.20.1 to be removed in version 0.23. Please import this functionality directly from joblib, which can be installed with: pip install joblib.\n",
            "  warnings.warn(msg, category=DeprecationWarning)\n",
            "/home/user/anaconda3/envs/ml/lib/python3.6/site-packages/sklearn/utils/deprecation.py:77: DeprecationWarning: Function delayed is deprecated; deprecated in version 0.20.1 to be removed in version 0.23. Please import this functionality directly from joblib, which can be installed with: pip install joblib.\n",
            "  warnings.warn(msg, category=DeprecationWarning)\n",
            "/home/user/anaconda3/envs/ml/lib/python3.6/site-packages/sklearn/utils/deprecation.py:77: DeprecationWarning: Function delayed is deprecated; deprecated in version 0.20.1 to be removed in version 0.23. Please import this functionality directly from joblib, which can be installed with: pip install joblib.\n",
            "  warnings.warn(msg, category=DeprecationWarning)\n",
            "/home/user/anaconda3/envs/ml/lib/python3.6/site-packages/sklearn/utils/deprecation.py:77: DeprecationWarning: Function delayed is deprecated; deprecated in version 0.20.1 to be removed in version 0.23. Please import this functionality directly from joblib, which can be installed with: pip install joblib.\n",
            "  warnings.warn(msg, category=DeprecationWarning)\n",
            "/home/user/anaconda3/envs/ml/lib/python3.6/site-packages/sklearn/utils/deprecation.py:77: DeprecationWarning: Function delayed is deprecated; deprecated in version 0.20.1 to be removed in version 0.23. Please import this functionality directly from joblib, which can be installed with: pip install joblib.\n",
            "  warnings.warn(msg, category=DeprecationWarning)\n",
            "/home/user/anaconda3/envs/ml/lib/python3.6/site-packages/sklearn/utils/deprecation.py:77: DeprecationWarning: Function delayed is deprecated; deprecated in version 0.20.1 to be removed in version 0.23. Please import this functionality directly from joblib, which can be installed with: pip install joblib.\n",
            "  warnings.warn(msg, category=DeprecationWarning)\n",
            "/home/user/anaconda3/envs/ml/lib/python3.6/site-packages/sklearn/utils/deprecation.py:77: DeprecationWarning: Function delayed is deprecated; deprecated in version 0.20.1 to be removed in version 0.23. Please import this functionality directly from joblib, which can be installed with: pip install joblib.\n",
            "  warnings.warn(msg, category=DeprecationWarning)\n",
            "/home/user/anaconda3/envs/ml/lib/python3.6/site-packages/sklearn/utils/deprecation.py:77: DeprecationWarning: Function delayed is deprecated; deprecated in version 0.20.1 to be removed in version 0.23. Please import this functionality directly from joblib, which can be installed with: pip install joblib.\n",
            "  warnings.warn(msg, category=DeprecationWarning)\n",
            "/home/user/anaconda3/envs/ml/lib/python3.6/site-packages/sklearn/utils/deprecation.py:77: DeprecationWarning: Function delayed is deprecated; deprecated in version 0.20.1 to be removed in version 0.23. Please import this functionality directly from joblib, which can be installed with: pip install joblib.\n",
            "  warnings.warn(msg, category=DeprecationWarning)\n",
            "/home/user/anaconda3/envs/ml/lib/python3.6/site-packages/sklearn/utils/deprecation.py:77: DeprecationWarning: Function delayed is deprecated; deprecated in version 0.20.1 to be removed in version 0.23. Please import this functionality directly from joblib, which can be installed with: pip install joblib.\n",
            "  warnings.warn(msg, category=DeprecationWarning)\n",
            "/home/user/anaconda3/envs/ml/lib/python3.6/site-packages/sklearn/utils/deprecation.py:77: DeprecationWarning: Function delayed is deprecated; deprecated in version 0.20.1 to be removed in version 0.23. Please import this functionality directly from joblib, which can be installed with: pip install joblib.\n",
            "  warnings.warn(msg, category=DeprecationWarning)\n",
            "/home/user/anaconda3/envs/ml/lib/python3.6/site-packages/sklearn/utils/deprecation.py:77: DeprecationWarning: Function delayed is deprecated; deprecated in version 0.20.1 to be removed in version 0.23. Please import this functionality directly from joblib, which can be installed with: pip install joblib.\n",
            "  warnings.warn(msg, category=DeprecationWarning)\n",
            "/home/user/anaconda3/envs/ml/lib/python3.6/site-packages/sklearn/utils/deprecation.py:77: DeprecationWarning: Function delayed is deprecated; deprecated in version 0.20.1 to be removed in version 0.23. Please import this functionality directly from joblib, which can be installed with: pip install joblib.\n",
            "  warnings.warn(msg, category=DeprecationWarning)\n"
          ],
          "name": "stderr"
        },
        {
          "output_type": "stream",
          "text": [
            "/home/user/anaconda3/envs/ml/lib/python3.6/site-packages/sklearn/utils/deprecation.py:77: DeprecationWarning: Function delayed is deprecated; deprecated in version 0.20.1 to be removed in version 0.23. Please import this functionality directly from joblib, which can be installed with: pip install joblib.\n",
            "  warnings.warn(msg, category=DeprecationWarning)\n",
            "/home/user/anaconda3/envs/ml/lib/python3.6/site-packages/sklearn/utils/deprecation.py:77: DeprecationWarning: Function delayed is deprecated; deprecated in version 0.20.1 to be removed in version 0.23. Please import this functionality directly from joblib, which can be installed with: pip install joblib.\n",
            "  warnings.warn(msg, category=DeprecationWarning)\n",
            "/home/user/anaconda3/envs/ml/lib/python3.6/site-packages/sklearn/utils/deprecation.py:77: DeprecationWarning: Function delayed is deprecated; deprecated in version 0.20.1 to be removed in version 0.23. Please import this functionality directly from joblib, which can be installed with: pip install joblib.\n",
            "  warnings.warn(msg, category=DeprecationWarning)\n",
            "/home/user/anaconda3/envs/ml/lib/python3.6/site-packages/sklearn/utils/deprecation.py:77: DeprecationWarning: Function delayed is deprecated; deprecated in version 0.20.1 to be removed in version 0.23. Please import this functionality directly from joblib, which can be installed with: pip install joblib.\n",
            "  warnings.warn(msg, category=DeprecationWarning)\n",
            "/home/user/anaconda3/envs/ml/lib/python3.6/site-packages/sklearn/utils/deprecation.py:77: DeprecationWarning: Function delayed is deprecated; deprecated in version 0.20.1 to be removed in version 0.23. Please import this functionality directly from joblib, which can be installed with: pip install joblib.\n",
            "  warnings.warn(msg, category=DeprecationWarning)\n",
            "/home/user/anaconda3/envs/ml/lib/python3.6/site-packages/sklearn/utils/deprecation.py:77: DeprecationWarning: Function delayed is deprecated; deprecated in version 0.20.1 to be removed in version 0.23. Please import this functionality directly from joblib, which can be installed with: pip install joblib.\n",
            "  warnings.warn(msg, category=DeprecationWarning)\n",
            "/home/user/anaconda3/envs/ml/lib/python3.6/site-packages/sklearn/utils/deprecation.py:77: DeprecationWarning: Function delayed is deprecated; deprecated in version 0.20.1 to be removed in version 0.23. Please import this functionality directly from joblib, which can be installed with: pip install joblib.\n",
            "  warnings.warn(msg, category=DeprecationWarning)\n",
            "/home/user/anaconda3/envs/ml/lib/python3.6/site-packages/sklearn/utils/deprecation.py:77: DeprecationWarning: Function delayed is deprecated; deprecated in version 0.20.1 to be removed in version 0.23. Please import this functionality directly from joblib, which can be installed with: pip install joblib.\n",
            "  warnings.warn(msg, category=DeprecationWarning)\n",
            "/home/user/anaconda3/envs/ml/lib/python3.6/site-packages/sklearn/utils/deprecation.py:77: DeprecationWarning: Function delayed is deprecated; deprecated in version 0.20.1 to be removed in version 0.23. Please import this functionality directly from joblib, which can be installed with: pip install joblib.\n",
            "  warnings.warn(msg, category=DeprecationWarning)\n",
            "/home/user/anaconda3/envs/ml/lib/python3.6/site-packages/sklearn/utils/deprecation.py:77: DeprecationWarning: Function delayed is deprecated; deprecated in version 0.20.1 to be removed in version 0.23. Please import this functionality directly from joblib, which can be installed with: pip install joblib.\n",
            "  warnings.warn(msg, category=DeprecationWarning)\n",
            "/home/user/anaconda3/envs/ml/lib/python3.6/site-packages/sklearn/utils/deprecation.py:77: DeprecationWarning: Function delayed is deprecated; deprecated in version 0.20.1 to be removed in version 0.23. Please import this functionality directly from joblib, which can be installed with: pip install joblib.\n",
            "  warnings.warn(msg, category=DeprecationWarning)\n",
            "/home/user/anaconda3/envs/ml/lib/python3.6/site-packages/sklearn/utils/deprecation.py:77: DeprecationWarning: Function delayed is deprecated; deprecated in version 0.20.1 to be removed in version 0.23. Please import this functionality directly from joblib, which can be installed with: pip install joblib.\n",
            "  warnings.warn(msg, category=DeprecationWarning)\n",
            "/home/user/anaconda3/envs/ml/lib/python3.6/site-packages/sklearn/utils/deprecation.py:77: DeprecationWarning: Function delayed is deprecated; deprecated in version 0.20.1 to be removed in version 0.23. Please import this functionality directly from joblib, which can be installed with: pip install joblib.\n",
            "  warnings.warn(msg, category=DeprecationWarning)\n",
            "/home/user/anaconda3/envs/ml/lib/python3.6/site-packages/sklearn/utils/deprecation.py:77: DeprecationWarning: Function delayed is deprecated; deprecated in version 0.20.1 to be removed in version 0.23. Please import this functionality directly from joblib, which can be installed with: pip install joblib.\n",
            "  warnings.warn(msg, category=DeprecationWarning)\n",
            "/home/user/anaconda3/envs/ml/lib/python3.6/site-packages/sklearn/utils/deprecation.py:77: DeprecationWarning: Function delayed is deprecated; deprecated in version 0.20.1 to be removed in version 0.23. Please import this functionality directly from joblib, which can be installed with: pip install joblib.\n",
            "  warnings.warn(msg, category=DeprecationWarning)\n",
            "/home/user/anaconda3/envs/ml/lib/python3.6/site-packages/sklearn/utils/deprecation.py:77: DeprecationWarning: Function delayed is deprecated; deprecated in version 0.20.1 to be removed in version 0.23. Please import this functionality directly from joblib, which can be installed with: pip install joblib.\n",
            "  warnings.warn(msg, category=DeprecationWarning)\n",
            "/home/user/anaconda3/envs/ml/lib/python3.6/site-packages/sklearn/utils/deprecation.py:77: DeprecationWarning: Function delayed is deprecated; deprecated in version 0.20.1 to be removed in version 0.23. Please import this functionality directly from joblib, which can be installed with: pip install joblib.\n",
            "  warnings.warn(msg, category=DeprecationWarning)\n",
            "/home/user/anaconda3/envs/ml/lib/python3.6/site-packages/sklearn/utils/deprecation.py:77: DeprecationWarning: Function delayed is deprecated; deprecated in version 0.20.1 to be removed in version 0.23. Please import this functionality directly from joblib, which can be installed with: pip install joblib.\n",
            "  warnings.warn(msg, category=DeprecationWarning)\n",
            "/home/user/anaconda3/envs/ml/lib/python3.6/site-packages/sklearn/utils/deprecation.py:77: DeprecationWarning: Function delayed is deprecated; deprecated in version 0.20.1 to be removed in version 0.23. Please import this functionality directly from joblib, which can be installed with: pip install joblib.\n",
            "  warnings.warn(msg, category=DeprecationWarning)\n",
            "/home/user/anaconda3/envs/ml/lib/python3.6/site-packages/sklearn/utils/deprecation.py:77: DeprecationWarning: Function delayed is deprecated; deprecated in version 0.20.1 to be removed in version 0.23. Please import this functionality directly from joblib, which can be installed with: pip install joblib.\n",
            "  warnings.warn(msg, category=DeprecationWarning)\n",
            "/home/user/anaconda3/envs/ml/lib/python3.6/site-packages/sklearn/utils/deprecation.py:77: DeprecationWarning: Function delayed is deprecated; deprecated in version 0.20.1 to be removed in version 0.23. Please import this functionality directly from joblib, which can be installed with: pip install joblib.\n",
            "  warnings.warn(msg, category=DeprecationWarning)\n",
            "/home/user/anaconda3/envs/ml/lib/python3.6/site-packages/sklearn/utils/deprecation.py:77: DeprecationWarning: Function delayed is deprecated; deprecated in version 0.20.1 to be removed in version 0.23. Please import this functionality directly from joblib, which can be installed with: pip install joblib.\n",
            "  warnings.warn(msg, category=DeprecationWarning)\n",
            "/home/user/anaconda3/envs/ml/lib/python3.6/site-packages/sklearn/utils/deprecation.py:77: DeprecationWarning: Function delayed is deprecated; deprecated in version 0.20.1 to be removed in version 0.23. Please import this functionality directly from joblib, which can be installed with: pip install joblib.\n",
            "  warnings.warn(msg, category=DeprecationWarning)\n",
            "/home/user/anaconda3/envs/ml/lib/python3.6/site-packages/sklearn/utils/deprecation.py:77: DeprecationWarning: Function delayed is deprecated; deprecated in version 0.20.1 to be removed in version 0.23. Please import this functionality directly from joblib, which can be installed with: pip install joblib.\n",
            "  warnings.warn(msg, category=DeprecationWarning)\n"
          ],
          "name": "stderr"
        },
        {
          "output_type": "stream",
          "text": [
            "/home/user/anaconda3/envs/ml/lib/python3.6/site-packages/sklearn/utils/deprecation.py:77: DeprecationWarning: Function delayed is deprecated; deprecated in version 0.20.1 to be removed in version 0.23. Please import this functionality directly from joblib, which can be installed with: pip install joblib.\n",
            "  warnings.warn(msg, category=DeprecationWarning)\n",
            "/home/user/anaconda3/envs/ml/lib/python3.6/site-packages/sklearn/utils/deprecation.py:77: DeprecationWarning: Function delayed is deprecated; deprecated in version 0.20.1 to be removed in version 0.23. Please import this functionality directly from joblib, which can be installed with: pip install joblib.\n",
            "  warnings.warn(msg, category=DeprecationWarning)\n",
            "/home/user/anaconda3/envs/ml/lib/python3.6/site-packages/sklearn/utils/deprecation.py:77: DeprecationWarning: Function delayed is deprecated; deprecated in version 0.20.1 to be removed in version 0.23. Please import this functionality directly from joblib, which can be installed with: pip install joblib.\n",
            "  warnings.warn(msg, category=DeprecationWarning)\n",
            "/home/user/anaconda3/envs/ml/lib/python3.6/site-packages/sklearn/utils/deprecation.py:77: DeprecationWarning: Function delayed is deprecated; deprecated in version 0.20.1 to be removed in version 0.23. Please import this functionality directly from joblib, which can be installed with: pip install joblib.\n",
            "  warnings.warn(msg, category=DeprecationWarning)\n",
            "/home/user/anaconda3/envs/ml/lib/python3.6/site-packages/sklearn/utils/deprecation.py:77: DeprecationWarning: Function delayed is deprecated; deprecated in version 0.20.1 to be removed in version 0.23. Please import this functionality directly from joblib, which can be installed with: pip install joblib.\n",
            "  warnings.warn(msg, category=DeprecationWarning)\n",
            "/home/user/anaconda3/envs/ml/lib/python3.6/site-packages/sklearn/utils/deprecation.py:77: DeprecationWarning: Function delayed is deprecated; deprecated in version 0.20.1 to be removed in version 0.23. Please import this functionality directly from joblib, which can be installed with: pip install joblib.\n",
            "  warnings.warn(msg, category=DeprecationWarning)\n",
            "/home/user/anaconda3/envs/ml/lib/python3.6/site-packages/sklearn/utils/deprecation.py:77: DeprecationWarning: Function delayed is deprecated; deprecated in version 0.20.1 to be removed in version 0.23. Please import this functionality directly from joblib, which can be installed with: pip install joblib.\n",
            "  warnings.warn(msg, category=DeprecationWarning)\n",
            "/home/user/anaconda3/envs/ml/lib/python3.6/site-packages/sklearn/utils/deprecation.py:77: DeprecationWarning: Function delayed is deprecated; deprecated in version 0.20.1 to be removed in version 0.23. Please import this functionality directly from joblib, which can be installed with: pip install joblib.\n",
            "  warnings.warn(msg, category=DeprecationWarning)\n",
            "/home/user/anaconda3/envs/ml/lib/python3.6/site-packages/sklearn/utils/deprecation.py:77: DeprecationWarning: Function delayed is deprecated; deprecated in version 0.20.1 to be removed in version 0.23. Please import this functionality directly from joblib, which can be installed with: pip install joblib.\n",
            "  warnings.warn(msg, category=DeprecationWarning)\n",
            "/home/user/anaconda3/envs/ml/lib/python3.6/site-packages/sklearn/utils/deprecation.py:77: DeprecationWarning: Function delayed is deprecated; deprecated in version 0.20.1 to be removed in version 0.23. Please import this functionality directly from joblib, which can be installed with: pip install joblib.\n",
            "  warnings.warn(msg, category=DeprecationWarning)\n",
            "/home/user/anaconda3/envs/ml/lib/python3.6/site-packages/sklearn/utils/deprecation.py:77: DeprecationWarning: Function delayed is deprecated; deprecated in version 0.20.1 to be removed in version 0.23. Please import this functionality directly from joblib, which can be installed with: pip install joblib.\n",
            "  warnings.warn(msg, category=DeprecationWarning)\n",
            "/home/user/anaconda3/envs/ml/lib/python3.6/site-packages/sklearn/utils/deprecation.py:77: DeprecationWarning: Function delayed is deprecated; deprecated in version 0.20.1 to be removed in version 0.23. Please import this functionality directly from joblib, which can be installed with: pip install joblib.\n",
            "  warnings.warn(msg, category=DeprecationWarning)\n",
            "/home/user/anaconda3/envs/ml/lib/python3.6/site-packages/sklearn/utils/deprecation.py:77: DeprecationWarning: Function delayed is deprecated; deprecated in version 0.20.1 to be removed in version 0.23. Please import this functionality directly from joblib, which can be installed with: pip install joblib.\n",
            "  warnings.warn(msg, category=DeprecationWarning)\n",
            "/home/user/anaconda3/envs/ml/lib/python3.6/site-packages/sklearn/utils/deprecation.py:77: DeprecationWarning: Function delayed is deprecated; deprecated in version 0.20.1 to be removed in version 0.23. Please import this functionality directly from joblib, which can be installed with: pip install joblib.\n",
            "  warnings.warn(msg, category=DeprecationWarning)\n",
            "/home/user/anaconda3/envs/ml/lib/python3.6/site-packages/sklearn/utils/deprecation.py:77: DeprecationWarning: Function delayed is deprecated; deprecated in version 0.20.1 to be removed in version 0.23. Please import this functionality directly from joblib, which can be installed with: pip install joblib.\n",
            "  warnings.warn(msg, category=DeprecationWarning)\n",
            "/home/user/anaconda3/envs/ml/lib/python3.6/site-packages/sklearn/utils/deprecation.py:77: DeprecationWarning: Function delayed is deprecated; deprecated in version 0.20.1 to be removed in version 0.23. Please import this functionality directly from joblib, which can be installed with: pip install joblib.\n",
            "  warnings.warn(msg, category=DeprecationWarning)\n",
            "/home/user/anaconda3/envs/ml/lib/python3.6/site-packages/sklearn/utils/deprecation.py:77: DeprecationWarning: Function delayed is deprecated; deprecated in version 0.20.1 to be removed in version 0.23. Please import this functionality directly from joblib, which can be installed with: pip install joblib.\n",
            "  warnings.warn(msg, category=DeprecationWarning)\n",
            "/home/user/anaconda3/envs/ml/lib/python3.6/site-packages/sklearn/utils/deprecation.py:77: DeprecationWarning: Function delayed is deprecated; deprecated in version 0.20.1 to be removed in version 0.23. Please import this functionality directly from joblib, which can be installed with: pip install joblib.\n",
            "  warnings.warn(msg, category=DeprecationWarning)\n",
            "/home/user/anaconda3/envs/ml/lib/python3.6/site-packages/sklearn/utils/deprecation.py:77: DeprecationWarning: Function delayed is deprecated; deprecated in version 0.20.1 to be removed in version 0.23. Please import this functionality directly from joblib, which can be installed with: pip install joblib.\n",
            "  warnings.warn(msg, category=DeprecationWarning)\n",
            "/home/user/anaconda3/envs/ml/lib/python3.6/site-packages/sklearn/utils/deprecation.py:77: DeprecationWarning: Function delayed is deprecated; deprecated in version 0.20.1 to be removed in version 0.23. Please import this functionality directly from joblib, which can be installed with: pip install joblib.\n",
            "  warnings.warn(msg, category=DeprecationWarning)\n",
            "/home/user/anaconda3/envs/ml/lib/python3.6/site-packages/sklearn/utils/deprecation.py:77: DeprecationWarning: Function delayed is deprecated; deprecated in version 0.20.1 to be removed in version 0.23. Please import this functionality directly from joblib, which can be installed with: pip install joblib.\n",
            "  warnings.warn(msg, category=DeprecationWarning)\n",
            "/home/user/anaconda3/envs/ml/lib/python3.6/site-packages/sklearn/utils/deprecation.py:77: DeprecationWarning: Function delayed is deprecated; deprecated in version 0.20.1 to be removed in version 0.23. Please import this functionality directly from joblib, which can be installed with: pip install joblib.\n",
            "  warnings.warn(msg, category=DeprecationWarning)\n",
            "/home/user/anaconda3/envs/ml/lib/python3.6/site-packages/sklearn/utils/deprecation.py:77: DeprecationWarning: Function delayed is deprecated; deprecated in version 0.20.1 to be removed in version 0.23. Please import this functionality directly from joblib, which can be installed with: pip install joblib.\n",
            "  warnings.warn(msg, category=DeprecationWarning)\n",
            "/home/user/anaconda3/envs/ml/lib/python3.6/site-packages/sklearn/utils/deprecation.py:77: DeprecationWarning: Function delayed is deprecated; deprecated in version 0.20.1 to be removed in version 0.23. Please import this functionality directly from joblib, which can be installed with: pip install joblib.\n",
            "  warnings.warn(msg, category=DeprecationWarning)\n"
          ],
          "name": "stderr"
        },
        {
          "output_type": "stream",
          "text": [
            "/home/user/anaconda3/envs/ml/lib/python3.6/site-packages/sklearn/utils/deprecation.py:77: DeprecationWarning: Function delayed is deprecated; deprecated in version 0.20.1 to be removed in version 0.23. Please import this functionality directly from joblib, which can be installed with: pip install joblib.\n",
            "  warnings.warn(msg, category=DeprecationWarning)\n",
            "/home/user/anaconda3/envs/ml/lib/python3.6/site-packages/sklearn/utils/deprecation.py:77: DeprecationWarning: Function delayed is deprecated; deprecated in version 0.20.1 to be removed in version 0.23. Please import this functionality directly from joblib, which can be installed with: pip install joblib.\n",
            "  warnings.warn(msg, category=DeprecationWarning)\n",
            "/home/user/anaconda3/envs/ml/lib/python3.6/site-packages/sklearn/utils/deprecation.py:77: DeprecationWarning: Function delayed is deprecated; deprecated in version 0.20.1 to be removed in version 0.23. Please import this functionality directly from joblib, which can be installed with: pip install joblib.\n",
            "  warnings.warn(msg, category=DeprecationWarning)\n",
            "/home/user/anaconda3/envs/ml/lib/python3.6/site-packages/sklearn/utils/deprecation.py:77: DeprecationWarning: Function delayed is deprecated; deprecated in version 0.20.1 to be removed in version 0.23. Please import this functionality directly from joblib, which can be installed with: pip install joblib.\n",
            "  warnings.warn(msg, category=DeprecationWarning)\n",
            "/home/user/anaconda3/envs/ml/lib/python3.6/site-packages/sklearn/utils/deprecation.py:77: DeprecationWarning: Function delayed is deprecated; deprecated in version 0.20.1 to be removed in version 0.23. Please import this functionality directly from joblib, which can be installed with: pip install joblib.\n",
            "  warnings.warn(msg, category=DeprecationWarning)\n",
            "/home/user/anaconda3/envs/ml/lib/python3.6/site-packages/sklearn/utils/deprecation.py:77: DeprecationWarning: Function delayed is deprecated; deprecated in version 0.20.1 to be removed in version 0.23. Please import this functionality directly from joblib, which can be installed with: pip install joblib.\n",
            "  warnings.warn(msg, category=DeprecationWarning)\n",
            "/home/user/anaconda3/envs/ml/lib/python3.6/site-packages/sklearn/utils/deprecation.py:77: DeprecationWarning: Function delayed is deprecated; deprecated in version 0.20.1 to be removed in version 0.23. Please import this functionality directly from joblib, which can be installed with: pip install joblib.\n",
            "  warnings.warn(msg, category=DeprecationWarning)\n",
            "/home/user/anaconda3/envs/ml/lib/python3.6/site-packages/sklearn/utils/deprecation.py:77: DeprecationWarning: Function delayed is deprecated; deprecated in version 0.20.1 to be removed in version 0.23. Please import this functionality directly from joblib, which can be installed with: pip install joblib.\n",
            "  warnings.warn(msg, category=DeprecationWarning)\n",
            "/home/user/anaconda3/envs/ml/lib/python3.6/site-packages/sklearn/utils/deprecation.py:77: DeprecationWarning: Function delayed is deprecated; deprecated in version 0.20.1 to be removed in version 0.23. Please import this functionality directly from joblib, which can be installed with: pip install joblib.\n",
            "  warnings.warn(msg, category=DeprecationWarning)\n",
            "/home/user/anaconda3/envs/ml/lib/python3.6/site-packages/sklearn/utils/deprecation.py:77: DeprecationWarning: Function delayed is deprecated; deprecated in version 0.20.1 to be removed in version 0.23. Please import this functionality directly from joblib, which can be installed with: pip install joblib.\n",
            "  warnings.warn(msg, category=DeprecationWarning)\n",
            "/home/user/anaconda3/envs/ml/lib/python3.6/site-packages/sklearn/utils/deprecation.py:77: DeprecationWarning: Function delayed is deprecated; deprecated in version 0.20.1 to be removed in version 0.23. Please import this functionality directly from joblib, which can be installed with: pip install joblib.\n",
            "  warnings.warn(msg, category=DeprecationWarning)\n"
          ],
          "name": "stderr"
        },
        {
          "output_type": "execute_result",
          "data": {
            "text/plain": [
              "RandomizedLogisticRegression(C=0.13, fit_intercept=True, memory=None,\n",
              "               n_jobs=None, n_resampling=200, normalize=True,\n",
              "               pre_dispatch='3*n_jobs', random_state=None,\n",
              "               sample_fraction=0.75, scaling=0.5, selection_threshold=0.25,\n",
              "               tol=0.001, verbose=False)"
            ]
          },
          "metadata": {
            "tags": []
          },
          "execution_count": 18
        }
      ]
    },
    {
      "cell_type": "code",
      "metadata": {
        "id": "p8dVbpgU7goT",
        "outputId": "f9c4ae96-df9e-4164-dff8-70acd5350996"
      },
      "source": [
        "#Посмотрим, сколько признаков отбирается\n",
        "np.sum(rlg.scores_ > 0)"
      ],
      "execution_count": null,
      "outputs": [
        {
          "output_type": "execute_result",
          "data": {
            "text/plain": [
              "13"
            ]
          },
          "metadata": {
            "tags": []
          },
          "execution_count": 12
        }
      ]
    },
    {
      "cell_type": "code",
      "metadata": {
        "id": "-fF0vXCU7goT"
      },
      "source": [
        "#Настроим логистическую регрессию на отобранных признаках:\n",
        "X_train_lasso = X_train[:, rlg.scores_ > 0]\n",
        "X_test_lasso = X_test[:, rlg.scores_ > 0]"
      ],
      "execution_count": null,
      "outputs": []
    },
    {
      "cell_type": "code",
      "metadata": {
        "id": "AKgRJl0g7goU",
        "outputId": "5355bf12-bd07-4df3-bf64-a506720ec9e5"
      },
      "source": [
        "clf = LogisticRegression(C=1)\n",
        "clf.fit(X_train_lasso, y_train)\n",
        "print(metrics.accuracy_score(y_test, clf.predict(X_test_lasso)))\n",
        "print(metrics.roc_auc_score(y_test, clf.predict_proba(X_test_lasso)[:, 1]))"
      ],
      "execution_count": null,
      "outputs": [
        {
          "output_type": "stream",
          "text": [
            "0.73696\n",
            "0.8105926603014637\n"
          ],
          "name": "stdout"
        }
      ]
    },
    {
      "cell_type": "markdown",
      "metadata": {
        "id": "ayxN__YdA-sS"
      },
      "source": [
        "В этот раз качество модели ощутимо уменьшилось. "
      ]
    },
    {
      "cell_type": "markdown",
      "metadata": {
        "id": "jdr_IW7X7goU"
      },
      "source": [
        "## Метод главных компонент"
      ]
    },
    {
      "cell_type": "markdown",
      "metadata": {
        "id": "x2e-dvqv7goU"
      },
      "source": [
        "Сделаем 100 синтетических признаков с помощью метода главных компонент:"
      ]
    },
    {
      "cell_type": "code",
      "metadata": {
        "id": "f0sIFhh97goV"
      },
      "source": [
        "from sklearn.decomposition import TruncatedSVD\n",
        "tsvd = TruncatedSVD(n_components=100)\n",
        "X_train_pca = tsvd.fit_transform(X_train)\n",
        "X_test_pca = tsvd.transform(X_test)"
      ],
      "execution_count": null,
      "outputs": []
    },
    {
      "cell_type": "markdown",
      "metadata": {
        "id": "aivtOD7R7goV"
      },
      "source": [
        "Обучим на них логистическую регрессию:"
      ]
    },
    {
      "cell_type": "code",
      "metadata": {
        "id": "u7HzttjY7goV",
        "outputId": "e841c943-85bf-4f65-c8d6-0ad5267b5c4a"
      },
      "source": [
        "clf = LogisticRegression()\n",
        "clf.fit(X_train_pca, y_train)\n",
        "print(metrics.accuracy_score(y_test, clf.predict(X_test_pca)))\n",
        "print(metrics.roc_auc_score(y_test, clf.predict_proba(X_test_pca)[:, 1]))"
      ],
      "execution_count": null,
      "outputs": [
        {
          "output_type": "stream",
          "text": [
            "0.85584\n",
            "0.9370604847898281\n"
          ],
          "name": "stdout"
        }
      ]
    },
    {
      "cell_type": "markdown",
      "metadata": {
        "id": "xD-_EsSE7goW"
      },
      "source": [
        "По 100 полученных таким способом признакам качество получается не намного хуже, чем по всем 66702\n",
        "\n",
        "Попробуем обучить на них обучить случайный лес:"
      ]
    },
    {
      "cell_type": "code",
      "metadata": {
        "id": "1TVHgWOd7goW",
        "outputId": "3c86bde6-3539-44c4-9d0e-273aefc8f399"
      },
      "source": [
        "from sklearn.ensemble import RandomForestClassifier\n",
        "clf = RandomForestClassifier(n_estimators=100)\n",
        "clf.fit(X_train_pca, y_train)\n",
        "print(metrics.accuracy_score(y_test, clf.predict(X_test_pca)))\n",
        "print(metrics.roc_auc_score(y_test, clf.predict_proba(X_test_pca)[:, 1]))"
      ],
      "execution_count": null,
      "outputs": [
        {
          "output_type": "stream",
          "text": [
            "0.82512\n",
            "0.9038591666858699\n"
          ],
          "name": "stdout"
        }
      ]
    },
    {
      "cell_type": "markdown",
      "metadata": {
        "id": "psJl8xc67goW"
      },
      "source": [
        "Признаки, которые даёт метод главных компонент, оптимальны для линейных методов, поэтому логистическая регрессия показывает результаты лучше, чем сложные нелинейные классификаторы."
      ]
    }
  ]
}